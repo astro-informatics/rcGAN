{
 "cells": [
  {
   "cell_type": "markdown",
   "metadata": {},
   "source": [
    "A notebook to calculate comparison metrics for the GAN reconstructions, such as the Pearson correlation coefficient and RMSE."
   ]
  },
  {
   "cell_type": "code",
   "execution_count": 13,
   "metadata": {},
   "outputs": [],
   "source": [
    "# Imports list\n",
    "import numpy as np\n",
    "import matplotlib.pyplot as plt\n",
    "from tabulate import tabulate\n"
   ]
  },
  {
   "cell_type": "code",
   "execution_count": 3,
   "metadata": {},
   "outputs": [],
   "source": [
    "# Load the samples (there are 20 sets of data):\n",
    "\n",
    "data_dir = \"/Users/jw/Documents/cGAN_project_1/samples/\"\n",
    "\n",
    "np_gts = {f\"{i}\": np.load(data_dir+f\"np_gt_{i}.npy\") for i in range(1, 21)}\n",
    "np_samps = {f\"{i}\": np.load(data_dir+f\"np_samps_{i}.npy\") for i in range(1, 21)}\n",
    "np_avgs = {f\"{i}\": np.load(data_dir+f\"np_avgs_{i}.npy\") for i in range(1, 21)}\n",
    "np_stds = {f\"{i}\": np.load(data_dir+f\"np_stds_{i}.npy\") for i in range(1, 21)}\n",
    "np_kss = {f\"{i}\": np.load(data_dir+f\"np_kss_{i}.npy\") for i in range(1, 21)}\n",
    "\n",
    "#array['i'] to access the i-th ground truth, reconstruction, standard deviation, and Kaiser-Squires map; \n",
    "# for individual posterior samples np_samps['i']['j'] where j is in range [0,31].\n",
    "\n",
    "mask =  np.load(\n",
    "    data_dir + 'cosmos_mask.npy', allow_pickle=True\n",
    ").astype(bool)\n",
    "\n"
   ]
  },
  {
   "cell_type": "code",
   "execution_count": 4,
   "metadata": {},
   "outputs": [],
   "source": [
    "def rmse(a:np.ndarray, b:np.ndarray, mask:bool)->float:\n",
    "    '''\n",
    "    args:\n",
    "        a (np.ndarray): ground truth\n",
    "        b (np.ndarray): reconstruction\n",
    "        mask (bool): mask\n",
    "    returns:\n",
    "        rmse (float): root mean squared error\n",
    "    '''\n",
    "    a = a[mask==1]\n",
    "    b = b[mask==1]\n",
    "    return(np.sqrt(np.mean(np.square(a-b))))\n",
    "\n",
    "def pearsoncoeff(a:np.ndarray, b:np.ndarray, mask:bool)->float:\n",
    "    '''\n",
    "    args:\n",
    "        a (np.ndarray): ground truth\n",
    "        b (np.ndarray): reconstruction\n",
    "        mask (bool): mask\n",
    "    returns:\n",
    "        pearson (float): Pearson correlation coefficient\n",
    "    '''\n",
    "    a = a[mask==1]\n",
    "    b = b[mask==1]\n",
    "    a -= np.mean(a)\n",
    "    b -= np.mean(b)\n",
    "    num = np.sum(a*b)\n",
    "    denom = np.sqrt(np.sum(a**2)*np.sum(b**2))\n",
    "    return num/denom\n",
    "\n",
    "def psnr(a:np.ndarray, b:np.ndarray, mask:bool)->float:\n",
    "    '''\n",
    "    args:\n",
    "        a (np.ndarray): ground truth\n",
    "        b (np.ndarray): reconstruction\n",
    "        mask (bool): mask\n",
    "    returns:\n",
    "        psnr (float): peak signal-to-noise ratio\n",
    "    '''\n",
    "    a = a[mask==1]\n",
    "    b = b[mask==1]\n",
    "    mse = np.mean((a-b)**2)\n",
    "    r = a.max()\n",
    "    return 10*np.log10(r/mse)\n",
    "\n",
    "def SNR(a:np.ndarray, b:np.ndarray, mask:bool)->float:\n",
    "    '''\n",
    "    args:\n",
    "        a (np.ndarray): ground truth\n",
    "        b (np.ndarray): reconstruction\n",
    "        mask (bool): mask\n",
    "    returns:\n",
    "        snr (float): signal-to-noise ratio\n",
    "    '''\n",
    "    a = a[mask==1]\n",
    "    b = b[mask==1]\n",
    "    signal = np.mean(a**2)\n",
    "    noise = np.mean((a-b)**2)\n",
    "    return 10*np.log10(signal/noise)"
   ]
  },
  {
   "cell_type": "code",
   "execution_count": 8,
   "metadata": {},
   "outputs": [],
   "source": [
    "# Calculate the RMSE and Pearson correlation coefficient for the Kaiser-Squires and GAN reconstructions for the 20 samples\n",
    "\n",
    "r_ks = []\n",
    "r_gan = []\n",
    "rmse_ks = []\n",
    "rmse_gan = []\n",
    "psnr_ks = []\n",
    "psnr_gan = []\n",
    "snr_ks = []\n",
    "snr_gan = []\n",
    "\n",
    "for n in range(1,21):\n",
    "    num = f'{n}'\n",
    "    # Gets the real component of the truth, Kaiser-Squires, and GAN reconstruction\n",
    "    gt = np_gts[num].real\n",
    "    ks = np_kss[num].real\n",
    "    gan = np_avgs[num].real\n",
    "\n",
    "    r_gan.append(pearsoncoeff(gt, gan, mask))\n",
    "    r_ks.append(pearsoncoeff(gt, ks, mask))\n",
    "\n",
    "    rmse_ks.append(rmse(ks, gt, mask))\n",
    "    rmse_gan.append(rmse(gan, gt, mask))\n",
    "\n",
    "    psnr_ks.append(psnr(gt, ks, mask))\n",
    "    psnr_gan.append(psnr(gt, gan, mask))\n",
    "\n",
    "    snr_ks.append(SNR(gt, ks, mask))\n",
    "    snr_gan.append(SNR(gt, gan, mask))\n"
   ]
  },
  {
   "cell_type": "code",
   "execution_count": 10,
   "metadata": {},
   "outputs": [
    {
     "name": "stdout",
     "output_type": "stream",
     "text": [
      "20 20 20 20 20 20 20 20\n"
     ]
    }
   ],
   "source": [
    "# Size of each list should be 20 elements\n",
    "print(len(r_ks), len(r_gan), len(rmse_ks), len(rmse_gan), len(psnr_ks), len(psnr_gan), len(snr_ks), len(snr_gan))"
   ]
  },
  {
   "cell_type": "code",
   "execution_count": 19,
   "metadata": {},
   "outputs": [
    {
     "name": "stdout",
     "output_type": "stream",
     "text": [
      "+----------------+---------------------+----------------------+\n",
      "|     Metric     |   Kaiser-Squires    |         GAN          |\n",
      "+----------------+---------------------+----------------------+\n",
      "| Pearson (high) | 0.6312626897667656  |   0.59563148021698   |\n",
      "|   RMSE (low)   | 0.02279908481346339 | 0.023942112922668457 |\n",
      "|  PSNR (high)   | 30.241129366212068  |  29.82318949699402   |\n",
      "|   SNR (high)   |  2.152504696504617  |  1.734564732760191   |\n",
      "+----------------+---------------------+----------------------+\n"
     ]
    }
   ],
   "source": [
    "head = ['Metric', 'Kaiser-Squires', 'GAN']\n",
    "table = [['Pearson (high)', np.mean(r_ks), np.mean(r_gan)],['RMSE (low)', np.mean(rmse_ks), np.mean(rmse_gan)],['PSNR (high)', np.mean(psnr_ks), np.mean(psnr_gan)],['SNR (high)', np.mean(snr_ks), np.mean(snr_gan)]]\n",
    "\n",
    "print(tabulate(table, headers=head, tablefmt='pretty'))"
   ]
  },
  {
   "cell_type": "code",
   "execution_count": null,
   "metadata": {},
   "outputs": [],
   "source": []
  },
  {
   "cell_type": "code",
   "execution_count": null,
   "metadata": {},
   "outputs": [],
   "source": []
  },
  {
   "cell_type": "code",
   "execution_count": null,
   "metadata": {},
   "outputs": [],
   "source": []
  },
  {
   "cell_type": "markdown",
   "metadata": {},
   "source": [
    "Making the Kaiser-Squires maps:"
   ]
  },
  {
   "cell_type": "code",
   "execution_count": 16,
   "metadata": {},
   "outputs": [
    {
     "name": "stderr",
     "output_type": "stream",
     "text": [
      "/users/jw/Documents/cGAN_project_1/rcGAN/fastmri/__init__.py:16: UserWarning: Could not retrieve fastmri version!\n",
      "  warnings.warn(\"Could not retrieve fastmri version!\")\n"
     ]
    }
   ],
   "source": [
    "import sys\n",
    "dir = '/users/jw/Documents/cGAN_project_1/rcGAN/'\n",
    "sys.path.append(dir)\n",
    "from data.lightning.MassMappingDataModule import MMDataTransform\n",
    "from mass_map_utils.scripts.ks_utils import backward_model\n",
    "from scipy import ndimage"
   ]
  },
  {
   "cell_type": "code",
   "execution_count": 17,
   "metadata": {},
   "outputs": [],
   "source": [
    "std1 = np.load(data_dir + 'cosmos_std1.npy', allow_pickle=True)\n",
    "std2 = np.load(data_dir + 'cosmos_std2.npy', allow_pickle=True)"
   ]
  },
  {
   "cell_type": "code",
   "execution_count": 24,
   "metadata": {},
   "outputs": [
    {
     "name": "stderr",
     "output_type": "stream",
     "text": [
      "/users/jw/Documents/cGAN_project_1/rcGAN/mass_map_utils/scripts/ks_utils.py:15: RuntimeWarning: divide by zero encountered in divide\n",
      "  𝓕𝜅 = 𝓕γ / 𝒟 # Map convergence onto shear\n"
     ]
    }
   ],
   "source": [
    "kernel = MMDataTransform.compute_fourier_kernel(300)\n",
    "for i in range(1, 21):\n",
    "    num = f'{i}'\n",
    "    gamma_sim = MMDataTransform.forward_model(np_gts[num], kernel) + (\n",
    "                std1 * np.random.randn(300, 300) + 1.j * std2 * np.random.randn(300,300)\n",
    "            )\n",
    "    gamma_sim *= mask\n",
    "    backward = backward_model(gamma_sim, kernel)\n",
    "    ks = ndimage.gaussian_filter(backward, sigma=1/.29)\n",
    "    np.save(data_dir+f'np_kss_{i}.npy', ks)"
   ]
  }
 ],
 "metadata": {
  "kernelspec": {
   "display_name": "cgan",
   "language": "python",
   "name": "python3"
  },
  "language_info": {
   "codemirror_mode": {
    "name": "ipython",
    "version": 3
   },
   "file_extension": ".py",
   "mimetype": "text/x-python",
   "name": "python",
   "nbconvert_exporter": "python",
   "pygments_lexer": "ipython3",
   "version": "3.10.9"
  }
 },
 "nbformat": 4,
 "nbformat_minor": 2
}
