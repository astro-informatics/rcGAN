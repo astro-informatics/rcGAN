{
 "cells": [
  {
   "cell_type": "markdown",
   "metadata": {},
   "source": [
    "A notebook to calculate comparison metrics for the GAN reconstructions, such as the Pearson correlation coefficient and RMSE."
   ]
  },
  {
   "cell_type": "code",
   "execution_count": 1,
   "metadata": {},
   "outputs": [],
   "source": [
    "# Imports list\n",
    "import numpy as np\n",
    "import matplotlib.pyplot as plt\n",
    "from tabulate import tabulate\n",
    "import yaml\n",
    "import json\n",
    "import types\n",
    "import sys\n",
    "dir = '/home/jjwhit/rcGAN/'\n",
    "sys.path.append(dir)\n",
    "from mass_map_utils.scripts.ks_utils import rmse, pearsoncoeff, psnr, snr\n",
    "from data.lightning.MassMappingDataModule import MMDataTransform\n",
    "from mass_map_utils.scripts.ks_utils import backward_model\n",
    "from scipy import ndimage\n"
   ]
  },
  {
   "cell_type": "code",
   "execution_count": null,
   "metadata": {},
   "outputs": [],
   "source": [
    "def load_object(dct):\n",
    "    return types.SimpleNamespace(**dct)"
   ]
  },
  {
   "cell_type": "code",
   "execution_count": null,
   "metadata": {},
   "outputs": [],
   "source": [
    "with open(dir+'configs/mass_map.yml', 'r') as f:\n",
    "    cfg = yaml.load(f, Loader=yaml.FullLoader)\n",
    "    cfg = json.loads(json.dumps(cfg), object_hook=load_object)\n"
   ]
  },
  {
   "cell_type": "code",
   "execution_count": 32,
   "metadata": {},
   "outputs": [],
   "source": [
    "# Load the samples (there are 20 sets of data):\n",
    "\n",
    "data_dir = cfg.save_path\n",
    "\n",
    "np_gts = {f\"{i}\": np.load(data_dir+f\"np_gt_{i}.npy\") for i in range(1, 11)}\n",
    "np_samps = {f\"{i}\": np.load(data_dir+f\"np_samps_{i}.npy\") for i in range(1, 11)}\n",
    "np_avgs = {f\"{i}\": np.load(data_dir+f\"np_avgs_{i}.npy\") for i in range(1, 11)}\n",
    "np_stds = {f\"{i}\": np.load(data_dir+f\"np_stds_{i}.npy\") for i in range(1, 11)}\n",
    "\n",
    "\n",
    "#array['i'] to access the i-th ground truth, reconstruction, standard deviation, and Kaiser-Squires map; \n",
    "# for individual posterior samples np_samps['i']['j'] where j is in range [0,31].\n",
    "\n",
    "mask =  np.load(\n",
    "    data_dir + 'cosmos_mask.npy', allow_pickle=True\n",
    ").astype(bool)\n",
    "std1 = np.load(data_dir + 'cosmos_std1.npy', allow_pickle=True)\n",
    "std2 = np.load(data_dir + 'cosmos_std2.npy', allow_pickle=True)"
   ]
  },
  {
   "cell_type": "code",
   "execution_count": null,
   "metadata": {},
   "outputs": [],
   "source": [
    "kernel = MMDataTransform.compute_fourier_kernel(cfg.im_size)\n",
    "np_kss = {}\n",
    "for i in range(1, 11):\n",
    "    num = f'{i}'\n",
    "    gamma_sim = MMDataTransform.forward_model(np_gts[num], kernel) + (\n",
    "                std1 * np.random.randn(cfg.im_size, cfg.im_size) + 1.j * std2 * np.random.randn(cfg.im_size,cfg.im_size)\n",
    "            )\n",
    "    gamma_sim *= mask\n",
    "    backward = backward_model(gamma_sim, kernel)\n",
    "    ks = ndimage.gaussian_filter(backward, sigma=1/.29)\n",
    "\n",
    "    np.save(data_dir+f'np_kss_{i}.npy', ks)\n",
    "    np_kss[num] = ks"
   ]
  },
  {
   "cell_type": "code",
   "execution_count": null,
   "metadata": {},
   "outputs": [],
   "source": [
    "# np_kss = {f\"{i}\": np.load(data_dir+f\"np_kss_{i}.npy\") for i in range(1, 11)}"
   ]
  },
  {
   "cell_type": "code",
   "execution_count": 37,
   "metadata": {},
   "outputs": [],
   "source": [
    "# Calculate the RMSE and Pearson correlation coefficient for the Kaiser-Squires and GAN reconstructions for the 20 samples\n",
    "\n",
    "r_ks = []\n",
    "r_gan = []\n",
    "rmse_ks = []\n",
    "rmse_gan = []\n",
    "psnr_ks = []\n",
    "psnr_gan = []\n",
    "snr_ks = []\n",
    "snr_gan = []\n",
    "\n",
    "for n in range(1,11):\n",
    "    num = f'{n}'\n",
    "    # Gets the real component of the truth, Kaiser-Squires, and GAN reconstruction\n",
    "    gt = np_gts[num].real\n",
    "    ks = np_kss[num].real\n",
    "    gan = np_avgs[num].real\n",
    "\n",
    "    r_gan.append(pearsoncoeff(gt, gan, mask))\n",
    "    r_ks.append(pearsoncoeff(gt, ks, mask))\n",
    "\n",
    "    rmse_ks.append(rmse(ks, gt, mask))\n",
    "    rmse_gan.append(rmse(gan, gt, mask))\n",
    "\n",
    "    psnr_ks.append(psnr(gt, ks, mask))\n",
    "    psnr_gan.append(psnr(gt, gan, mask))\n",
    "\n",
    "    snr_ks.append(snr(gt, ks, mask))\n",
    "    snr_gan.append(snr(gt, gan, mask))\n"
   ]
  },
  {
   "cell_type": "code",
   "execution_count": 39,
   "metadata": {},
   "outputs": [
    {
     "name": "stdout",
     "output_type": "stream",
     "text": [
      "psnr\n",
      "+----------------+----------------------+----------------------+\n",
      "|     Metric     |    Kaiser-Squires    |         GAN          |\n",
      "+----------------+----------------------+----------------------+\n",
      "| Pearson (high) |  0.620139486557506   |  0.716211199760437   |\n",
      "|   RMSE (low)   | 0.022737655433688005 | 0.020701179280877113 |\n",
      "|  PSNR (high)   |  30.185091395580883  |  31.012511253356934  |\n",
      "|   SNR (high)   |  2.0382314360463196  |  2.8656497299671173  |\n",
      "+----------------+----------------------+----------------------+\n"
     ]
    }
   ],
   "source": [
    "head = ['Metric', 'Kaiser-Squires', 'GAN']\n",
    "table = [['Pearson (high)', np.mean(r_ks), np.mean(r_gan)],['RMSE (low)', np.mean(rmse_ks), np.mean(rmse_gan)],['Psnr (high)', np.mean(psnr_ks), np.mean(psnr_gan)],['snr (high)', np.mean(snr_ks), np.mean(snr_gan)]]\n",
    "print('psnr')\n",
    "print(tabulate(table, headers=head, tablefmt='pretty'))"
   ]
  },
  {
   "cell_type": "code",
   "execution_count": null,
   "metadata": {},
   "outputs": [],
   "source": []
  }
 ],
 "metadata": {
  "kernelspec": {
   "display_name": "cgan",
   "language": "python",
   "name": "python3"
  },
  "language_info": {
   "codemirror_mode": {
    "name": "ipython",
    "version": 3
   },
   "file_extension": ".py",
   "mimetype": "text/x-python",
   "name": "python",
   "nbconvert_exporter": "python",
   "pygments_lexer": "ipython3",
   "version": "3.10.9"
  }
 },
 "nbformat": 4,
 "nbformat_minor": 4
}
