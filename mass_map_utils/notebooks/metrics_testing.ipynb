{
 "cells": [
  {
   "cell_type": "markdown",
   "metadata": {},
   "source": [
    "A notebook to calculate comparison metrics for the GAN reconstructions, such as the Pearson correlation coefficient and RMSE."
   ]
  },
  {
   "cell_type": "code",
   "execution_count": 1,
   "metadata": {},
   "outputs": [],
   "source": [
    "# Imports list\n",
    "import numpy as np\n",
    "import matplotlib.pyplot as plt\n",
    "from tabulate import tabulate\n"
   ]
  },
  {
   "cell_type": "code",
   "execution_count": 32,
   "metadata": {},
   "outputs": [],
   "source": [
    "# Load the samples (there are 20 sets of data):\n",
    "\n",
    "data_dir = \"/share/gpu0/jjwhit/samples/ks/psnr/\"\n",
    "\n",
    "np_gts = {f\"{i}\": np.load(data_dir+f\"np_gt_{i}.npy\") for i in range(1, 11)}\n",
    "np_samps = {f\"{i}\": np.load(data_dir+f\"np_samps_{i}.npy\") for i in range(1, 11)}\n",
    "np_avgs = {f\"{i}\": np.load(data_dir+f\"np_avgs_{i}.npy\") for i in range(1, 11)}\n",
    "np_stds = {f\"{i}\": np.load(data_dir+f\"np_stds_{i}.npy\") for i in range(1, 11)}\n",
    "np_kss = {f\"{i}\": np.load(data_dir+f\"np_kss_{i}.npy\") for i in range(1, 11)}\n",
    "\n",
    "#array['i'] to access the i-th ground truth, reconstruction, standard deviation, and Kaiser-Squires map; \n",
    "# for individual posterior samples np_samps['i']['j'] where j is in range [0,31].\n",
    "\n",
    "# mask =  np.load(\n",
    "#     data_dir + 'cosmos_mask.npy', allow_pickle=True\n",
    "# ).astype(bool)\n",
    "mask =  np.load('/home/jjwhit/rcGAN/mass_map_utils/cosmos/cosmos_mask.npy', allow_pickle=True\n",
    ").astype(bool)\n"
   ]
  },
  {
   "cell_type": "code",
   "execution_count": 19,
   "metadata": {},
   "outputs": [],
   "source": [
    "def rmse(a:np.ndarray, b:np.ndarray, mask:bool)->float:\n",
    "    '''\n",
    "    args:\n",
    "        a (np.ndarray): ground truth\n",
    "        b (np.ndarray): reconstruction\n",
    "        mask (bool): mask\n",
    "    returns:\n",
    "        rmse (float): root mean squared error\n",
    "    '''\n",
    "    a = a[mask==1]\n",
    "    b = b[mask==1]\n",
    "    return(np.sqrt(np.mean(np.square(a-b))))\n",
    "\n",
    "def pearsoncoeff(a:np.ndarray, b:np.ndarray, mask:bool)->float:\n",
    "    '''\n",
    "    args:\n",
    "        a (np.ndarray): ground truth\n",
    "        b (np.ndarray): reconstruction\n",
    "        mask (bool): mask\n",
    "    returns:\n",
    "        pearson (float): Pearson correlation coefficient\n",
    "    '''\n",
    "    a = a[mask==1]\n",
    "    b = b[mask==1]\n",
    "    a -= np.mean(a)\n",
    "    b -= np.mean(b)\n",
    "    num = np.sum(a*b)\n",
    "    denom = np.sqrt(np.sum(a**2)*np.sum(b**2))\n",
    "    return num/denom\n",
    "\n",
    "def psnr(a:np.ndarray, b:np.ndarray, mask:bool)->float:\n",
    "    '''\n",
    "    args:\n",
    "        a (np.ndarray): ground truth\n",
    "        b (np.ndarray): reconstruction\n",
    "        mask (bool): mask\n",
    "    returns:\n",
    "        psnr (float): peak signal-to-noise ratio\n",
    "    '''\n",
    "    a = a[mask==1]\n",
    "    b = b[mask==1]\n",
    "    mse = np.mean((a-b)**2)\n",
    "    r = a.max()\n",
    "    return 10*np.log10(r/mse)\n",
    "\n",
    "def SNR(a:np.ndarray, b:np.ndarray, mask:bool)->float:\n",
    "    '''\n",
    "    args:\n",
    "        a (np.ndarray): ground truth\n",
    "        b (np.ndarray): reconstruction\n",
    "        mask (bool): mask\n",
    "    returns:\n",
    "        snr (float): signal-to-noise ratio\n",
    "    '''\n",
    "    a = a[mask==1]\n",
    "    b = b[mask==1]\n",
    "    signal = np.mean(a**2)\n",
    "    noise = np.mean((a-b)**2)\n",
    "    return 10*np.log10(signal/noise)"
   ]
  },
  {
   "cell_type": "code",
   "execution_count": 37,
   "metadata": {},
   "outputs": [],
   "source": [
    "# Calculate the RMSE and Pearson correlation coefficient for the Kaiser-Squires and GAN reconstructions for the 20 samples\n",
    "\n",
    "r_ks = []\n",
    "r_gan = []\n",
    "rmse_ks = []\n",
    "rmse_gan = []\n",
    "psnr_ks = []\n",
    "psnr_gan = []\n",
    "snr_ks = []\n",
    "snr_gan = []\n",
    "\n",
    "for n in range(1,11):\n",
    "    num = f'{n}'\n",
    "    # Gets the real component of the truth, Kaiser-Squires, and GAN reconstruction\n",
    "    gt = np_gts[num].real\n",
    "    ks = np_kss[num].real\n",
    "    gan = np_avgs[num].real\n",
    "\n",
    "    r_gan.append(pearsoncoeff(gt, gan, mask))\n",
    "    r_ks.append(pearsoncoeff(gt, ks, mask))\n",
    "\n",
    "    rmse_ks.append(rmse(ks, gt, mask))\n",
    "    rmse_gan.append(rmse(gan, gt, mask))\n",
    "\n",
    "    psnr_ks.append(psnr(gt, ks, mask))\n",
    "    psnr_gan.append(psnr(gt, gan, mask))\n",
    "\n",
    "    snr_ks.append(SNR(gt, ks, mask))\n",
    "    snr_gan.append(SNR(gt, gan, mask))\n"
   ]
  },
  {
   "cell_type": "code",
   "execution_count": 38,
   "metadata": {},
   "outputs": [
    {
     "name": "stdout",
     "output_type": "stream",
     "text": [
      "10 10 10 10 10 10 10 10\n"
     ]
    }
   ],
   "source": [
    "# Size of each list should be 20 elements\n",
    "print(len(r_ks), len(r_gan), len(rmse_ks), len(rmse_gan), len(psnr_ks), len(psnr_gan), len(snr_ks), len(snr_gan))"
   ]
  },
  {
   "cell_type": "code",
   "execution_count": 39,
   "metadata": {},
   "outputs": [
    {
     "name": "stdout",
     "output_type": "stream",
     "text": [
      "psnr\n",
      "+----------------+----------------------+----------------------+\n",
      "|     Metric     |    Kaiser-Squires    |         GAN          |\n",
      "+----------------+----------------------+----------------------+\n",
      "| Pearson (high) |  0.620139486557506   |  0.716211199760437   |\n",
      "|   RMSE (low)   | 0.022737655433688005 | 0.020701179280877113 |\n",
      "|  PSNR (high)   |  30.185091395580883  |  31.012511253356934  |\n",
      "|   SNR (high)   |  2.0382314360463196  |  2.8656497299671173  |\n",
      "+----------------+----------------------+----------------------+\n"
     ]
    }
   ],
   "source": [
    "head = ['Metric', 'Kaiser-Squires', 'GAN']\n",
    "table = [['Pearson (high)', np.mean(r_ks), np.mean(r_gan)],['RMSE (low)', np.mean(rmse_ks), np.mean(rmse_gan)],['PSNR (high)', np.mean(psnr_ks), np.mean(psnr_gan)],['SNR (high)', np.mean(snr_ks), np.mean(snr_gan)]]\n",
    "print('psnr')\n",
    "print(tabulate(table, headers=head, tablefmt='pretty'))"
   ]
  },
  {
   "cell_type": "code",
   "execution_count": null,
   "metadata": {},
   "outputs": [],
   "source": []
  },
  {
   "cell_type": "code",
   "execution_count": null,
   "metadata": {},
   "outputs": [],
   "source": []
  },
  {
   "cell_type": "code",
   "execution_count": null,
   "metadata": {},
   "outputs": [],
   "source": []
  },
  {
   "cell_type": "markdown",
   "metadata": {},
   "source": [
    "Making the Kaiser-Squires maps:\n",
    "(You don't need to run this, but here is how the Kaiser-Squires maps were made)"
   ]
  },
  {
   "cell_type": "code",
   "execution_count": 24,
   "metadata": {},
   "outputs": [],
   "source": [
    "import sys\n",
    "dir = '/home/jjwhit/rcGAN/'\n",
    "sys.path.append(dir)\n",
    "from data.lightning.MassMappingDataModule import MMDataTransform\n",
    "from mass_map_utils.scripts.ks_utils import backward_model\n",
    "from scipy import ndimage"
   ]
  },
  {
   "cell_type": "code",
   "execution_count": 25,
   "metadata": {},
   "outputs": [],
   "source": [
    "# std1 = np.load(data_dir + 'cosmos_std1.npy', allow_pickle=True)\n",
    "# std2 = np.load(data_dir + 'cosmos_std2.npy', allow_pickle=True)\n",
    "\n",
    "std1 = np.load(dir + 'mass_map_utils/cosmos/' + 'cosmos_std1.npy', allow_pickle=True)\n",
    "std2 = np.load(dir + 'mass_map_utils/cosmos/' + 'cosmos_std2.npy', allow_pickle=True)"
   ]
  },
  {
   "cell_type": "code",
   "execution_count": 26,
   "metadata": {},
   "outputs": [],
   "source": [
    "kernel = MMDataTransform.compute_fourier_kernel(300)\n",
    "np_kss = {}\n",
    "for i in range(1, 11):\n",
    "    num = f'{i}'\n",
    "    gamma_sim = MMDataTransform.forward_model(np_gts[num], kernel) + (\n",
    "                std1 * np.random.randn(300, 300) + 1.j * std2 * np.random.randn(300,300)\n",
    "            )\n",
    "    gamma_sim *= mask\n",
    "    backward = backward_model(gamma_sim, kernel)\n",
    "    ks = ndimage.gaussian_filter(backward, sigma=1/.29)\n",
    "\n",
    "    np.save(data_dir+f'np_kss_{i}.npy', ks)\n",
    "    # np_kss[num] = ks"
   ]
  },
  {
   "cell_type": "code",
   "execution_count": null,
   "metadata": {},
   "outputs": [],
   "source": []
  },
  {
   "cell_type": "code",
   "execution_count": null,
   "metadata": {},
   "outputs": [],
   "source": []
  },
  {
   "cell_type": "code",
   "execution_count": null,
   "metadata": {},
   "outputs": [],
   "source": []
  },
  {
   "cell_type": "code",
   "execution_count": null,
   "metadata": {},
   "outputs": [],
   "source": []
  },
  {
   "cell_type": "code",
   "execution_count": null,
   "metadata": {},
   "outputs": [],
   "source": [
    "# TODO: Add the graph showing metrics as a function of n-image average\n",
    "\n",
    "# n_values = range(1, 33)\n",
    "# plt.plot(n_values, r_n, marker='.')\n",
    "# plt.xlabel('Number of Samples Averaged, N')\n",
    "# plt.ylabel('Pearson Correlation Coefficient, r')\n",
    "# plt.title('Pearson correlation coefficient vs Number of Samples used in Reconstruction')\n",
    "# plt.grid(True)\n",
    "# plt.show()\n",
    "\n",
    "\n",
    "# psnr_values_per_map = [[] for _ in range(10)]\n",
    "\n",
    "# for i in range(10):\n",
    "#     map_name = f'{i+1}'\n",
    "#     psnr_vals = []\n",
    "#     for p in range(1, 33):\n",
    "#         avg_img = np.mean(np_samps[map_name][:p].real, axis=0)\n",
    "#         psnr_instance = psnr(np_gts[map_name].real, avg_img) \n",
    "#         psnr_vals.append(psnr_instance)\n",
    "#     psnr_values_per_map[i] = psnr_vals\n",
    "\n",
    "# mean_psnr = np.mean(psnr_values_per_map, axis=0)\n",
    "# std_dev_psnr = np.std(psnr_values_per_map, axis=0)\n",
    "\n",
    "\n",
    "# n_values = range(1, 33)\n",
    "# plt.errorbar(n_values, mean_psnr, yerr=std_dev_psnr, fmt='o', linestyle='-')\n",
    "# plt.xlabel('Number of Samples Averaged, N')\n",
    "# plt.ylabel('PSNR')\n",
    "# plt.title('Average PSNR')\n",
    "# plt.grid(True)\n",
    "# plt.show()"
   ]
  }
 ],
 "metadata": {
  "kernelspec": {
   "display_name": "Python 3 (ipykernel)",
   "language": "python",
   "name": "python3"
  },
  "language_info": {
   "codemirror_mode": {
    "name": "ipython",
    "version": 3
   },
   "file_extension": ".py",
   "mimetype": "text/x-python",
   "name": "python",
   "nbconvert_exporter": "python",
   "pygments_lexer": "ipython3",
   "version": "3.8.16"
  }
 },
 "nbformat": 4,
 "nbformat_minor": 4
}
