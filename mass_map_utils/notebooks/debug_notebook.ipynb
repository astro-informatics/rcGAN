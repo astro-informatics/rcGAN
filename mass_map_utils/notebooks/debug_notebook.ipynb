{
 "cells": [
  {
   "cell_type": "markdown",
   "metadata": {},
   "source": [
    "### Checking pipeline for 384 x 384 images"
   ]
  },
  {
   "cell_type": "code",
   "execution_count": 3,
   "metadata": {},
   "outputs": [],
   "source": [
    "import sys\n",
    "sys.path.append('/home/jjwhit/rcGAN')"
   ]
  },
  {
   "cell_type": "code",
   "execution_count": 2,
   "metadata": {},
   "outputs": [
    {
     "name": "stderr",
     "output_type": "stream",
     "text": [
      "/home/jjwhit/rcGAN/fastmri/__init__.py:16: UserWarning: Could not retrieve fastmri version!\n",
      "  warnings.warn(\"Could not retrieve fastmri version!\")\n"
     ]
    }
   ],
   "source": [
    "from data.lightning.MassMappingDataModule import MMDataTransform as MMD"
   ]
  },
  {
   "cell_type": "code",
   "execution_count": 3,
   "metadata": {},
   "outputs": [],
   "source": [
    "import numpy as np\n",
    "from torch.utils.data import DataLoader\n",
    "import pytorch_lightning as pl\n",
    "from typing import Optional\n",
    "from data.datasets.MM_data import MassMappingDataset_Test, MassMappingDataset_Train, MassMappingDataset_Val\n",
    "from utils.mri import transforms\n",
    "from typing import Tuple\n",
    "import pathlib"
   ]
  },
  {
   "cell_type": "code",
   "execution_count": 9,
   "metadata": {},
   "outputs": [],
   "source": [
    "kernel =  MMD.compute_fourier_kernel(384)"
   ]
  },
  {
   "cell_type": "code",
   "execution_count": 10,
   "metadata": {},
   "outputs": [
    {
     "name": "stdout",
     "output_type": "stream",
     "text": [
      "[[ 0.        +0.j         -1.        +0.j         -1.        +0.j\n",
      "  ... -1.        +0.j         -1.        +0.j\n",
      "  -1.        +0.j        ]\n",
      " [ 1.        +0.j          0.        +1.j         -0.6       +0.8j\n",
      "  ... -0.8       -0.6j        -0.6       -0.8j\n",
      "   0.        -1.j        ]\n",
      " [ 1.        +0.j          0.6       +0.8j         0.        +1.j\n",
      "  ... -0.38461538-0.92307692j  0.        -1.j\n",
      "   0.6       -0.8j       ]\n",
      " ...\n",
      " [ 1.        +0.j          0.8       -0.6j         0.38461538-0.92307692j\n",
      "  ...  0.        +1.j          0.38461538+0.92307692j\n",
      "   0.8       +0.6j       ]\n",
      " [ 1.        +0.j          0.6       -0.8j         0.        -1.j\n",
      "  ... -0.38461538+0.92307692j  0.        +1.j\n",
      "   0.6       +0.8j       ]\n",
      " [ 1.        +0.j          0.        -1.j         -0.6       -0.8j\n",
      "  ... -0.8       +0.6j        -0.6       +0.8j\n",
      "   0.        +1.j        ]]\n"
     ]
    },
    {
     "data": {
      "text/plain": [
       "(384, 384)"
      ]
     },
     "execution_count": 10,
     "metadata": {},
     "output_type": "execute_result"
    }
   ],
   "source": [
    "print(kernel)\n",
    "kernel.shape"
   ]
  },
  {
   "cell_type": "code",
   "execution_count": 11,
   "metadata": {},
   "outputs": [],
   "source": [
    "kappa_test = np.load('/share/gpu0/jjwhit/mass_map_dataset/kappa20_cropped/kappa_val/kappa_run_09556.npy')"
   ]
  },
  {
   "cell_type": "code",
   "execution_count": 12,
   "metadata": {},
   "outputs": [
    {
     "data": {
      "text/plain": [
       "(384, 384)"
      ]
     },
     "execution_count": 12,
     "metadata": {},
     "output_type": "execute_result"
    }
   ],
   "source": [
    "kappa_test.shape"
   ]
  },
  {
   "cell_type": "code",
   "execution_count": 14,
   "metadata": {},
   "outputs": [],
   "source": [
    "gamma = MMD.forward_model(kappa_test, kernel)"
   ]
  },
  {
   "cell_type": "code",
   "execution_count": 18,
   "metadata": {},
   "outputs": [],
   "source": [
    "gamma_w_noise =  MMD.noise_maker(5.0, 30, kappa_test)"
   ]
  },
  {
   "cell_type": "code",
   "execution_count": 20,
   "metadata": {},
   "outputs": [
    {
     "data": {
      "text/plain": [
       "(384, 384)"
      ]
     },
     "execution_count": 20,
     "metadata": {},
     "output_type": "execute_result"
    }
   ],
   "source": [
    "gamma_w_noise.shape"
   ]
  },
  {
   "cell_type": "code",
   "execution_count": 24,
   "metadata": {},
   "outputs": [],
   "source": [
    "pt_kappa  = transforms.to_tensor(kappa_test.astype(np.complex128))"
   ]
  },
  {
   "cell_type": "code",
   "execution_count": 25,
   "metadata": {},
   "outputs": [
    {
     "data": {
      "text/plain": [
       "torch.Size([384, 384, 2])"
      ]
     },
     "execution_count": 25,
     "metadata": {},
     "output_type": "execute_result"
    }
   ],
   "source": [
    "pt_kappa.shape"
   ]
  },
  {
   "cell_type": "code",
   "execution_count": 26,
   "metadata": {},
   "outputs": [
    {
     "data": {
      "text/plain": [
       "torch.Size([2, 384, 384])"
      ]
     },
     "execution_count": 26,
     "metadata": {},
     "output_type": "execute_result"
    }
   ],
   "source": [
    "pt_kappa = pt_kappa.permute(2,0,1)\n",
    "pt_kappa.shape"
   ]
  },
  {
   "cell_type": "code",
   "execution_count": 27,
   "metadata": {},
   "outputs": [],
   "source": [
    "pt_gamma = transforms.to_tensor(gamma_w_noise)\n",
    "pt_gamma = pt_gamma.permute(2, 0, 1)"
   ]
  },
  {
   "cell_type": "code",
   "execution_count": 28,
   "metadata": {},
   "outputs": [
    {
     "data": {
      "text/plain": [
       "torch.Size([2, 384, 384])"
      ]
     },
     "execution_count": 28,
     "metadata": {},
     "output_type": "execute_result"
    }
   ],
   "source": [
    "pt_gamma.shape"
   ]
  },
  {
   "cell_type": "code",
   "execution_count": 29,
   "metadata": {},
   "outputs": [],
   "source": [
    "normalized_gamma, mean, std = transforms.normalize_instance(pt_gamma)\n",
    "normalized_gt = transforms.normalize(pt_kappa, mean, std)"
   ]
  },
  {
   "cell_type": "code",
   "execution_count": 33,
   "metadata": {},
   "outputs": [
    {
     "data": {
      "text/plain": [
       "torch.Size([])"
      ]
     },
     "execution_count": 33,
     "metadata": {},
     "output_type": "execute_result"
    }
   ],
   "source": [
    "std.shape"
   ]
  },
  {
   "cell_type": "code",
   "execution_count": 1,
   "metadata": {},
   "outputs": [],
   "source": [
    "N = 384"
   ]
  },
  {
   "cell_type": "code",
   "execution_count": 4,
   "metadata": {},
   "outputs": [
    {
     "name": "stderr",
     "output_type": "stream",
     "text": [
      "/home/jjwhit/rcGAN/fastmri/__init__.py:16: UserWarning: Could not retrieve fastmri version!\n",
      "  warnings.warn(\"Could not retrieve fastmri version!\")\n"
     ]
    }
   ],
   "source": [
    "import numpy as np\n",
    "from torch.utils.data import DataLoader\n",
    "import pytorch_lightning as pl\n",
    "from typing import Optional\n",
    "from data.datasets.MM_data import MassMappingDataset_Test, MassMappingDataset_Train, MassMappingDataset_Val\n",
    "from utils.mri import transforms\n",
    "from typing import Tuple\n",
    "import pathlib"
   ]
  },
  {
   "cell_type": "code",
   "execution_count": 6,
   "metadata": {},
   "outputs": [
    {
     "name": "stdout",
     "output_type": "stream",
     "text": [
      "[[ 0.        +0.j         -1.        +0.j         -1.        +0.j\n",
      "  ... -1.        +0.j         -1.        +0.j\n",
      "  -1.        +0.j        ]\n",
      " [ 1.        +0.j          0.        +1.j         -0.6       +0.8j\n",
      "  ... -0.8       -0.6j        -0.6       -0.8j\n",
      "   0.        -1.j        ]\n",
      " [ 1.        +0.j          0.6       +0.8j         0.        +1.j\n",
      "  ... -0.38461538-0.92307692j  0.        -1.j\n",
      "   0.6       -0.8j       ]\n",
      " ...\n",
      " [ 1.        +0.j          0.8       -0.6j         0.38461538-0.92307692j\n",
      "  ...  0.        +1.j          0.38461538+0.92307692j\n",
      "   0.8       +0.6j       ]\n",
      " [ 1.        +0.j          0.6       -0.8j         0.        -1.j\n",
      "  ... -0.38461538+0.92307692j  0.        +1.j\n",
      "   0.6       +0.8j       ]\n",
      " [ 1.        +0.j          0.        -1.j         -0.6       -0.8j\n",
      "  ... -0.8       +0.6j        -0.6       +0.8j\n",
      "   0.        +1.j        ]]\n"
     ]
    }
   ],
   "source": [
    "kx = np.arange(N).astype(np.float64) - N/2.0\n",
    "ky, kx = np.meshgrid(kx, kx)\n",
    "k = kx**2 + ky**2\n",
    "# Define Kaiser-Squires kernel\n",
    "D = np.zeros((N, N), dtype=np.complex128)\n",
    "# D = np.where(k > 0, ((kx ** 2.0 - ky ** 2.0) + 1j * (2.0 * kx * ky))/k, D)\n",
    "# Another formulation to avoid divide by zero warning\n",
    "D[k>0] = (((kx ** 2.0 - ky ** 2.0) + 1j * (2.0 * kx * ky))[k>0]/k[k>0])\n",
    "# Apply inverse FFT shift \n",
    "print(np.fft.ifftshift(D))"
   ]
  },
  {
   "cell_type": "code",
   "execution_count": null,
   "metadata": {},
   "outputs": [],
   "source": []
  },
  {
   "cell_type": "code",
   "execution_count": null,
   "metadata": {},
   "outputs": [],
   "source": []
  },
  {
   "cell_type": "code",
   "execution_count": null,
   "metadata": {},
   "outputs": [],
   "source": []
  }
 ],
 "metadata": {
  "kernelspec": {
   "display_name": "Python 3 (ipykernel)",
   "language": "python",
   "name": "python3"
  },
  "language_info": {
   "codemirror_mode": {
    "name": "ipython",
    "version": 3
   },
   "file_extension": ".py",
   "mimetype": "text/x-python",
   "name": "python",
   "nbconvert_exporter": "python",
   "pygments_lexer": "ipython3",
   "version": "3.8.16"
  }
 },
 "nbformat": 4,
 "nbformat_minor": 4
}
