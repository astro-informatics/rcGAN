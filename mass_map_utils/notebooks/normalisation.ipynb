{
 "cells": [
  {
   "cell_type": "code",
   "execution_count": null,
   "id": "af27d8c8-f7c9-473d-9fd3-087b73d5949e",
   "metadata": {},
   "outputs": [],
   "source": [
    "#Notebook to test normalisation during preprocessing"
   ]
  },
  {
   "cell_type": "code",
   "execution_count": 1,
   "id": "8718c5b0-add2-474b-b641-46de8700fceb",
   "metadata": {},
   "outputs": [
    {
     "name": "stderr",
     "output_type": "stream",
     "text": [
      "/share/gpu0/jjwhit/rcGAN/fastmri/__init__.py:16: UserWarning: Could not retrieve fastmri version!\n",
      "  warnings.warn(\"Could not retrieve fastmri version!\")\n"
     ]
    }
   ],
   "source": [
    "import numpy as np\n",
    "import os\n",
    "import sys\n",
    "sys.path.append('/share/gpu0/jjwhit/rcGAN/')\n",
    "from data.lightning.MassMappingDataModule import  MMDataTransform as MM"
   ]
  },
  {
   "cell_type": "code",
   "execution_count": 2,
   "id": "d3aad2f8-0790-4fd5-9fdf-42192af0fc9d",
   "metadata": {},
   "outputs": [],
   "source": [
    "import matplotlib.pyplot as plt"
   ]
  },
  {
   "cell_type": "code",
   "execution_count": 3,
   "id": "8aba4393-4f12-41dc-8869-6057d2462269",
   "metadata": {},
   "outputs": [],
   "source": [
    "data_dir = '/share/gpu0/jjwhit/kappa_cosmos_simulations/cropped_dataset/kappa_train/'\n",
    "files = os.listdir(data_dir)"
   ]
  },
  {
   "cell_type": "code",
   "execution_count": 4,
   "id": "e1379c5a-7d2c-4bd9-b945-e362658bec00",
   "metadata": {},
   "outputs": [],
   "source": [
    "mask = np.load('/home/jjwhit/rcGAN/mass_map_utils/cosmos/cosmos_mask.npy', allow_pickle=True).astype(bool)\n",
    "std1 = np.load('/home/jjwhit/rcGAN/mass_map_utils/cosmos/cosmos_std1.npy', allow_pickle=True)\n",
    "std2 = np.load('/home/jjwhit/rcGAN/mass_map_utils/cosmos/cosmos_std2.npy', allow_pickle=True)"
   ]
  },
  {
   "cell_type": "code",
   "execution_count": 5,
   "id": "e2454083-0b4c-4cea-b2d0-5b9b51e4da66",
   "metadata": {},
   "outputs": [],
   "source": [
    "im_size=300"
   ]
  },
  {
   "cell_type": "code",
   "execution_count": 6,
   "id": "a6893c70-af61-4173-a87d-13cc4f2f4f40",
   "metadata": {},
   "outputs": [],
   "source": [
    "kernel = MM.compute_fourier_kernel(im_size)"
   ]
  },
  {
   "cell_type": "code",
   "execution_count": 7,
   "id": "4da4ea9d-51eb-4b23-bfd8-978c0579561f",
   "metadata": {},
   "outputs": [
    {
     "name": "stdout",
     "output_type": "stream",
     "text": [
      "/share/gpu0/jjwhit/kappa_cosmos_simulations/cropped_dataset/kappa_train/cropped_sim_00001.npy\n",
      "/share/gpu0/jjwhit/kappa_cosmos_simulations/cropped_dataset/kappa_train/cropped_sim_00002.npy\n"
     ]
    }
   ],
   "source": [
    "kappa_mean = []\n",
    "shear_mean = []\n",
    "count=0\n",
    "for file in files:\n",
    "    data = np.load(os.path.join(data_dir, file))\n",
    "    print(os.path.join(data_dir, file))\n",
    "    kappa_mean.append(np.mean(data))\n",
    "    #shear = MM.forward_model(data,kernel)\n",
    "    #noisy_shear = shear + std1*np.random.randn(im_size,im_size) + 1.j * std2 * np.random.randn(im_size,im_size)\n",
    "    #shear_mean.append(np.mean(noisy_shear))\n",
    "    count+=1\n",
    "    if count >=2:\n",
    "        break"
   ]
  },
  {
   "cell_type": "code",
   "execution_count": 8,
   "id": "8276d2a2-0985-4729-92fb-2e929eb28fc9",
   "metadata": {},
   "outputs": [
    {
     "data": {
      "text/plain": [
       "2"
      ]
     },
     "execution_count": 8,
     "metadata": {},
     "output_type": "execute_result"
    }
   ],
   "source": [
    "count"
   ]
  },
  {
   "cell_type": "code",
   "execution_count": 9,
   "id": "2b196047-a275-463f-9db7-c44ea7c82571",
   "metadata": {},
   "outputs": [],
   "source": [
    "total_mean_kappa = np.mean(kappa_mean)"
   ]
  },
  {
   "cell_type": "code",
   "execution_count": 10,
   "id": "e969e2d3-d548-4911-afa5-d2b58663dacb",
   "metadata": {},
   "outputs": [
    {
     "data": {
      "text/plain": [
       "0.0006848794665119482"
      ]
     },
     "execution_count": 10,
     "metadata": {},
     "output_type": "execute_result"
    }
   ],
   "source": [
    "total_mean_kappa"
   ]
  },
  {
   "cell_type": "code",
   "execution_count": 11,
   "id": "85c1d4bd-9ff3-46cd-8097-b43d5d68b93d",
   "metadata": {},
   "outputs": [
    {
     "name": "stdout",
     "output_type": "stream",
     "text": [
      "/share/gpu0/jjwhit/kappa_cosmos_simulations/cropped_dataset/kappa_train/cropped_sim_00001.npy\n",
      "/share/gpu0/jjwhit/kappa_cosmos_simulations/cropped_dataset/kappa_train/cropped_sim_00002.npy\n"
     ]
    }
   ],
   "source": [
    "std_i = 0\n",
    "count=0\n",
    "for file in files:\n",
    "    data = np.load(os.path.join(data_dir, file))\n",
    "    print(os.path.join(data_dir, file))\n",
    "    kappa_i = (data-total_mean_kappa)**2\n",
    "    std_i += np.sum(kappa_i)\n",
    "    count+=1\n",
    "    if count >=2:\n",
    "        break"
   ]
  },
  {
   "cell_type": "code",
   "execution_count": 12,
   "id": "e45a1d33-54e4-4729-870f-6c453b14d0a4",
   "metadata": {},
   "outputs": [],
   "source": [
    "total_kappa_std = np.sqrt(std_i/(count*im_size**2))"
   ]
  },
  {
   "cell_type": "code",
   "execution_count": 13,
   "id": "9b5b76b0-cedd-45b5-bc4f-9c652b450ee4",
   "metadata": {},
   "outputs": [
    {
     "data": {
      "text/plain": [
       "0.0283255292883185"
      ]
     },
     "execution_count": 13,
     "metadata": {},
     "output_type": "execute_result"
    }
   ],
   "source": [
    "total_kappa_std"
   ]
  },
  {
   "cell_type": "code",
   "execution_count": 14,
   "id": "219f131b-ad1d-4717-8077-38a2b85fc32f",
   "metadata": {},
   "outputs": [
    {
     "name": "stdout",
     "output_type": "stream",
     "text": [
      "mean1 =  -0.004318266473496626\n",
      "std1 =  0.02731789440843999\n",
      "mean2 =  0.005688025406520522\n",
      "std2 =  0.028431337031909927\n"
     ]
    }
   ],
   "source": [
    "file1 = np.load('/share/gpu0/jjwhit/kappa_cosmos_simulations/cropped_dataset/kappa_train/cropped_sim_00001.npy', allow_pickle=True)\n",
    "file2 = np.load('/share/gpu0/jjwhit/kappa_cosmos_simulations/cropped_dataset/kappa_train/cropped_sim_00002.npy', allow_pickle=True)\n",
    "mean1 = np.mean(file1)\n",
    "print('mean1 = ', mean1)\n",
    "std1 = np.std(file1)\n",
    "print('std1 = ', std1)\n",
    "\n",
    "mean2 = np.mean(file2)\n",
    "print('mean2 = ', mean2)\n",
    "std2 = np.std(file2)\n",
    "print('std2 = ', std2)"
   ]
  },
  {
   "cell_type": "code",
   "execution_count": 22,
   "id": "536aae5f-e8e4-4393-9a8a-adfbe0b8892a",
   "metadata": {},
   "outputs": [],
   "source": [
    "bigimage = np.concatenate((file1, file2), 1)"
   ]
  },
  {
   "cell_type": "code",
   "execution_count": 23,
   "id": "3030bf68-f930-47f2-b07d-bd7ffe91024d",
   "metadata": {},
   "outputs": [
    {
     "data": {
      "text/plain": [
       "(300, 600)"
      ]
     },
     "execution_count": 23,
     "metadata": {},
     "output_type": "execute_result"
    }
   ],
   "source": [
    "bigimage.shape"
   ]
  },
  {
   "cell_type": "code",
   "execution_count": 24,
   "id": "3bb38547-ad0a-4163-a58b-404bf85a48cf",
   "metadata": {},
   "outputs": [
    {
     "data": {
      "text/plain": [
       "0.0283255292883185"
      ]
     },
     "execution_count": 24,
     "metadata": {},
     "output_type": "execute_result"
    }
   ],
   "source": [
    "np.std(bigimage)"
   ]
  },
  {
   "cell_type": "code",
   "execution_count": null,
   "id": "549961cb-4ee4-4875-8812-e64991579626",
   "metadata": {},
   "outputs": [],
   "source": []
  }
 ],
 "metadata": {
  "kernelspec": {
   "display_name": "cGAN",
   "language": "python",
   "name": "cgan"
  },
  "language_info": {
   "codemirror_mode": {
    "name": "ipython",
    "version": 3
   },
   "file_extension": ".py",
   "mimetype": "text/x-python",
   "name": "python",
   "nbconvert_exporter": "python",
   "pygments_lexer": "ipython3",
   "version": "3.8.16"
  }
 },
 "nbformat": 4,
 "nbformat_minor": 5
}
