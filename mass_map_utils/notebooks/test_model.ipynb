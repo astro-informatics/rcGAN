{
 "cells": [
  {
   "cell_type": "code",
   "execution_count": 1,
   "id": "5845f949-4cd3-4d45-bad3-7cd64ddf99b6",
   "metadata": {},
   "outputs": [
    {
     "name": "stderr",
     "output_type": "stream",
     "text": [
      "/share/gpu0/jjwhit/rcGAN/fastmri/__init__.py:16: UserWarning: Could not retrieve fastmri version!\n",
      "  warnings.warn(\"Could not retrieve fastmri version!\")\n"
     ]
    }
   ],
   "source": [
    "import sys\n",
    "sys.path.append('/share/gpu0/jjwhit/rcGAN/')\n",
    "import torch\n",
    "\n",
    "import pytorch_lightning as pl\n",
    "import numpy as np\n",
    "import torch.autograd as autograd\n",
    "import sigpy as sp\n",
    "from matplotlib import cm\n",
    "\n",
    "from PIL import Image\n",
    "from torch.nn import functional as F\n",
    "from utils.mri.fftc import ifft2c_new, fft2c_new\n",
    "from utils.mri.math import tensor_to_complex_np\n",
    "from models.archs.mass_map.generator import UNetModel\n",
    "from models.archs.mass_map.discriminator import DiscriminatorModel\n",
    "from evaluation_scripts.metrics import psnr\n",
    "from torchmetrics.functional import peak_signal_noise_ratio\n",
    "\n",
    "from data.lightning.MassMappingDataModule import MMDataTransform\n",
    "from data.datasets.MM_data import MassMappingDataset_Test, MassMappingDataset_Train, MassMappingDataset_Val"
   ]
  },
  {
   "cell_type": "code",
   "execution_count": 2,
   "id": "54ff3088-c91c-43ca-9b7b-34e48b01588d",
   "metadata": {},
   "outputs": [],
   "source": [
    "data_dir = '/share/gpu0/jjwhit/testing/'"
   ]
  },
  {
   "cell_type": "code",
   "execution_count": 3,
   "id": "141a8ec8-e45a-46d3-b3ec-d7dc930b4e2b",
   "metadata": {},
   "outputs": [],
   "source": [
    "import yaml\n",
    "import json\n",
    "import types\n",
    "import torch\n",
    "import os\n",
    "\n",
    "device = torch.device('cuda' if torch.cuda.is_available() else 'cpu')\n",
    "\n",
    "def load_object(dct):\n",
    "    return types.SimpleNamespace(**dct)\n",
    "\n",
    "with open('/share/gpu0/jjwhit/rcGAN/configs/mass_map.yml', 'r') as f:\n",
    "    cfg = yaml.load(f, Loader=yaml.FullLoader)\n",
    "    cfg = json.loads(json.dumps(cfg), object_hook=load_object)"
   ]
  },
  {
   "cell_type": "code",
   "execution_count": 4,
   "id": "a712da7c-2594-4cc2-bf6e-d031e7b537db",
   "metadata": {},
   "outputs": [],
   "source": [
    "mm_data_transform = MMDataTransform(args=None)\n",
    "mm_dataset_train = MassMappingDataset_Train(data_dir=data_dir, transform=mm_data_transform)\n",
    "new_data = mm_dataset_train.__getitem__(0)\n",
    "\n",
    "y, x, mean, std = new_data\n",
    "\n",
    "\n",
    "x = x[None,:,:,:].to(device)\n",
    "y = y[None,:,:,:].to(device)\n"
   ]
  },
  {
   "cell_type": "code",
   "execution_count": 5,
   "id": "b08ff01d-db07-4ff1-9e64-0d2deb5a3e72",
   "metadata": {},
   "outputs": [
    {
     "data": {
      "text/plain": [
       "torch.Size([1, 2, 1024, 1024])"
      ]
     },
     "execution_count": 5,
     "metadata": {},
     "output_type": "execute_result"
    }
   ],
   "source": [
    "y.size()"
   ]
  },
  {
   "cell_type": "code",
   "execution_count": 6,
   "id": "80037581-d6bb-431d-9528-92f0f039c2d8",
   "metadata": {},
   "outputs": [
    {
     "data": {
      "text/plain": [
       "torch.Size([1, 2, 1024, 1024])"
      ]
     },
     "execution_count": 6,
     "metadata": {},
     "output_type": "execute_result"
    }
   ],
   "source": [
    "x.size()"
   ]
  },
  {
   "cell_type": "code",
   "execution_count": 9,
   "id": "47552718-fba4-498e-8940-adb0b69712d4",
   "metadata": {},
   "outputs": [],
   "source": [
    "def get_noise(num_vectors, resolution=1024):\n",
    "    z = torch.randn(num_vectors, 2, resolution, resolution, device=device)\n",
    "    return z\n",
    "\n",
    "num_vectors = y.size(0)\n",
    "noise = get_noise(num_vectors)\n",
    "\n",
    "input_data = torch.cat([y, noise], dim=1)\n"
   ]
  },
  {
   "cell_type": "code",
   "execution_count": 10,
   "id": "3eec9d06-6f03-4657-b4d2-9666c43ee7f7",
   "metadata": {},
   "outputs": [
    {
     "data": {
      "text/plain": [
       "torch.Size([1, 4, 1024, 1024])"
      ]
     },
     "execution_count": 10,
     "metadata": {},
     "output_type": "execute_result"
    }
   ],
   "source": [
    "input_data.size()"
   ]
  },
  {
   "cell_type": "code",
   "execution_count": 12,
   "id": "19965e05-5525-49e9-85d3-17c34cdbef43",
   "metadata": {},
   "outputs": [],
   "source": [
    "resolution = 1024\n",
    "def reformat(samples):\n",
    "    reformatted_tensor = torch.zeros(size=(samples.size(0), 1, resolution, resolution, 2),\n",
    "                                     device=device)\n",
    "    reformatted_tensor[:, :, :, :, 0] = samples[:, 0, :, :]\n",
    "    reformatted_tensor[:, :, :, :, 1] = samples[:, 1, :, :]\n",
    "\n",
    "    return reformatted_tensor"
   ]
  },
  {
   "cell_type": "code",
   "execution_count": 13,
   "id": "d2977c0a-6548-4f79-8a10-440548579d11",
   "metadata": {},
   "outputs": [],
   "source": [
    "new_tensor = reformat(input_data)"
   ]
  },
  {
   "cell_type": "code",
   "execution_count": 14,
   "id": "581a7bab-8da1-4879-a035-f30f7adbf508",
   "metadata": {},
   "outputs": [
    {
     "data": {
      "text/plain": [
       "torch.Size([1, 1, 1024, 1024, 2])"
      ]
     },
     "execution_count": 14,
     "metadata": {},
     "output_type": "execute_result"
    }
   ],
   "source": [
    "new_tensor.size()\n",
    "#Tensor size"
   ]
  },
  {
   "cell_type": "code",
   "execution_count": 15,
   "id": "d911aee2-2eb1-4088-a651-d43d8fac0298",
   "metadata": {},
   "outputs": [],
   "source": [
    "def readd_measures(samples, measures, mask):\n",
    "    reformatted_tensor = reformat(samples)\n",
    "    measures = fft2c_new(reformat(measures))\n",
    "    reconstructed_kspace = fft2c_new(reformatted_tensor)\n",
    "\n",
    "    reconstructed_kspace = mask * measures + (1 - mask) * reconstructed_kspace\n",
    "\n",
    "    image = ifft2c_new(reconstructed_kspace)\n",
    "\n",
    "    output_im = torch.zeros(size=samples.shape, device=device)\n",
    "    output_im[:, 0, :, :] = image[:, :, :, :, 0]\n",
    "    output_im[:, 1, :, :] = image[:, :, :, :, 1]\n",
    "\n",
    "    return output_im"
   ]
  },
  {
   "cell_type": "code",
   "execution_count": 16,
   "id": "32d3689d-0057-4b3a-b40b-bfb4664a7c67",
   "metadata": {
    "scrolled": true
   },
   "outputs": [
    {
     "data": {
      "text/plain": [
       "UNetModel(\n",
       "  (down_sample_layers): ModuleList(\n",
       "    (0): ConvDownBlock(\n",
       "      (conv_1): Conv2d(4, 128, kernel_size=(3, 3), stride=(1, 1), padding=(1, 1))\n",
       "      (res): ResidualBlock(\n",
       "        (conv_block): Sequential(\n",
       "          (0): Conv2d(128, 128, kernel_size=(3, 3), stride=(1, 1), padding=(1, 1))\n",
       "          (1): BatchNorm2d(128, eps=1e-05, momentum=0.1, affine=True, track_running_stats=True)\n",
       "          (2): PReLU(num_parameters=1)\n",
       "          (3): Conv2d(128, 128, kernel_size=(3, 3), stride=(1, 1), padding=(1, 1))\n",
       "          (4): BatchNorm2d(128, eps=1e-05, momentum=0.1, affine=True, track_running_stats=True)\n",
       "          (5): PReLU(num_parameters=1)\n",
       "        )\n",
       "        (conv_1x1): Conv2d(128, 128, kernel_size=(1, 1), stride=(1, 1))\n",
       "      )\n",
       "      (conv_3): Conv2d(128, 128, kernel_size=(3, 3), stride=(2, 2), padding=(1, 1))\n",
       "      (bn): BatchNorm2d(128, eps=1e-05, momentum=0.1, affine=True, track_running_stats=True)\n",
       "      (activation): PReLU(num_parameters=1)\n",
       "    )\n",
       "    (1): ConvDownBlock(\n",
       "      (conv_1): Conv2d(128, 256, kernel_size=(3, 3), stride=(1, 1), padding=(1, 1))\n",
       "      (res): ResidualBlock(\n",
       "        (conv_block): Sequential(\n",
       "          (0): Conv2d(256, 256, kernel_size=(3, 3), stride=(1, 1), padding=(1, 1))\n",
       "          (1): BatchNorm2d(256, eps=1e-05, momentum=0.1, affine=True, track_running_stats=True)\n",
       "          (2): PReLU(num_parameters=1)\n",
       "          (3): Conv2d(256, 256, kernel_size=(3, 3), stride=(1, 1), padding=(1, 1))\n",
       "          (4): BatchNorm2d(256, eps=1e-05, momentum=0.1, affine=True, track_running_stats=True)\n",
       "          (5): PReLU(num_parameters=1)\n",
       "        )\n",
       "        (conv_1x1): Conv2d(256, 256, kernel_size=(1, 1), stride=(1, 1))\n",
       "      )\n",
       "      (conv_3): Conv2d(256, 256, kernel_size=(3, 3), stride=(2, 2), padding=(1, 1))\n",
       "      (bn): BatchNorm2d(256, eps=1e-05, momentum=0.1, affine=True, track_running_stats=True)\n",
       "      (activation): PReLU(num_parameters=1)\n",
       "    )\n",
       "    (2): ConvDownBlock(\n",
       "      (conv_1): Conv2d(256, 512, kernel_size=(3, 3), stride=(1, 1), padding=(1, 1))\n",
       "      (res): ResidualBlock(\n",
       "        (conv_block): Sequential(\n",
       "          (0): Conv2d(512, 512, kernel_size=(3, 3), stride=(1, 1), padding=(1, 1))\n",
       "          (1): BatchNorm2d(512, eps=1e-05, momentum=0.1, affine=True, track_running_stats=True)\n",
       "          (2): PReLU(num_parameters=1)\n",
       "          (3): Conv2d(512, 512, kernel_size=(3, 3), stride=(1, 1), padding=(1, 1))\n",
       "          (4): BatchNorm2d(512, eps=1e-05, momentum=0.1, affine=True, track_running_stats=True)\n",
       "          (5): PReLU(num_parameters=1)\n",
       "        )\n",
       "        (conv_1x1): Conv2d(512, 512, kernel_size=(1, 1), stride=(1, 1))\n",
       "      )\n",
       "      (conv_3): Conv2d(512, 512, kernel_size=(3, 3), stride=(2, 2), padding=(1, 1))\n",
       "      (bn): BatchNorm2d(512, eps=1e-05, momentum=0.1, affine=True, track_running_stats=True)\n",
       "      (activation): PReLU(num_parameters=1)\n",
       "    )\n",
       "    (3): ConvDownBlock(\n",
       "      (conv_1): Conv2d(512, 1024, kernel_size=(3, 3), stride=(1, 1), padding=(1, 1))\n",
       "      (res): ResidualBlock(\n",
       "        (conv_block): Sequential(\n",
       "          (0): Conv2d(1024, 1024, kernel_size=(3, 3), stride=(1, 1), padding=(1, 1))\n",
       "          (1): BatchNorm2d(1024, eps=1e-05, momentum=0.1, affine=True, track_running_stats=True)\n",
       "          (2): PReLU(num_parameters=1)\n",
       "          (3): Conv2d(1024, 1024, kernel_size=(3, 3), stride=(1, 1), padding=(1, 1))\n",
       "          (4): BatchNorm2d(1024, eps=1e-05, momentum=0.1, affine=True, track_running_stats=True)\n",
       "          (5): PReLU(num_parameters=1)\n",
       "        )\n",
       "        (conv_1x1): Conv2d(1024, 1024, kernel_size=(1, 1), stride=(1, 1))\n",
       "      )\n",
       "      (conv_3): Conv2d(1024, 1024, kernel_size=(3, 3), stride=(2, 2), padding=(1, 1))\n",
       "      (bn): BatchNorm2d(1024, eps=1e-05, momentum=0.1, affine=True, track_running_stats=True)\n",
       "      (activation): PReLU(num_parameters=1)\n",
       "    )\n",
       "  )\n",
       "  (res_layer_1): Sequential(\n",
       "    (0): Conv2d(1024, 1024, kernel_size=(3, 3), stride=(1, 1), padding=(1, 1))\n",
       "    (1): BatchNorm2d(1024, eps=1e-05, momentum=0.1, affine=True, track_running_stats=True)\n",
       "    (2): PReLU(num_parameters=1)\n",
       "    (3): ResidualBlock(\n",
       "      (conv_block): Sequential(\n",
       "        (0): Conv2d(1024, 1024, kernel_size=(3, 3), stride=(1, 1), padding=(1, 1))\n",
       "        (1): BatchNorm2d(1024, eps=1e-05, momentum=0.1, affine=True, track_running_stats=True)\n",
       "        (2): PReLU(num_parameters=1)\n",
       "        (3): Conv2d(1024, 1024, kernel_size=(3, 3), stride=(1, 1), padding=(1, 1))\n",
       "        (4): BatchNorm2d(1024, eps=1e-05, momentum=0.1, affine=True, track_running_stats=True)\n",
       "        (5): PReLU(num_parameters=1)\n",
       "      )\n",
       "      (conv_1x1): Conv2d(1024, 1024, kernel_size=(1, 1), stride=(1, 1))\n",
       "    )\n",
       "    (4): ResidualBlock(\n",
       "      (conv_block): Sequential(\n",
       "        (0): Conv2d(1024, 1024, kernel_size=(3, 3), stride=(1, 1), padding=(1, 1))\n",
       "        (1): BatchNorm2d(1024, eps=1e-05, momentum=0.1, affine=True, track_running_stats=True)\n",
       "        (2): PReLU(num_parameters=1)\n",
       "        (3): Conv2d(1024, 1024, kernel_size=(3, 3), stride=(1, 1), padding=(1, 1))\n",
       "        (4): BatchNorm2d(1024, eps=1e-05, momentum=0.1, affine=True, track_running_stats=True)\n",
       "        (5): PReLU(num_parameters=1)\n",
       "      )\n",
       "      (conv_1x1): Conv2d(1024, 1024, kernel_size=(1, 1), stride=(1, 1))\n",
       "    )\n",
       "    (5): ResidualBlock(\n",
       "      (conv_block): Sequential(\n",
       "        (0): Conv2d(1024, 1024, kernel_size=(3, 3), stride=(1, 1), padding=(1, 1))\n",
       "        (1): BatchNorm2d(1024, eps=1e-05, momentum=0.1, affine=True, track_running_stats=True)\n",
       "        (2): PReLU(num_parameters=1)\n",
       "        (3): Conv2d(1024, 1024, kernel_size=(3, 3), stride=(1, 1), padding=(1, 1))\n",
       "        (4): BatchNorm2d(1024, eps=1e-05, momentum=0.1, affine=True, track_running_stats=True)\n",
       "        (5): PReLU(num_parameters=1)\n",
       "      )\n",
       "      (conv_1x1): Conv2d(1024, 1024, kernel_size=(1, 1), stride=(1, 1))\n",
       "    )\n",
       "    (6): ResidualBlock(\n",
       "      (conv_block): Sequential(\n",
       "        (0): Conv2d(1024, 1024, kernel_size=(3, 3), stride=(1, 1), padding=(1, 1))\n",
       "        (1): BatchNorm2d(1024, eps=1e-05, momentum=0.1, affine=True, track_running_stats=True)\n",
       "        (2): PReLU(num_parameters=1)\n",
       "        (3): Conv2d(1024, 1024, kernel_size=(3, 3), stride=(1, 1), padding=(1, 1))\n",
       "        (4): BatchNorm2d(1024, eps=1e-05, momentum=0.1, affine=True, track_running_stats=True)\n",
       "        (5): PReLU(num_parameters=1)\n",
       "      )\n",
       "      (conv_1x1): Conv2d(1024, 1024, kernel_size=(1, 1), stride=(1, 1))\n",
       "    )\n",
       "    (7): ResidualBlock(\n",
       "      (conv_block): Sequential(\n",
       "        (0): Conv2d(1024, 1024, kernel_size=(3, 3), stride=(1, 1), padding=(1, 1))\n",
       "        (1): BatchNorm2d(1024, eps=1e-05, momentum=0.1, affine=True, track_running_stats=True)\n",
       "        (2): PReLU(num_parameters=1)\n",
       "        (3): Conv2d(1024, 1024, kernel_size=(3, 3), stride=(1, 1), padding=(1, 1))\n",
       "        (4): BatchNorm2d(1024, eps=1e-05, momentum=0.1, affine=True, track_running_stats=True)\n",
       "        (5): PReLU(num_parameters=1)\n",
       "      )\n",
       "      (conv_1x1): Conv2d(1024, 1024, kernel_size=(1, 1), stride=(1, 1))\n",
       "    )\n",
       "  )\n",
       "  (conv): Sequential(\n",
       "    (0): Conv2d(1024, 1024, kernel_size=(3, 3), stride=(1, 1), padding=(1, 1))\n",
       "    (1): BatchNorm2d(1024, eps=1e-05, momentum=0.1, affine=True, track_running_stats=True)\n",
       "    (2): PReLU(num_parameters=1)\n",
       "  )\n",
       "  (up_sample_layers): ModuleList(\n",
       "    (0): ConvUpBlock(\n",
       "      (conv_1): ConvTranspose2d(1024, 1024, kernel_size=(3, 3), stride=(2, 2), padding=(1, 1))\n",
       "      (bn): BatchNorm2d(1024, eps=1e-05, momentum=0.1, affine=True, track_running_stats=True)\n",
       "      (activation): PReLU(num_parameters=1)\n",
       "      (layers): Sequential(\n",
       "        (0): Conv2d(2048, 512, kernel_size=(3, 3), stride=(1, 1), padding=(1, 1))\n",
       "        (1): BatchNorm2d(512, eps=1e-05, momentum=0.1, affine=True, track_running_stats=True)\n",
       "        (2): PReLU(num_parameters=1)\n",
       "        (3): ResidualBlock(\n",
       "          (conv_block): Sequential(\n",
       "            (0): Conv2d(512, 512, kernel_size=(3, 3), stride=(1, 1), padding=(1, 1))\n",
       "            (1): BatchNorm2d(512, eps=1e-05, momentum=0.1, affine=True, track_running_stats=True)\n",
       "            (2): PReLU(num_parameters=1)\n",
       "            (3): Conv2d(512, 512, kernel_size=(3, 3), stride=(1, 1), padding=(1, 1))\n",
       "            (4): BatchNorm2d(512, eps=1e-05, momentum=0.1, affine=True, track_running_stats=True)\n",
       "            (5): PReLU(num_parameters=1)\n",
       "          )\n",
       "          (conv_1x1): Conv2d(512, 512, kernel_size=(1, 1), stride=(1, 1))\n",
       "        )\n",
       "      )\n",
       "    )\n",
       "    (1): ConvUpBlock(\n",
       "      (conv_1): ConvTranspose2d(512, 512, kernel_size=(3, 3), stride=(2, 2), padding=(1, 1))\n",
       "      (bn): BatchNorm2d(512, eps=1e-05, momentum=0.1, affine=True, track_running_stats=True)\n",
       "      (activation): PReLU(num_parameters=1)\n",
       "      (layers): Sequential(\n",
       "        (0): Conv2d(1024, 256, kernel_size=(3, 3), stride=(1, 1), padding=(1, 1))\n",
       "        (1): BatchNorm2d(256, eps=1e-05, momentum=0.1, affine=True, track_running_stats=True)\n",
       "        (2): PReLU(num_parameters=1)\n",
       "        (3): ResidualBlock(\n",
       "          (conv_block): Sequential(\n",
       "            (0): Conv2d(256, 256, kernel_size=(3, 3), stride=(1, 1), padding=(1, 1))\n",
       "            (1): BatchNorm2d(256, eps=1e-05, momentum=0.1, affine=True, track_running_stats=True)\n",
       "            (2): PReLU(num_parameters=1)\n",
       "            (3): Conv2d(256, 256, kernel_size=(3, 3), stride=(1, 1), padding=(1, 1))\n",
       "            (4): BatchNorm2d(256, eps=1e-05, momentum=0.1, affine=True, track_running_stats=True)\n",
       "            (5): PReLU(num_parameters=1)\n",
       "          )\n",
       "          (conv_1x1): Conv2d(256, 256, kernel_size=(1, 1), stride=(1, 1))\n",
       "        )\n",
       "      )\n",
       "    )\n",
       "    (2): ConvUpBlock(\n",
       "      (conv_1): ConvTranspose2d(256, 256, kernel_size=(3, 3), stride=(2, 2), padding=(1, 1))\n",
       "      (bn): BatchNorm2d(256, eps=1e-05, momentum=0.1, affine=True, track_running_stats=True)\n",
       "      (activation): PReLU(num_parameters=1)\n",
       "      (layers): Sequential(\n",
       "        (0): Conv2d(512, 128, kernel_size=(3, 3), stride=(1, 1), padding=(1, 1))\n",
       "        (1): BatchNorm2d(128, eps=1e-05, momentum=0.1, affine=True, track_running_stats=True)\n",
       "        (2): PReLU(num_parameters=1)\n",
       "        (3): ResidualBlock(\n",
       "          (conv_block): Sequential(\n",
       "            (0): Conv2d(128, 128, kernel_size=(3, 3), stride=(1, 1), padding=(1, 1))\n",
       "            (1): BatchNorm2d(128, eps=1e-05, momentum=0.1, affine=True, track_running_stats=True)\n",
       "            (2): PReLU(num_parameters=1)\n",
       "            (3): Conv2d(128, 128, kernel_size=(3, 3), stride=(1, 1), padding=(1, 1))\n",
       "            (4): BatchNorm2d(128, eps=1e-05, momentum=0.1, affine=True, track_running_stats=True)\n",
       "            (5): PReLU(num_parameters=1)\n",
       "          )\n",
       "          (conv_1x1): Conv2d(128, 128, kernel_size=(1, 1), stride=(1, 1))\n",
       "        )\n",
       "      )\n",
       "    )\n",
       "    (3): ConvUpBlock(\n",
       "      (conv_1): ConvTranspose2d(128, 128, kernel_size=(3, 3), stride=(2, 2), padding=(1, 1))\n",
       "      (bn): BatchNorm2d(128, eps=1e-05, momentum=0.1, affine=True, track_running_stats=True)\n",
       "      (activation): PReLU(num_parameters=1)\n",
       "      (layers): Sequential(\n",
       "        (0): Conv2d(256, 128, kernel_size=(3, 3), stride=(1, 1), padding=(1, 1))\n",
       "        (1): BatchNorm2d(128, eps=1e-05, momentum=0.1, affine=True, track_running_stats=True)\n",
       "        (2): PReLU(num_parameters=1)\n",
       "        (3): ResidualBlock(\n",
       "          (conv_block): Sequential(\n",
       "            (0): Conv2d(128, 128, kernel_size=(3, 3), stride=(1, 1), padding=(1, 1))\n",
       "            (1): BatchNorm2d(128, eps=1e-05, momentum=0.1, affine=True, track_running_stats=True)\n",
       "            (2): PReLU(num_parameters=1)\n",
       "            (3): Conv2d(128, 128, kernel_size=(3, 3), stride=(1, 1), padding=(1, 1))\n",
       "            (4): BatchNorm2d(128, eps=1e-05, momentum=0.1, affine=True, track_running_stats=True)\n",
       "            (5): PReLU(num_parameters=1)\n",
       "          )\n",
       "          (conv_1x1): Conv2d(128, 128, kernel_size=(1, 1), stride=(1, 1))\n",
       "        )\n",
       "      )\n",
       "    )\n",
       "  )\n",
       "  (conv2): Sequential(\n",
       "    (0): Conv2d(128, 64, kernel_size=(1, 1), stride=(1, 1))\n",
       "    (1): Conv2d(64, 2, kernel_size=(1, 1), stride=(1, 1))\n",
       "  )\n",
       ")"
      ]
     },
     "execution_count": 16,
     "metadata": {},
     "output_type": "execute_result"
    }
   ],
   "source": [
    "generator = UNetModel(\n",
    "    in_chans=4,\n",
    "    out_chans=2,\n",
    ")\n",
    "generator.to(device)"
   ]
  },
  {
   "cell_type": "code",
   "execution_count": 17,
   "id": "a004b2ed-b7d6-43c5-9d2e-d8e3639e9fc8",
   "metadata": {},
   "outputs": [],
   "source": [
    "def forward(y, mask):\n",
    "    num_vectors = y.size(0)\n",
    "    noise = get_noise(num_vectors, mask)\n",
    "    samples = generator(input_data)\n",
    "    samples = readd_measures(samples, y, mask)\n",
    "    return samples"
   ]
  },
  {
   "cell_type": "code",
   "execution_count": 18,
   "id": "967333f4-9846-4246-a1d1-08a3a46a08c0",
   "metadata": {},
   "outputs": [
    {
     "data": {
      "text/plain": [
       "torch.Size([1, 2, 1024, 1024])"
      ]
     },
     "execution_count": 18,
     "metadata": {},
     "output_type": "execute_result"
    }
   ],
   "source": [
    "y.size()"
   ]
  },
  {
   "cell_type": "code",
   "execution_count": 19,
   "id": "1451744d-2316-4b1a-bfb8-42c41d530cf9",
   "metadata": {},
   "outputs": [
    {
     "data": {
      "text/plain": [
       "torch.Size([1, 2, 1024, 1024])"
      ]
     },
     "execution_count": 19,
     "metadata": {},
     "output_type": "execute_result"
    }
   ],
   "source": [
    "noise.size()"
   ]
  },
  {
   "cell_type": "code",
   "execution_count": 20,
   "id": "f83dca0e-2d38-470f-ace6-9e8ec9ce8994",
   "metadata": {},
   "outputs": [],
   "source": [
    "forward_test = forward(y, 0)"
   ]
  },
  {
   "cell_type": "code",
   "execution_count": 28,
   "id": "b141deac-1d62-4267-9843-57488c4ac233",
   "metadata": {},
   "outputs": [
    {
     "data": {
      "text/plain": [
       "1"
      ]
     },
     "execution_count": 28,
     "metadata": {},
     "output_type": "execute_result"
    }
   ],
   "source": [
    "torch.cuda.device_count()"
   ]
  },
  {
   "cell_type": "markdown",
   "id": "fa93326d-7e61-45e4-bb59-26a1cf36cc64",
   "metadata": {},
   "source": [
    "# Test"
   ]
  },
  {
   "cell_type": "code",
   "execution_count": 1,
   "id": "5e88b899-4daf-42e6-a705-483d77edbf7d",
   "metadata": {},
   "outputs": [
    {
     "name": "stderr",
     "output_type": "stream",
     "text": [
      "/share/gpu0/jjwhit/rcGAN/fastmri/__init__.py:16: UserWarning: Could not retrieve fastmri version!\n",
      "  warnings.warn(\"Could not retrieve fastmri version!\")\n"
     ]
    }
   ],
   "source": [
    "import sys\n",
    "sys.path.append('/share/gpu0/jjwhit/rcGAN/')\n",
    "import torch\n",
    "import yaml\n",
    "import types\n",
    "import json\n",
    "\n",
    "import pytorch_lightning as pl\n",
    "\n",
    "from pytorch_lightning.callbacks import ModelCheckpoint\n",
    "from data.lightning.MRIDataModule import MRIDataModule\n",
    "from utils.parse_args import create_arg_parser\n",
    "from models.lightning.rcGAN import rcGAN\n",
    "from pytorch_lightning import seed_everything\n",
    "from pytorch_lightning.loggers import WandbLogger\n",
    "from data.lightning.MassMappingDataModule import MMDataModule\n",
    "from models.lightning.mmGAN import mmGAN"
   ]
  },
  {
   "cell_type": "code",
   "execution_count": 2,
   "id": "2751a32d-c649-4139-a141-c27b02ee3bb9",
   "metadata": {},
   "outputs": [
    {
     "name": "stderr",
     "output_type": "stream",
     "text": [
      "[rank: 0] Global seed set to 0\n"
     ]
    },
    {
     "name": "stdout",
     "output_type": "stream",
     "text": [
      "Experiment Name: mmgan_debug\n",
      "Number of GPUs: 1\n"
     ]
    },
    {
     "name": "stderr",
     "output_type": "stream",
     "text": [
      "Failed to detect the name of this notebook, you can set it manually with the WANDB_NOTEBOOK_NAME environment variable to enable code saving.\n",
      "\u001b[34m\u001b[1mwandb\u001b[0m: Currently logged in as: \u001b[33mjess-j-whitney\u001b[0m. Use \u001b[1m`wandb login --relogin`\u001b[0m to force relogin\n",
      "\u001b[34m\u001b[1mwandb\u001b[0m: \u001b[33mWARNING\u001b[0m Path /share/gpu0/jjwhit/mass_map/mm_models/wandb/wandb/ wasn't writable, using system temp directory.\n",
      "wandb: WARNING Path /share/gpu0/jjwhit/mass_map/mm_models/wandb/wandb/ wasn't writable, using system temp directory\n"
     ]
    },
    {
     "data": {
      "text/html": [
       "wandb version 0.15.4 is available!  To upgrade, please run:\n",
       " $ pip install wandb --upgrade"
      ],
      "text/plain": [
       "<IPython.core.display.HTML object>"
      ]
     },
     "metadata": {},
     "output_type": "display_data"
    },
    {
     "data": {
      "text/html": [
       "Tracking run with wandb version 0.14.0"
      ],
      "text/plain": [
       "<IPython.core.display.HTML object>"
      ]
     },
     "metadata": {},
     "output_type": "display_data"
    },
    {
     "data": {
      "text/html": [
       "Run data is saved locally in <code>/tmp/wandb/run-20230627_164152-f4jfk5ti</code>"
      ],
      "text/plain": [
       "<IPython.core.display.HTML object>"
      ]
     },
     "metadata": {},
     "output_type": "display_data"
    },
    {
     "data": {
      "text/html": [
       "Syncing run <strong><a href='https://wandb.ai/jess-j-whitney/mass_mapping_project/runs/f4jfk5ti' target=\"_blank\">mmgan_debug</a></strong> to <a href='https://wandb.ai/jess-j-whitney/mass_mapping_project' target=\"_blank\">Weights & Biases</a> (<a href='https://wandb.me/run' target=\"_blank\">docs</a>)<br/>"
      ],
      "text/plain": [
       "<IPython.core.display.HTML object>"
      ]
     },
     "metadata": {},
     "output_type": "display_data"
    },
    {
     "data": {
      "text/html": [
       " View project at <a href='https://wandb.ai/jess-j-whitney/mass_mapping_project' target=\"_blank\">https://wandb.ai/jess-j-whitney/mass_mapping_project</a>"
      ],
      "text/plain": [
       "<IPython.core.display.HTML object>"
      ]
     },
     "metadata": {},
     "output_type": "display_data"
    },
    {
     "data": {
      "text/html": [
       " View run at <a href='https://wandb.ai/jess-j-whitney/mass_mapping_project/runs/f4jfk5ti' target=\"_blank\">https://wandb.ai/jess-j-whitney/mass_mapping_project/runs/f4jfk5ti</a>"
      ],
      "text/plain": [
       "<IPython.core.display.HTML object>"
      ]
     },
     "metadata": {},
     "output_type": "display_data"
    },
    {
     "name": "stderr",
     "output_type": "stream",
     "text": [
      "GPU available: True (cuda), used: True\n",
      "TPU available: False, using: 0 TPU cores\n",
      "IPU available: False, using: 0 IPUs\n",
      "HPU available: False, using: 0 HPUs\n",
      "[rank: 0] Global seed set to 0\n",
      "Initializing distributed: GLOBAL_RANK: 0, MEMBER: 1/1\n",
      "[W socket.cpp:426] [c10d] The server socket cannot be initialized on [::]:20575 (errno: 97 - Address family not supported by protocol).\n",
      "[W socket.cpp:601] [c10d] The client socket cannot be initialized to connect to [compute-gpu-0-2.local]:20575 (errno: 97 - Address family not supported by protocol).\n",
      "[W socket.cpp:601] [c10d] The client socket cannot be initialized to connect to [compute-gpu-0-2.local]:20575 (errno: 97 - Address family not supported by protocol).\n",
      "----------------------------------------------------------------------------------------------------\n",
      "distributed_backend=nccl\n",
      "All distributed processes registered. Starting with 1 processes\n",
      "----------------------------------------------------------------------------------------------------\n",
      "\n",
      "LOCAL_RANK: 0 - CUDA_VISIBLE_DEVICES: [2]\n",
      "\n",
      "  | Name          | Type               | Params\n",
      "-----------------------------------------------------\n",
      "0 | generator     | UNetModel          | 195 M \n",
      "1 | discriminator | DiscriminatorModel | 11.0 M\n",
      "-----------------------------------------------------\n",
      "206 M     Trainable params\n",
      "0         Non-trainable params\n",
      "206 M     Total params\n",
      "827.392   Total estimated model params size (MB)\n",
      "SLURM auto-requeueing enabled. Setting signal handlers.\n"
     ]
    },
    {
     "data": {
      "application/vnd.jupyter.widget-view+json": {
       "model_id": "",
       "version_major": 2,
       "version_minor": 0
      },
      "text/plain": [
       "Sanity Checking: 0it [00:00, ?it/s]"
      ]
     },
     "metadata": {},
     "output_type": "display_data"
    },
    {
     "data": {
      "application/vnd.jupyter.widget-view+json": {
       "model_id": "c9bb5ad6579b4797b6c6f4ca7dd29f75",
       "version_major": 2,
       "version_minor": 0
      },
      "text/plain": [
       "Training: 0it [00:00, ?it/s]"
      ]
     },
     "metadata": {},
     "output_type": "display_data"
    },
    {
     "data": {
      "application/vnd.jupyter.widget-view+json": {
       "model_id": "",
       "version_major": 2,
       "version_minor": 0
      },
      "text/plain": [
       "Validation: 0it [00:00, ?it/s]"
      ]
     },
     "metadata": {},
     "output_type": "display_data"
    },
    {
     "data": {
      "application/vnd.jupyter.widget-view+json": {
       "model_id": "",
       "version_major": 2,
       "version_minor": 0
      },
      "text/plain": [
       "Validation: 0it [00:00, ?it/s]"
      ]
     },
     "metadata": {},
     "output_type": "display_data"
    },
    {
     "data": {
      "application/vnd.jupyter.widget-view+json": {
       "model_id": "",
       "version_major": 2,
       "version_minor": 0
      },
      "text/plain": [
       "Validation: 0it [00:00, ?it/s]"
      ]
     },
     "metadata": {},
     "output_type": "display_data"
    },
    {
     "data": {
      "application/vnd.jupyter.widget-view+json": {
       "model_id": "",
       "version_major": 2,
       "version_minor": 0
      },
      "text/plain": [
       "Validation: 0it [00:00, ?it/s]"
      ]
     },
     "metadata": {},
     "output_type": "display_data"
    },
    {
     "name": "stderr",
     "output_type": "stream",
     "text": [
      "`Trainer.fit` stopped: `max_epochs=4` reached.\n",
      "FIT Profiler Report\n",
      "\n",
      "--------------------------------------------------------------------------------------------------------------------------------------------------------------------------------------------------------------------------------------------------------------------------\n",
      "|  Action                                                                                                                                                            \t|  Mean duration (s)\t|  Num calls      \t|  Total time (s) \t|  Percentage %   \t|\n",
      "--------------------------------------------------------------------------------------------------------------------------------------------------------------------------------------------------------------------------------------------------------------------------\n",
      "|  Total                                                                                                                                                             \t|  -              \t|  6320           \t|  239.97         \t|  100 %          \t|\n",
      "--------------------------------------------------------------------------------------------------------------------------------------------------------------------------------------------------------------------------------------------------------------------------\n",
      "|  [Callback]ModelCheckpoint{'monitor': 'epoch', 'mode': 'max', 'every_n_train_steps': 0, 'every_n_epochs': 1, 'train_time_interval': None}.on_train_epoch_end       \t|  30.005         \t|  4              \t|  120.02         \t|  50.015         \t|\n",
      "|  run_training_epoch                                                                                                                                                \t|  27.552         \t|  4              \t|  110.21         \t|  45.926         \t|\n",
      "|  run_training_batch                                                                                                                                                \t|  1.1239         \t|  76             \t|  85.414         \t|  35.594         \t|\n",
      "|  [LightningModule]mmGAN.optimizer_step                                                                                                                             \t|  0.56018        \t|  152            \t|  85.147         \t|  35.483         \t|\n",
      "|  [Strategy]DDPStrategy.backward                                                                                                                                    \t|  0.4535         \t|  152            \t|  68.931         \t|  28.725         \t|\n",
      "|  [Strategy]DDPStrategy.training_step                                                                                                                               \t|  0.092423       \t|  152            \t|  14.048         \t|  5.8542         \t|\n",
      "|  [Strategy]DDPStrategy.validation_step                                                                                                                             \t|  0.3348         \t|  38             \t|  12.722         \t|  5.3017         \t|\n",
      "|  [TrainingEpochLoop].train_dataloader_next                                                                                                                         \t|  0.041143       \t|  76             \t|  3.1269         \t|  1.303          \t|\n",
      "|  [EvaluationEpochLoop].val_dataloader_idx_0_next                                                                                                                   \t|  0.084904       \t|  36             \t|  3.0565         \t|  1.2737         \t|\n",
      "|  [Strategy]DDPStrategy.batch_to_device                                                                                                                             \t|  0.011151       \t|  114            \t|  1.2712         \t|  0.52975        \t|\n",
      "|  [LightningModule]mmGAN.transfer_batch_to_device                                                                                                                   \t|  0.010998       \t|  114            \t|  1.2538         \t|  0.52249        \t|\n",
      "|  [EvaluationEpochLoop].None_dataloader_idx_0_next                                                                                                                  \t|  0.49881        \t|  2              \t|  0.99762        \t|  0.41573        \t|\n",
      "|  [Callback]TQDMProgressBar.on_train_batch_end                                                                                                                      \t|  0.0033045      \t|  76             \t|  0.25114        \t|  0.10466        \t|\n",
      "|  [LightningModule]mmGAN.optimizer_zero_grad                                                                                                                        \t|  0.00091009     \t|  152            \t|  0.13833        \t|  0.057647       \t|\n",
      "|  [Callback]TQDMProgressBar.on_validation_batch_start                                                                                                               \t|  0.002296       \t|  38             \t|  0.087249       \t|  0.036358       \t|\n",
      "|  [Callback]TQDMProgressBar.on_validation_batch_end                                                                                                                 \t|  0.002082       \t|  38             \t|  0.079117       \t|  0.03297        \t|\n",
      "|  [Callback]TQDMProgressBar.on_validation_start                                                                                                                     \t|  0.010286       \t|  5              \t|  0.05143        \t|  0.021432       \t|\n",
      "|  [Callback]TQDMProgressBar.on_sanity_check_start                                                                                                                   \t|  0.011696       \t|  1              \t|  0.011696       \t|  0.0048741      \t|\n",
      "|  [Callback]TQDMProgressBar.on_train_start                                                                                                                          \t|  0.010875       \t|  1              \t|  0.010875       \t|  0.0045318      \t|\n",
      "|  [LightningModule]mmGAN.on_validation_model_eval                                                                                                                   \t|  0.0015748      \t|  5              \t|  0.007874       \t|  0.0032813      \t|\n",
      "|  [LightningModule]mmGAN.configure_gradient_clipping                                                                                                                \t|  5.1626e-05     \t|  152            \t|  0.0078471      \t|  0.0032701      \t|\n",
      "|  [Callback]ModelSummary.on_fit_start                                                                                                                               \t|  0.007779       \t|  1              \t|  0.007779       \t|  0.0032417      \t|\n",
      "|  [LightningModule]mmGAN.validation_epoch_end                                                                                                                       \t|  0.001416       \t|  5              \t|  0.0070799      \t|  0.0029504      \t|\n",
      "|  [LightningModule]mmGAN.on_validation_model_train                                                                                                                  \t|  0.0014038      \t|  5              \t|  0.007019       \t|  0.002925       \t|\n",
      "|  [Callback]TQDMProgressBar.on_train_epoch_start                                                                                                                    \t|  0.0015084      \t|  4              \t|  0.0060335      \t|  0.0025143      \t|\n",
      "|  [Callback]TQDMProgressBar.on_validation_end                                                                                                                       \t|  0.0010689      \t|  5              \t|  0.0053445      \t|  0.0022272      \t|\n",
      "|  [Callback]ModelCheckpoint{'monitor': 'epoch', 'mode': 'max', 'every_n_train_steps': 0, 'every_n_epochs': 1, 'train_time_interval': None}.on_train_batch_end       \t|  5.9166e-05     \t|  76             \t|  0.0044966      \t|  0.0018738      \t|\n",
      "|  [LightningDataModule]MMDataModule.setup                                                                                                                           \t|  0.0016295      \t|  1              \t|  0.0016295      \t|  0.00067904     \t|\n",
      "|  [Callback]TQDMProgressBar.on_train_epoch_end                                                                                                                      \t|  0.00038707     \t|  4              \t|  0.0015483      \t|  0.0006452      \t|\n",
      "|  [Callback]TQDMProgressBar.on_after_backward                                                                                                                       \t|  9.2833e-06     \t|  152            \t|  0.0014111      \t|  0.00058802     \t|\n",
      "|  [LightningModule]mmGAN.configure_optimizers                                                                                                                       \t|  0.00080902     \t|  1              \t|  0.00080902     \t|  0.00033714     \t|\n",
      "|  [Callback]TQDMProgressBar.on_train_end                                                                                                                            \t|  0.00080067     \t|  1              \t|  0.00080067     \t|  0.00033366     \t|\n",
      "|  [Callback]ModelCheckpoint{'monitor': 'epoch', 'mode': 'max', 'every_n_train_steps': 0, 'every_n_epochs': 1, 'train_time_interval': None}.setup                    \t|  0.00066345     \t|  1              \t|  0.00066345     \t|  0.00027648     \t|\n",
      "|  [Callback]ModelSummary.on_train_batch_end                                                                                                                         \t|  7.9961e-06     \t|  76             \t|  0.0006077      \t|  0.00025324     \t|\n",
      "|  [Callback]TQDMProgressBar.on_before_zero_grad                                                                                                                     \t|  3.853e-06      \t|  152            \t|  0.00058566     \t|  0.00024406     \t|\n",
      "|  [Callback]TQDMProgressBar.on_before_optimizer_step                                                                                                                \t|  3.4564e-06     \t|  152            \t|  0.00052538     \t|  0.00021894     \t|\n",
      "|  [Callback]ModelSummary.on_after_backward                                                                                                                          \t|  3.1555e-06     \t|  152            \t|  0.00047964     \t|  0.00019988     \t|\n",
      "|  [LightningModule]mmGAN.on_before_batch_transfer                                                                                                                   \t|  3.7365e-06     \t|  114            \t|  0.00042596     \t|  0.00017751     \t|\n",
      "|  [LightningModule]mmGAN.on_after_backward                                                                                                                          \t|  2.7111e-06     \t|  152            \t|  0.00041209     \t|  0.00017173     \t|\n",
      "|  [Callback]TQDMProgressBar.on_before_backward                                                                                                                      \t|  2.6546e-06     \t|  152            \t|  0.0004035      \t|  0.00016815     \t|\n",
      "|  [Callback]TQDMProgressBar.on_train_batch_start                                                                                                                    \t|  5.1425e-06     \t|  76             \t|  0.00039083     \t|  0.00016287     \t|\n",
      "|  [LightningModule]mmGAN.training_step_end                                                                                                                          \t|  2.5231e-06     \t|  152            \t|  0.00038352     \t|  0.00015982     \t|\n",
      "|  [Callback]GradientAccumulationScheduler.on_before_optimizer_step                                                                                                  \t|  2.3025e-06     \t|  152            \t|  0.00034998     \t|  0.00014584     \t|\n",
      "|  [Callback]GradientAccumulationScheduler.on_after_backward                                                                                                         \t|  2.2114e-06     \t|  152            \t|  0.00033614     \t|  0.00014008     \t|\n",
      "|  [Callback]ModelCheckpoint{'monitor': 'epoch', 'mode': 'max', 'every_n_train_steps': 0, 'every_n_epochs': 1, 'train_time_interval': None}.on_after_backward        \t|  2.2037e-06     \t|  152            \t|  0.00033496     \t|  0.00013958     \t|\n",
      "|  [Callback]ModelCheckpoint{'monitor': 'epoch', 'mode': 'max', 'every_n_train_steps': 0, 'every_n_epochs': 1, 'train_time_interval': None}.on_before_optimizer_step \t|  2.202e-06      \t|  152            \t|  0.0003347      \t|  0.00013948     \t|\n",
      "|  [Callback]ModelSummary.on_before_optimizer_step                                                                                                                   \t|  2.1825e-06     \t|  152            \t|  0.00033174     \t|  0.00013824     \t|\n",
      "|  [Callback]ModelCheckpoint{'monitor': 'epoch', 'mode': 'max', 'every_n_train_steps': 0, 'every_n_epochs': 1, 'train_time_interval': None}.on_validation_end        \t|  6.4076e-05     \t|  5              \t|  0.00032038     \t|  0.00013351     \t|\n",
      "|  [LightningModule]mmGAN.on_before_zero_grad                                                                                                                        \t|  1.9668e-06     \t|  152            \t|  0.00029896     \t|  0.00012458     \t|\n",
      "|  [LightningModule]mmGAN.on_after_batch_transfer                                                                                                                    \t|  2.5794e-06     \t|  114            \t|  0.00029406     \t|  0.00012254     \t|\n",
      "|  [Callback]ModelSummary.on_before_zero_grad                                                                                                                        \t|  1.8303e-06     \t|  152            \t|  0.00027821     \t|  0.00011593     \t|\n",
      "|  [Callback]GradientAccumulationScheduler.on_before_backward                                                                                                        \t|  1.8049e-06     \t|  152            \t|  0.00027435     \t|  0.00011433     \t|\n",
      "|  [LightningModule]mmGAN.on_before_backward                                                                                                                         \t|  1.7703e-06     \t|  152            \t|  0.00026908     \t|  0.00011213     \t|\n",
      "|  [Callback]ModelSummary.on_validation_batch_end                                                                                                                    \t|  7.0753e-06     \t|  38             \t|  0.00026886     \t|  0.00011204     \t|\n",
      "|  [Strategy]DDPStrategy.training_step_end                                                                                                                           \t|  1.7582e-06     \t|  152            \t|  0.00026724     \t|  0.00011137     \t|\n",
      "|  [Callback]GradientAccumulationScheduler.on_before_zero_grad                                                                                                       \t|  1.7273e-06     \t|  152            \t|  0.00026254     \t|  0.00010941     \t|\n",
      "|  [Callback]ModelSummary.on_before_backward                                                                                                                         \t|  1.6785e-06     \t|  152            \t|  0.00025514     \t|  0.00010632     \t|\n",
      "|  [Callback]ModelCheckpoint{'monitor': 'epoch', 'mode': 'max', 'every_n_train_steps': 0, 'every_n_epochs': 1, 'train_time_interval': None}.on_before_backward       \t|  1.6765e-06     \t|  152            \t|  0.00025483     \t|  0.00010619     \t|\n",
      "|  [LightningModule]mmGAN.on_before_optimizer_step                                                                                                                   \t|  1.676e-06      \t|  152            \t|  0.00025476     \t|  0.00010616     \t|\n",
      "|  [Callback]ModelCheckpoint{'monitor': 'epoch', 'mode': 'max', 'every_n_train_steps': 0, 'every_n_epochs': 1, 'train_time_interval': None}.on_before_zero_grad      \t|  1.6671e-06     \t|  152            \t|  0.0002534      \t|  0.0001056      \t|\n",
      "|  [LightningModule]mmGAN.on_train_batch_end                                                                                                                         \t|  3.0502e-06     \t|  76             \t|  0.00023182     \t|  9.6603e-05     \t|\n",
      "|  [Callback]GradientAccumulationScheduler.on_train_batch_end                                                                                                        \t|  3.0253e-06     \t|  76             \t|  0.00022992     \t|  9.5814e-05     \t|\n",
      "|  [Callback]ModelSummary.on_validation_batch_start                                                                                                                  \t|  4.8568e-06     \t|  38             \t|  0.00018456     \t|  7.6909e-05     \t|\n",
      "|  [Callback]ModelSummary.on_train_batch_start                                                                                                                       \t|  2.4116e-06     \t|  76             \t|  0.00018328     \t|  7.6376e-05     \t|\n",
      "|  [LightningModule]mmGAN.on_train_batch_start                                                                                                                       \t|  2.3835e-06     \t|  76             \t|  0.00018115     \t|  7.5488e-05     \t|\n",
      "|  [Callback]ModelCheckpoint{'monitor': 'epoch', 'mode': 'max', 'every_n_train_steps': 0, 'every_n_epochs': 1, 'train_time_interval': None}.on_train_batch_start     \t|  2.1067e-06     \t|  76             \t|  0.00016011     \t|  6.6722e-05     \t|\n",
      "|  [Callback]GradientAccumulationScheduler.on_train_batch_start                                                                                                      \t|  2.059e-06      \t|  76             \t|  0.00015649     \t|  6.5211e-05     \t|\n",
      "|  [Strategy]DDPStrategy.on_train_batch_start                                                                                                                        \t|  2.0342e-06     \t|  76             \t|  0.0001546      \t|  6.4424e-05     \t|\n",
      "|  [LightningModule]mmGAN.validation_step_end                                                                                                                        \t|  3.3535e-06     \t|  38             \t|  0.00012743     \t|  5.3104e-05     \t|\n",
      "|  [Callback]GradientAccumulationScheduler.on_validation_batch_end                                                                                                   \t|  2.6227e-06     \t|  38             \t|  9.9664e-05     \t|  4.1532e-05     \t|\n",
      "|  [LightningModule]mmGAN.on_validation_batch_start                                                                                                                  \t|  2.3932e-06     \t|  38             \t|  9.0941e-05     \t|  3.7897e-05     \t|\n",
      "|  [LightningModule]mmGAN.on_validation_batch_end                                                                                                                    \t|  2.255e-06      \t|  38             \t|  8.5689e-05     \t|  3.5709e-05     \t|\n",
      "|  [Strategy]DDPStrategy.validation_step_end                                                                                                                         \t|  2.1455e-06     \t|  38             \t|  8.1529e-05     \t|  3.3975e-05     \t|\n",
      "|  [Callback]GradientAccumulationScheduler.on_validation_batch_start                                                                                                 \t|  2.0394e-06     \t|  38             \t|  7.7497e-05     \t|  3.2295e-05     \t|\n",
      "|  [Callback]ModelCheckpoint{'monitor': 'epoch', 'mode': 'max', 'every_n_train_steps': 0, 'every_n_epochs': 1, 'train_time_interval': None}.on_validation_batch_end  \t|  1.9347e-06     \t|  38             \t|  7.3518e-05     \t|  3.0637e-05     \t|\n",
      "|  [Callback]ModelCheckpoint{'monitor': 'epoch', 'mode': 'max', 'every_n_train_steps': 0, 'every_n_epochs': 1, 'train_time_interval': None}.on_validation_batch_start\t|  1.9165e-06     \t|  38             \t|  7.2828e-05     \t|  3.0349e-05     \t|\n",
      "|  [Callback]ModelSummary.on_validation_end                                                                                                                          \t|  1.0849e-05     \t|  5              \t|  5.4246e-05     \t|  2.2606e-05     \t|\n",
      "|  [Callback]ModelSummary.on_validation_start                                                                                                                        \t|  9.5614e-06     \t|  5              \t|  4.7807e-05     \t|  1.9922e-05     \t|\n",
      "|  [LightningModule]mmGAN.on_validation_start                                                                                                                        \t|  7.3386e-06     \t|  5              \t|  3.6693e-05     \t|  1.5291e-05     \t|\n",
      "|  [Callback]GradientAccumulationScheduler.on_train_epoch_start                                                                                                      \t|  7.9863e-06     \t|  4              \t|  3.1945e-05     \t|  1.3312e-05     \t|\n",
      "|  [Callback]TQDMProgressBar.on_validation_epoch_end                                                                                                                 \t|  6.0277e-06     \t|  5              \t|  3.0139e-05     \t|  1.2559e-05     \t|\n",
      "|  [Callback]ModelSummary.on_train_epoch_start                                                                                                                       \t|  7.2593e-06     \t|  4              \t|  2.9037e-05     \t|  1.21e-05       \t|\n",
      "|  [Callback]TQDMProgressBar.on_validation_epoch_start                                                                                                               \t|  4.9669e-06     \t|  5              \t|  2.4835e-05     \t|  1.0349e-05     \t|\n",
      "|  [LightningModule]mmGAN.on_save_checkpoint                                                                                                                         \t|  6.0685e-06     \t|  4              \t|  2.4274e-05     \t|  1.0116e-05     \t|\n",
      "|  [Callback]ModelSummary.on_train_epoch_end                                                                                                                         \t|  5.8031e-06     \t|  4              \t|  2.3212e-05     \t|  9.6731e-06     \t|\n",
      "|  [Callback]GradientAccumulationScheduler.on_validation_start                                                                                                       \t|  4.5002e-06     \t|  5              \t|  2.2501e-05     \t|  9.3766e-06     \t|\n",
      "|  [LightningModule]mmGAN.on_validation_end                                                                                                                          \t|  4.454e-06      \t|  5              \t|  2.227e-05      \t|  9.2803e-06     \t|\n",
      "|  [Strategy]DDPStrategy.on_validation_end                                                                                                                           \t|  3.9671e-06     \t|  5              \t|  1.9835e-05     \t|  8.2658e-06     \t|\n",
      "|  [Callback]TQDMProgressBar.setup                                                                                                                                   \t|  1.8243e-05     \t|  1              \t|  1.8243e-05     \t|  7.6022e-06     \t|\n",
      "|  [LightningDataModule]MMDataModule.state_dict                                                                                                                      \t|  4.196e-06      \t|  4              \t|  1.6784e-05     \t|  6.9942e-06     \t|\n",
      "|  [Callback]ModelCheckpoint{'monitor': 'epoch', 'mode': 'max', 'every_n_train_steps': 0, 'every_n_epochs': 1, 'train_time_interval': None}.on_validation_start      \t|  2.8792e-06     \t|  5              \t|  1.4396e-05     \t|  5.9991e-06     \t|\n",
      "|  [Callback]ModelSummary.on_validation_epoch_start                                                                                                                  \t|  2.7034e-06     \t|  5              \t|  1.3517e-05     \t|  5.6327e-06     \t|\n",
      "|  [LightningModule]mmGAN.on_train_epoch_end                                                                                                                         \t|  3.1228e-06     \t|  4              \t|  1.2491e-05     \t|  5.2054e-06     \t|\n",
      "|  [Callback]ModelCheckpoint{'monitor': 'epoch', 'mode': 'max', 'every_n_train_steps': 0, 'every_n_epochs': 1, 'train_time_interval': None}.on_validation_epoch_start\t|  2.4196e-06     \t|  5              \t|  1.2098e-05     \t|  5.0415e-06     \t|\n",
      "|  [Callback]TQDMProgressBar.on_save_checkpoint                                                                                                                      \t|  2.934e-06      \t|  4              \t|  1.1736e-05     \t|  4.8907e-06     \t|\n",
      "|  [Callback]GradientAccumulationScheduler.on_validation_epoch_start                                                                                                 \t|  2.3241e-06     \t|  5              \t|  1.1621e-05     \t|  4.8426e-06     \t|\n",
      "|  [LightningModule]mmGAN.on_validation_epoch_end                                                                                                                    \t|  2.2849e-06     \t|  5              \t|  1.1425e-05     \t|  4.7609e-06     \t|\n",
      "|  [Strategy]DDPStrategy.on_validation_start                                                                                                                         \t|  2.2597e-06     \t|  5              \t|  1.1298e-05     \t|  4.7083e-06     \t|\n",
      "|  [Callback]ModelSummary.on_validation_epoch_end                                                                                                                    \t|  2.0035e-06     \t|  5              \t|  1.0017e-05     \t|  4.1744e-06     \t|\n",
      "|  [LightningModule]mmGAN.on_validation_epoch_start                                                                                                                  \t|  1.9295e-06     \t|  5              \t|  9.6476e-06     \t|  4.0204e-06     \t|\n",
      "|  [Callback]GradientAccumulationScheduler.on_validation_epoch_end                                                                                                   \t|  1.8409e-06     \t|  5              \t|  9.2047e-06     \t|  3.8358e-06     \t|\n",
      "|  [Callback]ModelCheckpoint{'monitor': 'epoch', 'mode': 'max', 'every_n_train_steps': 0, 'every_n_epochs': 1, 'train_time_interval': None}.on_validation_epoch_end  \t|  1.7595e-06     \t|  5              \t|  8.7977e-06     \t|  3.6662e-06     \t|\n",
      "|  [Callback]ModelCheckpoint{'monitor': 'epoch', 'mode': 'max', 'every_n_train_steps': 0, 'every_n_epochs': 1, 'train_time_interval': None}.on_train_epoch_start     \t|  2.1363e-06     \t|  4              \t|  8.5454e-06     \t|  3.561e-06      \t|\n",
      "|  [Callback]GradientAccumulationScheduler.on_validation_end                                                                                                         \t|  1.5963e-06     \t|  5              \t|  7.9814e-06     \t|  3.326e-06      \t|\n",
      "|  [LightningModule]mmGAN.on_train_epoch_start                                                                                                                       \t|  1.8366e-06     \t|  4              \t|  7.3463e-06     \t|  3.0614e-06     \t|\n",
      "|  [Callback]TQDMProgressBar.on_sanity_check_end                                                                                                                     \t|  6.7321e-06     \t|  1              \t|  6.7321e-06     \t|  2.8054e-06     \t|\n",
      "|  [Callback]ModelSummary.on_train_end                                                                                                                               \t|  6.6487e-06     \t|  1              \t|  6.6487e-06     \t|  2.7707e-06     \t|\n",
      "|  [Callback]ModelSummary.on_save_checkpoint                                                                                                                         \t|  1.6378e-06     \t|  4              \t|  6.5514e-06     \t|  2.7301e-06     \t|\n",
      "|  [Callback]GradientAccumulationScheduler.on_train_epoch_end                                                                                                        \t|  1.5965e-06     \t|  4              \t|  6.3861e-06     \t|  2.6612e-06     \t|\n",
      "|  [Callback]ModelSummary.on_sanity_check_start                                                                                                                      \t|  5.9791e-06     \t|  1              \t|  5.9791e-06     \t|  2.4916e-06     \t|\n",
      "|  [Callback]GradientAccumulationScheduler.on_save_checkpoint                                                                                                        \t|  1.3629e-06     \t|  4              \t|  5.4515e-06     \t|  2.2718e-06     \t|\n",
      "|  [Callback]ModelSummary.setup                                                                                                                                      \t|  5.4142e-06     \t|  1              \t|  5.4142e-06     \t|  2.2562e-06     \t|\n",
      "|  [Callback]ModelCheckpoint{'monitor': 'epoch', 'mode': 'max', 'every_n_train_steps': 0, 'every_n_epochs': 1, 'train_time_interval': None}.on_save_checkpoint       \t|  1.3504e-06     \t|  4              \t|  5.4017e-06     \t|  2.251e-06      \t|\n",
      "|  [Callback]ModelSummary.on_train_start                                                                                                                             \t|  5.3439e-06     \t|  1              \t|  5.3439e-06     \t|  2.2269e-06     \t|\n",
      "|  [Callback]TQDMProgressBar.on_fit_end                                                                                                                              \t|  5.2121e-06     \t|  1              \t|  5.2121e-06     \t|  2.172e-06      \t|\n",
      "|  [Callback]GradientAccumulationScheduler.on_fit_start                                                                                                              \t|  5.0804e-06     \t|  1              \t|  5.0804e-06     \t|  2.1171e-06     \t|\n",
      "|  [LightningModule]mmGAN.configure_callbacks                                                                                                                        \t|  4.7782e-06     \t|  1              \t|  4.7782e-06     \t|  1.9912e-06     \t|\n",
      "|  [Callback]ModelCheckpoint{'monitor': 'epoch', 'mode': 'max', 'every_n_train_steps': 0, 'every_n_epochs': 1, 'train_time_interval': None}.on_train_start           \t|  4.1467e-06     \t|  1              \t|  4.1467e-06     \t|  1.728e-06      \t|\n",
      "|  [Callback]TQDMProgressBar.teardown                                                                                                                                \t|  3.7947e-06     \t|  1              \t|  3.7947e-06     \t|  1.5813e-06     \t|\n",
      "|  [Callback]TQDMProgressBar.on_fit_start                                                                                                                            \t|  3.6694e-06     \t|  1              \t|  3.6694e-06     \t|  1.5291e-06     \t|\n",
      "|  [LightningDataModule]MMDataModule.prepare_data                                                                                                                    \t|  3.4841e-06     \t|  1              \t|  3.4841e-06     \t|  1.4519e-06     \t|\n",
      "|  [LightningModule]mmGAN.on_fit_start                                                                                                                               \t|  2.8652e-06     \t|  1              \t|  2.8652e-06     \t|  1.194e-06      \t|\n",
      "|  [Callback]GradientAccumulationScheduler.on_sanity_check_start                                                                                                     \t|  2.6561e-06     \t|  1              \t|  2.6561e-06     \t|  1.1069e-06     \t|\n",
      "|  [Callback]ModelCheckpoint{'monitor': 'epoch', 'mode': 'max', 'every_n_train_steps': 0, 'every_n_epochs': 1, 'train_time_interval': None}.on_sanity_check_start    \t|  2.5718e-06     \t|  1              \t|  2.5718e-06     \t|  1.0717e-06     \t|\n",
      "|  [Callback]GradientAccumulationScheduler.on_train_start                                                                                                            \t|  2.4387e-06     \t|  1              \t|  2.4387e-06     \t|  1.0162e-06     \t|\n",
      "|  [LightningModule]mmGAN.setup                                                                                                                                      \t|  2.4037e-06     \t|  1              \t|  2.4037e-06     \t|  1.0017e-06     \t|\n",
      "|  [Callback]ModelCheckpoint{'monitor': 'epoch', 'mode': 'max', 'every_n_train_steps': 0, 'every_n_epochs': 1, 'train_time_interval': None}.on_train_end             \t|  2.3227e-06     \t|  1              \t|  2.3227e-06     \t|  9.6793e-07     \t|\n",
      "|  [Callback]GradientAccumulationScheduler.on_train_end                                                                                                              \t|  2.285e-06      \t|  1              \t|  2.285e-06      \t|  9.5221e-07     \t|\n",
      "|  [LightningModule]mmGAN.on_train_start                                                                                                                             \t|  2.0382e-06     \t|  1              \t|  2.0382e-06     \t|  8.4936e-07     \t|\n",
      "|  [Callback]ModelSummary.on_sanity_check_end                                                                                                                        \t|  2.0089e-06     \t|  1              \t|  2.0089e-06     \t|  8.3714e-07     \t|\n",
      "|  [Strategy]DDPStrategy.on_train_end                                                                                                                                \t|  1.9483e-06     \t|  1              \t|  1.9483e-06     \t|  8.1191e-07     \t|\n",
      "|  [LightningModule]mmGAN.on_train_end                                                                                                                               \t|  1.9348e-06     \t|  1              \t|  1.9348e-06     \t|  8.0628e-07     \t|\n",
      "|  [LightningModule]mmGAN.configure_sharded_model                                                                                                                    \t|  1.8929e-06     \t|  1              \t|  1.8929e-06     \t|  7.8882e-07     \t|\n",
      "|  [Strategy]DDPStrategy.on_train_start                                                                                                                              \t|  1.8063e-06     \t|  1              \t|  1.8063e-06     \t|  7.5273e-07     \t|\n",
      "|  [LightningModule]mmGAN.prepare_data                                                                                                                               \t|  1.7993e-06     \t|  1              \t|  1.7993e-06     \t|  7.4982e-07     \t|\n",
      "|  [Callback]ModelSummary.on_fit_end                                                                                                                                 \t|  1.7863e-06     \t|  1              \t|  1.7863e-06     \t|  7.4438e-07     \t|\n",
      "|  [LightningModule]mmGAN.on_fit_end                                                                                                                                 \t|  1.7527e-06     \t|  1              \t|  1.7527e-06     \t|  7.3041e-07     \t|\n",
      "|  [LightningDataModule]MMDataModule.teardown                                                                                                                        \t|  1.7243e-06     \t|  1              \t|  1.7243e-06     \t|  7.1857e-07     \t|\n",
      "|  [Callback]ModelCheckpoint{'monitor': 'epoch', 'mode': 'max', 'every_n_train_steps': 0, 'every_n_epochs': 1, 'train_time_interval': None}.on_fit_start             \t|  1.668e-06      \t|  1              \t|  1.668e-06      \t|  6.9509e-07     \t|\n",
      "|  [Callback]ModelSummary.teardown                                                                                                                                   \t|  1.4869e-06     \t|  1              \t|  1.4869e-06     \t|  6.1961e-07     \t|\n",
      "|  [Callback]ModelCheckpoint{'monitor': 'epoch', 'mode': 'max', 'every_n_train_steps': 0, 'every_n_epochs': 1, 'train_time_interval': None}.teardown                 \t|  1.465e-06      \t|  1              \t|  1.465e-06      \t|  6.1049e-07     \t|\n",
      "|  [Callback]GradientAccumulationScheduler.setup                                                                                                                     \t|  1.424e-06      \t|  1              \t|  1.424e-06      \t|  5.9341e-07     \t|\n",
      "|  [Callback]GradientAccumulationScheduler.on_sanity_check_end                                                                                                       \t|  1.3961e-06     \t|  1              \t|  1.3961e-06     \t|  5.8177e-07     \t|\n",
      "|  [Callback]ModelCheckpoint{'monitor': 'epoch', 'mode': 'max', 'every_n_train_steps': 0, 'every_n_epochs': 1, 'train_time_interval': None}.on_fit_end               \t|  1.3206e-06     \t|  1              \t|  1.3206e-06     \t|  5.5033e-07     \t|\n",
      "|  [Callback]ModelCheckpoint{'monitor': 'epoch', 'mode': 'max', 'every_n_train_steps': 0, 'every_n_epochs': 1, 'train_time_interval': None}.on_sanity_check_end      \t|  1.2428e-06     \t|  1              \t|  1.2428e-06     \t|  5.1792e-07     \t|\n",
      "|  [Callback]GradientAccumulationScheduler.teardown                                                                                                                  \t|  1.2279e-06     \t|  1              \t|  1.2279e-06     \t|  5.1171e-07     \t|\n",
      "|  [Callback]GradientAccumulationScheduler.on_fit_end                                                                                                                \t|  1.22e-06       \t|  1              \t|  1.22e-06       \t|  5.0842e-07     \t|\n",
      "|  [LightningModule]mmGAN.teardown                                                                                                                                   \t|  9.574e-07      \t|  1              \t|  9.574e-07      \t|  3.9897e-07     \t|\n",
      "--------------------------------------------------------------------------------------------------------------------------------------------------------------------------------------------------------------------------------------------------------------------------\n",
      "\n"
     ]
    }
   ],
   "source": [
    "%run /share/gpu0/jjwhit/rcGAN/train.py --mass_mapping --exp-name mmgan_debug --num-gpus 1"
   ]
  },
  {
   "cell_type": "code",
   "execution_count": 3,
   "id": "477916a2-9ced-4611-b4d7-6d3a536a04f5",
   "metadata": {},
   "outputs": [
    {
     "name": "stderr",
     "output_type": "stream",
     "text": [
      "[rank: 0] Global seed set to 1\n"
     ]
    },
    {
     "name": "stdout",
     "output_type": "stream",
     "text": [
      "Sequential(\n",
      "  (0): Linear(in_features=25088, out_features=4096, bias=True)\n",
      "  (1): ReLU(inplace=True)\n",
      ")\n",
      "VALIDATING EPOCH: 1\n"
     ]
    },
    {
     "name": "stderr",
     "output_type": "stream",
     "text": [
      "Computing generated distribution: 100%|██████████| 9/9 [00:05<00:00,  1.54it/s]\n"
     ]
    },
    {
     "name": "stdout",
     "output_type": "stream",
     "text": [
      "VALIDATING EPOCH: 2\n"
     ]
    },
    {
     "name": "stderr",
     "output_type": "stream",
     "text": [
      "Computing generated distribution: 100%|██████████| 9/9 [00:03<00:00,  2.43it/s]\n"
     ]
    },
    {
     "name": "stdout",
     "output_type": "stream",
     "text": [
      "VALIDATING EPOCH: 3\n"
     ]
    },
    {
     "name": "stderr",
     "output_type": "stream",
     "text": [
      "Computing generated distribution: 100%|██████████| 9/9 [00:03<00:00,  2.64it/s]\n"
     ]
    },
    {
     "name": "stdout",
     "output_type": "stream",
     "text": [
      "VALIDATING EPOCH: 4\n"
     ]
    },
    {
     "name": "stderr",
     "output_type": "stream",
     "text": [
      "Computing generated distribution: 100%|██████████| 9/9 [00:03<00:00,  2.63it/s]\n"
     ]
    },
    {
     "name": "stdout",
     "output_type": "stream",
     "text": [
      "VALIDATING EPOCH: 5\n",
      "[Errno 2] No such file or directory: '/share/gpu0/jjwhit/mass_map/mm_models/mmgan_debug/checkpoint-epoch=4.ckpt'\n",
      "BEST EPOCH: 1\n"
     ]
    }
   ],
   "source": [
    "%run /share/gpu0/jjwhit/rcGAN/scripts/mass_map/validate.py --exp-name mmgan_debug"
   ]
  },
  {
   "cell_type": "code",
   "execution_count": 6,
   "id": "dd082cc5-2f30-4167-9757-24b600298ecc",
   "metadata": {},
   "outputs": [
    {
     "name": "stderr",
     "output_type": "stream",
     "text": [
      "[rank: 0] Global seed set to 1\n"
     ]
    },
    {
     "name": "stdout",
     "output_type": "stream",
     "text": [
      "Setting up [LPIPS] perceptual loss: trunk [alex], v[0.1], spatial [off]\n",
      "Loading model from: /home/jjwhit/.conda/envs/cGAN/lib/python3.8/site-packages/lpips/weights/v0.1/alex.pth\n",
      "\n",
      "\n",
      "1 SAMPLES\n",
      "AVG Recon\n",
      "PSNR: -15.57 \\pm 0.39\n",
      "SSIM: 0.0000 \\pm 0.0000\n",
      "LPIPS: 1.1077 \\pm 0.0028\n",
      "DISTS: 0.5886 \\pm 0.0019\n",
      "APSD: 0.0\n",
      "\n",
      "\n",
      "2 SAMPLES\n",
      "AVG Recon\n",
      "PSNR: -15.44 \\pm 0.37\n",
      "SSIM: 0.0000 \\pm 0.0000\n",
      "LPIPS: 1.1104 \\pm 0.0011\n",
      "DISTS: 0.5938 \\pm 0.0019\n",
      "APSD: 0.6\n",
      "\n",
      "\n",
      "4 SAMPLES\n",
      "AVG Recon\n",
      "PSNR: -15.34 \\pm 0.40\n",
      "SSIM: 0.0000 \\pm 0.0000\n",
      "LPIPS: 1.1163 \\pm 0.0010\n",
      "DISTS: 0.5980 \\pm 0.0018\n",
      "APSD: 0.8\n",
      "\n",
      "\n",
      "8 SAMPLES\n",
      "AVG Recon\n",
      "PSNR: -15.33 \\pm 0.39\n",
      "SSIM: 0.0000 \\pm 0.0000\n",
      "LPIPS: 1.1232 \\pm 0.0017\n",
      "DISTS: 0.6006 \\pm 0.0019\n",
      "APSD: 0.9\n",
      "\n",
      "\n",
      "16 SAMPLES\n",
      "AVG Recon\n",
      "PSNR: -15.31 \\pm 0.38\n",
      "SSIM: 0.0000 \\pm 0.0000\n",
      "LPIPS: 1.1281 \\pm 0.0016\n",
      "DISTS: 0.6021 \\pm 0.0021\n",
      "APSD: 0.9\n",
      "\n",
      "\n",
      "32 SAMPLES\n",
      "AVG Recon\n",
      "PSNR: -15.31 \\pm 0.39\n",
      "SSIM: 0.0000 \\pm 0.0000\n",
      "LPIPS: 1.1320 \\pm 0.0020\n",
      "DISTS: 0.6032 \\pm 0.0018\n",
      "APSD: 1.0\n",
      "Sequential(\n",
      "  (0): Linear(in_features=25088, out_features=4096, bias=True)\n",
      "  (1): ReLU(inplace=True)\n",
      ")\n"
     ]
    },
    {
     "name": "stderr",
     "output_type": "stream",
     "text": [
      "Computing generated distribution: 100%|██████████| 3/3 [00:58<00:00, 19.39s/it]\n",
      "Computing generated distribution: 100%|██████████| 2/2 [00:14<00:00,  7.17s/it]\n",
      "Computing generated distribution: 100%|██████████| 2/2 [00:03<00:00,  1.60s/it]\n",
      "Computing generated distribution: 100%|██████████| 4/4 [00:05<00:00,  1.41s/it]\n"
     ]
    },
    {
     "name": "stdout",
     "output_type": "stream",
     "text": [
      "\n",
      "\n",
      "\n",
      "CFID_1: 11.51; M_COMP: 11.4313; C_COMP: 0.0785\n",
      "CFID_2: 11.73; M_COMP: 11.6405; C_COMP: 0.0908\n",
      "CFID_3: 11.60; M_COMP: 11.5082; C_COMP: 0.0911\n"
     ]
    }
   ],
   "source": [
    "%run /share/gpu0/jjwhit/rcGAN/scripts/mass_map/test.py --exp-name mmgan_debug"
   ]
  },
  {
   "cell_type": "code",
   "execution_count": null,
   "id": "044f260f-22b1-4bc1-bf9e-84067b009df0",
   "metadata": {},
   "outputs": [],
   "source": []
  },
  {
   "cell_type": "code",
   "execution_count": null,
   "id": "e6c066b8-2cc7-4552-ab41-e09ca283e032",
   "metadata": {},
   "outputs": [],
   "source": []
  }
 ],
 "metadata": {
  "kernelspec": {
   "display_name": "cGAN",
   "language": "python",
   "name": "cgan"
  },
  "language_info": {
   "codemirror_mode": {
    "name": "ipython",
    "version": 3
   },
   "file_extension": ".py",
   "mimetype": "text/x-python",
   "name": "python",
   "nbconvert_exporter": "python",
   "pygments_lexer": "ipython3",
   "version": "3.8.16"
  }
 },
 "nbformat": 4,
 "nbformat_minor": 5
}
