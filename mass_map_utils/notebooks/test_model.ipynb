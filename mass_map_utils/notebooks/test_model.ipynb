{
 "cells": [
  {
   "cell_type": "code",
   "execution_count": 1,
   "id": "5845f949-4cd3-4d45-bad3-7cd64ddf99b6",
   "metadata": {},
   "outputs": [
    {
     "name": "stderr",
     "output_type": "stream",
     "text": [
      "/share/gpu0/jjwhit/rcGAN/fastmri/__init__.py:16: UserWarning: Could not retrieve fastmri version!\n",
      "  warnings.warn(\"Could not retrieve fastmri version!\")\n"
     ]
    }
   ],
   "source": [
    "import sys\n",
    "sys.path.append('/share/gpu0/jjwhit/rcGAN/')\n",
    "import torch\n",
    "\n",
    "import pytorch_lightning as pl\n",
    "import numpy as np\n",
    "import torch.autograd as autograd\n",
    "import sigpy as sp\n",
    "from matplotlib import cm\n",
    "\n",
    "from PIL import Image\n",
    "from torch.nn import functional as F\n",
    "from utils.mri.fftc import ifft2c_new, fft2c_new\n",
    "from utils.mri.math import tensor_to_complex_np\n",
    "from models.archs.mass_map.generator import UNetModel\n",
    "from models.archs.mass_map.discriminator import DiscriminatorModel\n",
    "from evaluation_scripts.metrics import psnr\n",
    "from torchmetrics.functional import peak_signal_noise_ratio\n",
    "\n",
    "from data.lightning.MassMappingDataModule import MMDataTransform\n",
    "from data.datasets.MM_data import MassMappingDataset_Test, MassMappingDataset_Train, MassMappingDataset_Val"
   ]
  },
  {
   "cell_type": "code",
   "execution_count": 2,
   "id": "54ff3088-c91c-43ca-9b7b-34e48b01588d",
   "metadata": {},
   "outputs": [],
   "source": [
    "data_dir = '/share/gpu0/jjwhit/kappa_cosmos_simulations/cropped_dataset/kappa_val/'"
   ]
  },
  {
   "cell_type": "code",
   "execution_count": 3,
   "id": "141a8ec8-e45a-46d3-b3ec-d7dc930b4e2b",
   "metadata": {},
   "outputs": [],
   "source": [
    "import yaml\n",
    "import json\n",
    "import types\n",
    "import torch\n",
    "import os\n",
    "\n",
    "device = torch.device('cuda' if torch.cuda.is_available() else 'cpu')\n",
    "\n",
    "def load_object(dct):\n",
    "    return types.SimpleNamespace(**dct)\n",
    "\n",
    "with open('/share/gpu0/jjwhit/rcGAN/configs/mass_map.yml', 'r') as f:\n",
    "    cfg = yaml.load(f, Loader=yaml.FullLoader)\n",
    "    cfg = json.loads(json.dumps(cfg), object_hook=load_object)"
   ]
  },
  {
   "cell_type": "code",
   "execution_count": 4,
   "id": "a712da7c-2594-4cc2-bf6e-d031e7b537db",
   "metadata": {},
   "outputs": [
    {
     "ename": "ValueError",
     "evalue": "operands could not be broadcast together with shapes (300,300) (1024,1024) ",
     "output_type": "error",
     "traceback": [
      "\u001b[0;31m---------------------------------------------------------------------------\u001b[0m",
      "\u001b[0;31mValueError\u001b[0m                                Traceback (most recent call last)",
      "Cell \u001b[0;32mIn[4], line 3\u001b[0m\n\u001b[1;32m      1\u001b[0m mm_data_transform \u001b[38;5;241m=\u001b[39m MMDataTransform(args\u001b[38;5;241m=\u001b[39m\u001b[38;5;28;01mNone\u001b[39;00m)\n\u001b[1;32m      2\u001b[0m mm_dataset_train \u001b[38;5;241m=\u001b[39m MassMappingDataset_Train(data_dir\u001b[38;5;241m=\u001b[39mdata_dir, transform\u001b[38;5;241m=\u001b[39mmm_data_transform)\n\u001b[0;32m----> 3\u001b[0m new_data \u001b[38;5;241m=\u001b[39m \u001b[43mmm_dataset_train\u001b[49m\u001b[38;5;241;43m.\u001b[39;49m\u001b[38;5;21;43m__getitem__\u001b[39;49m\u001b[43m(\u001b[49m\u001b[38;5;241;43m0\u001b[39;49m\u001b[43m)\u001b[49m\n\u001b[1;32m      5\u001b[0m y, x, mean, std \u001b[38;5;241m=\u001b[39m new_data\n\u001b[1;32m      8\u001b[0m x \u001b[38;5;241m=\u001b[39m x[\u001b[38;5;28;01mNone\u001b[39;00m,:,:,:]\u001b[38;5;241m.\u001b[39mto(device)\n",
      "File \u001b[0;32m/share/gpu0/jjwhit/rcGAN/data/datasets/MM_data.py:109\u001b[0m, in \u001b[0;36mMassMappingDataset_Train.__getitem__\u001b[0;34m(self, i)\u001b[0m\n\u001b[1;32m    107\u001b[0m data \u001b[38;5;241m=\u001b[39m np\u001b[38;5;241m.\u001b[39mload(\u001b[38;5;28mself\u001b[39m\u001b[38;5;241m.\u001b[39mexamples[i], allow_pickle\u001b[38;5;241m=\u001b[39m\u001b[38;5;28;01mTrue\u001b[39;00m)\u001b[38;5;241m.\u001b[39mastype(np\u001b[38;5;241m.\u001b[39mcomplex128)\n\u001b[1;32m    108\u001b[0m \u001b[38;5;66;03m# Tranform data and generate observations.\u001b[39;00m\n\u001b[0;32m--> 109\u001b[0m \u001b[38;5;28;01mreturn\u001b[39;00m \u001b[38;5;28;43mself\u001b[39;49m\u001b[38;5;241;43m.\u001b[39;49m\u001b[43mtransform\u001b[49m\u001b[43m(\u001b[49m\u001b[43mdata\u001b[49m\u001b[43m)\u001b[49m\n",
      "File \u001b[0;32m/share/gpu0/jjwhit/rcGAN/data/lightning/MassMappingDataModule.py:110\u001b[0m, in \u001b[0;36mMMDataTransform.__call__\u001b[0;34m(self, kappa)\u001b[0m\n\u001b[1;32m     93\u001b[0m \u001b[38;5;250m\u001b[39m\u001b[38;5;124;03m\"\"\" Transforms the data.\u001b[39;00m\n\u001b[1;32m     94\u001b[0m \n\u001b[1;32m     95\u001b[0m \u001b[38;5;124;03mNote: gt = ground truth. The ground truth is the original kappa simulation from kappaTNG.\u001b[39;00m\n\u001b[0;32m   (...)\u001b[0m\n\u001b[1;32m    107\u001b[0m \u001b[38;5;124;03m\u001b[39;00m\n\u001b[1;32m    108\u001b[0m \u001b[38;5;124;03m\"\"\"\u001b[39;00m\n\u001b[1;32m    109\u001b[0m \u001b[38;5;66;03m# Generate observation on the fly.\u001b[39;00m\n\u001b[0;32m--> 110\u001b[0m gamma \u001b[38;5;241m=\u001b[39m \u001b[38;5;28;43mself\u001b[39;49m\u001b[38;5;241;43m.\u001b[39;49m\u001b[43mgamma_gen\u001b[49m\u001b[43m(\u001b[49m\u001b[43mkappa\u001b[49m\u001b[43m)\u001b[49m\n\u001b[1;32m    112\u001b[0m \u001b[38;5;66;03m# Format input gt data.\u001b[39;00m\n\u001b[1;32m    113\u001b[0m pt_kappa \u001b[38;5;241m=\u001b[39m transforms\u001b[38;5;241m.\u001b[39mto_tensor(kappa) \u001b[38;5;66;03m# Shape (H, W, 2)\u001b[39;00m\n",
      "File \u001b[0;32m/share/gpu0/jjwhit/rcGAN/data/lightning/MassMappingDataModule.py:89\u001b[0m, in \u001b[0;36mMMDataTransform.gamma_gen\u001b[0;34m(self, kappa)\u001b[0m\n\u001b[1;32m     77\u001b[0m \u001b[38;5;28;01mdef\u001b[39;00m \u001b[38;5;21mgamma_gen\u001b[39m(\u001b[38;5;28mself\u001b[39m, kappa) \u001b[38;5;241m-\u001b[39m\u001b[38;5;241m>\u001b[39m np\u001b[38;5;241m.\u001b[39mndarray:\n\u001b[1;32m     78\u001b[0m \u001b[38;5;250m    \u001b[39m\u001b[38;5;124;03m\"\"\"Apply the forward model with the correct set of parameters.\u001b[39;00m\n\u001b[1;32m     79\u001b[0m \n\u001b[1;32m     80\u001b[0m \u001b[38;5;124;03m    This function takes the input, kappa, applies the forward relationship to generate the corresponding value of the shear field,\u001b[39;00m\n\u001b[0;32m   (...)\u001b[0m\n\u001b[1;32m     87\u001b[0m \u001b[38;5;124;03m        gamma (np.ndarray): A synthetic representation of the shear field, gamma, with added noise.\u001b[39;00m\n\u001b[1;32m     88\u001b[0m \u001b[38;5;124;03m    \"\"\"\u001b[39;00m\n\u001b[0;32m---> 89\u001b[0m     \u001b[38;5;28;01mreturn\u001b[39;00m \u001b[43mMMDataTransform\u001b[49m\u001b[38;5;241;43m.\u001b[39;49m\u001b[43mnoise_maker\u001b[49m\u001b[43m(\u001b[49m\u001b[38;5;28;43mself\u001b[39;49m\u001b[38;5;241;43m.\u001b[39;49m\u001b[43mtheta\u001b[49m\u001b[43m,\u001b[49m\u001b[43m \u001b[49m\u001b[38;5;28;43mself\u001b[39;49m\u001b[38;5;241;43m.\u001b[39;49m\u001b[43mng\u001b[49m\u001b[43m,\u001b[49m\u001b[43m \u001b[49m\u001b[38;5;28;43mself\u001b[39;49m\u001b[38;5;241;43m.\u001b[39;49m\u001b[43mngal\u001b[49m\u001b[43m,\u001b[49m\u001b[43m \u001b[49m\u001b[43mkappa\u001b[49m\u001b[43m)\u001b[49m\n",
      "File \u001b[0;32m/share/gpu0/jjwhit/rcGAN/data/lightning/MassMappingDataModule.py:74\u001b[0m, in \u001b[0;36mMMDataTransform.noise_maker\u001b[0;34m(theta, ngrid, ngal, kappa)\u001b[0m\n\u001b[1;32m     72\u001b[0m D \u001b[38;5;241m=\u001b[39m MMDataTransform\u001b[38;5;241m.\u001b[39mcompute_fourier_kernel(ngrid) \u001b[38;5;66;03m#Fourier kernel\u001b[39;00m\n\u001b[1;32m     73\u001b[0m sigma \u001b[38;5;241m=\u001b[39m \u001b[38;5;241m0.37\u001b[39m \u001b[38;5;241m/\u001b[39m np\u001b[38;5;241m.\u001b[39msqrt(((theta\u001b[38;5;241m*\u001b[39m\u001b[38;5;241m60\u001b[39m\u001b[38;5;241m/\u001b[39mngrid)\u001b[38;5;241m*\u001b[39m\u001b[38;5;241m*\u001b[39m\u001b[38;5;241m2\u001b[39m)\u001b[38;5;241m*\u001b[39mngal)\n\u001b[0;32m---> 74\u001b[0m gamma \u001b[38;5;241m=\u001b[39m \u001b[43mMMDataTransform\u001b[49m\u001b[38;5;241;43m.\u001b[39;49m\u001b[43mforward_model\u001b[49m\u001b[43m(\u001b[49m\u001b[43mkappa\u001b[49m\u001b[43m,\u001b[49m\u001b[43m \u001b[49m\u001b[43mD\u001b[49m\u001b[43m)\u001b[49m \u001b[38;5;241m+\u001b[39m sigma\u001b[38;5;241m*\u001b[39m(np\u001b[38;5;241m.\u001b[39mrandom\u001b[38;5;241m.\u001b[39mrandn(ngrid,ngrid) \u001b[38;5;241m+\u001b[39m \u001b[38;5;241m1\u001b[39mj \u001b[38;5;241m*\u001b[39m np\u001b[38;5;241m.\u001b[39mrandom\u001b[38;5;241m.\u001b[39mrandn(ngrid,ngrid))\n\u001b[1;32m     75\u001b[0m \u001b[38;5;28;01mreturn\u001b[39;00m gamma\n",
      "File \u001b[0;32m/share/gpu0/jjwhit/rcGAN/data/lightning/MassMappingDataModule.py:56\u001b[0m, in \u001b[0;36mMMDataTransform.forward_model\u001b[0;34m(kappa, D)\u001b[0m\n\u001b[1;32m     45\u001b[0m \u001b[38;5;250m\u001b[39m\u001b[38;5;124;03m\"\"\"Applies the forward mapping between convergence and shear through their \u001b[39;00m\n\u001b[1;32m     46\u001b[0m \u001b[38;5;124;03m    relationship in Fourier space.\u001b[39;00m\n\u001b[1;32m     47\u001b[0m \n\u001b[0;32m   (...)\u001b[0m\n\u001b[1;32m     53\u001b[0m \u001b[38;5;124;03m    gamma (np.ndarray): Shearing field, with shape [N,N].\u001b[39;00m\n\u001b[1;32m     54\u001b[0m \u001b[38;5;124;03m\"\"\"\u001b[39;00m\n\u001b[1;32m     55\u001b[0m F_kappa \u001b[38;5;241m=\u001b[39m np\u001b[38;5;241m.\u001b[39mfft\u001b[38;5;241m.\u001b[39mfft2(kappa) \u001b[38;5;66;03m# Perform 2D forward FFT\u001b[39;00m\n\u001b[0;32m---> 56\u001b[0m F_gamma \u001b[38;5;241m=\u001b[39m \u001b[43mF_kappa\u001b[49m\u001b[43m \u001b[49m\u001b[38;5;241;43m*\u001b[39;49m\u001b[43m \u001b[49m\u001b[43mD\u001b[49m \u001b[38;5;66;03m# Map convergence onto shear\u001b[39;00m\n\u001b[1;32m     57\u001b[0m \u001b[38;5;28;01mreturn\u001b[39;00m np\u001b[38;5;241m.\u001b[39mfft\u001b[38;5;241m.\u001b[39mifft2(F_gamma)\n",
      "\u001b[0;31mValueError\u001b[0m: operands could not be broadcast together with shapes (300,300) (1024,1024) "
     ]
    }
   ],
   "source": [
    "mm_data_transform = MMDataTransform(args=None)\n",
    "mm_dataset_train = MassMappingDataset_Train(data_dir=data_dir, transform=mm_data_transform)\n",
    "new_data = mm_dataset_train.__getitem__(0)\n",
    "\n",
    "y, x, mean, std = new_data\n",
    "\n",
    "\n",
    "x = x[None,:,:,:].to(device)\n",
    "y = y[None,:,:,:].to(device)\n"
   ]
  },
  {
   "cell_type": "code",
   "execution_count": null,
   "id": "b08ff01d-db07-4ff1-9e64-0d2deb5a3e72",
   "metadata": {},
   "outputs": [],
   "source": [
    "y.size()"
   ]
  },
  {
   "cell_type": "code",
   "execution_count": null,
   "id": "80037581-d6bb-431d-9528-92f0f039c2d8",
   "metadata": {},
   "outputs": [],
   "source": [
    "x.size()"
   ]
  },
  {
   "cell_type": "code",
   "execution_count": 9,
   "id": "47552718-fba4-498e-8940-adb0b69712d4",
   "metadata": {},
   "outputs": [],
   "source": [
    "def get_noise(num_vectors, resolution=1024):\n",
    "    z = torch.randn(num_vectors, 2, resolution, resolution, device=device)\n",
    "    return z\n",
    "\n",
    "num_vectors = y.size(0)\n",
    "noise = get_noise(num_vectors)\n",
    "\n",
    "input_data = torch.cat([y, noise], dim=1)\n"
   ]
  },
  {
   "cell_type": "code",
   "execution_count": 10,
   "id": "3eec9d06-6f03-4657-b4d2-9666c43ee7f7",
   "metadata": {},
   "outputs": [
    {
     "data": {
      "text/plain": [
       "torch.Size([1, 4, 1024, 1024])"
      ]
     },
     "execution_count": 10,
     "metadata": {},
     "output_type": "execute_result"
    }
   ],
   "source": [
    "input_data.size()"
   ]
  },
  {
   "cell_type": "code",
   "execution_count": 12,
   "id": "19965e05-5525-49e9-85d3-17c34cdbef43",
   "metadata": {},
   "outputs": [],
   "source": [
    "resolution = 1024\n",
    "def reformat(samples):\n",
    "    reformatted_tensor = torch.zeros(size=(samples.size(0), 1, resolution, resolution, 2),\n",
    "                                     device=device)\n",
    "    reformatted_tensor[:, :, :, :, 0] = samples[:, 0, :, :]\n",
    "    reformatted_tensor[:, :, :, :, 1] = samples[:, 1, :, :]\n",
    "\n",
    "    return reformatted_tensor"
   ]
  },
  {
   "cell_type": "code",
   "execution_count": 13,
   "id": "d2977c0a-6548-4f79-8a10-440548579d11",
   "metadata": {},
   "outputs": [],
   "source": [
    "new_tensor = reformat(input_data)"
   ]
  },
  {
   "cell_type": "code",
   "execution_count": 14,
   "id": "581a7bab-8da1-4879-a035-f30f7adbf508",
   "metadata": {},
   "outputs": [
    {
     "data": {
      "text/plain": [
       "torch.Size([1, 1, 1024, 1024, 2])"
      ]
     },
     "execution_count": 14,
     "metadata": {},
     "output_type": "execute_result"
    }
   ],
   "source": [
    "new_tensor.size()\n",
    "#Tensor size"
   ]
  },
  {
   "cell_type": "code",
   "execution_count": 15,
   "id": "d911aee2-2eb1-4088-a651-d43d8fac0298",
   "metadata": {},
   "outputs": [],
   "source": [
    "def readd_measures(samples, measures, mask):\n",
    "    reformatted_tensor = reformat(samples)\n",
    "    measures = fft2c_new(reformat(measures))\n",
    "    reconstructed_kspace = fft2c_new(reformatted_tensor)\n",
    "\n",
    "    reconstructed_kspace = mask * measures + (1 - mask) * reconstructed_kspace\n",
    "\n",
    "    image = ifft2c_new(reconstructed_kspace)\n",
    "\n",
    "    output_im = torch.zeros(size=samples.shape, device=device)\n",
    "    output_im[:, 0, :, :] = image[:, :, :, :, 0]\n",
    "    output_im[:, 1, :, :] = image[:, :, :, :, 1]\n",
    "\n",
    "    return output_im"
   ]
  },
  {
   "cell_type": "code",
   "execution_count": 16,
   "id": "32d3689d-0057-4b3a-b40b-bfb4664a7c67",
   "metadata": {
    "scrolled": true
   },
   "outputs": [
    {
     "data": {
      "text/plain": [
       "UNetModel(\n",
       "  (down_sample_layers): ModuleList(\n",
       "    (0): ConvDownBlock(\n",
       "      (conv_1): Conv2d(4, 128, kernel_size=(3, 3), stride=(1, 1), padding=(1, 1))\n",
       "      (res): ResidualBlock(\n",
       "        (conv_block): Sequential(\n",
       "          (0): Conv2d(128, 128, kernel_size=(3, 3), stride=(1, 1), padding=(1, 1))\n",
       "          (1): BatchNorm2d(128, eps=1e-05, momentum=0.1, affine=True, track_running_stats=True)\n",
       "          (2): PReLU(num_parameters=1)\n",
       "          (3): Conv2d(128, 128, kernel_size=(3, 3), stride=(1, 1), padding=(1, 1))\n",
       "          (4): BatchNorm2d(128, eps=1e-05, momentum=0.1, affine=True, track_running_stats=True)\n",
       "          (5): PReLU(num_parameters=1)\n",
       "        )\n",
       "        (conv_1x1): Conv2d(128, 128, kernel_size=(1, 1), stride=(1, 1))\n",
       "      )\n",
       "      (conv_3): Conv2d(128, 128, kernel_size=(3, 3), stride=(2, 2), padding=(1, 1))\n",
       "      (bn): BatchNorm2d(128, eps=1e-05, momentum=0.1, affine=True, track_running_stats=True)\n",
       "      (activation): PReLU(num_parameters=1)\n",
       "    )\n",
       "    (1): ConvDownBlock(\n",
       "      (conv_1): Conv2d(128, 256, kernel_size=(3, 3), stride=(1, 1), padding=(1, 1))\n",
       "      (res): ResidualBlock(\n",
       "        (conv_block): Sequential(\n",
       "          (0): Conv2d(256, 256, kernel_size=(3, 3), stride=(1, 1), padding=(1, 1))\n",
       "          (1): BatchNorm2d(256, eps=1e-05, momentum=0.1, affine=True, track_running_stats=True)\n",
       "          (2): PReLU(num_parameters=1)\n",
       "          (3): Conv2d(256, 256, kernel_size=(3, 3), stride=(1, 1), padding=(1, 1))\n",
       "          (4): BatchNorm2d(256, eps=1e-05, momentum=0.1, affine=True, track_running_stats=True)\n",
       "          (5): PReLU(num_parameters=1)\n",
       "        )\n",
       "        (conv_1x1): Conv2d(256, 256, kernel_size=(1, 1), stride=(1, 1))\n",
       "      )\n",
       "      (conv_3): Conv2d(256, 256, kernel_size=(3, 3), stride=(2, 2), padding=(1, 1))\n",
       "      (bn): BatchNorm2d(256, eps=1e-05, momentum=0.1, affine=True, track_running_stats=True)\n",
       "      (activation): PReLU(num_parameters=1)\n",
       "    )\n",
       "    (2): ConvDownBlock(\n",
       "      (conv_1): Conv2d(256, 512, kernel_size=(3, 3), stride=(1, 1), padding=(1, 1))\n",
       "      (res): ResidualBlock(\n",
       "        (conv_block): Sequential(\n",
       "          (0): Conv2d(512, 512, kernel_size=(3, 3), stride=(1, 1), padding=(1, 1))\n",
       "          (1): BatchNorm2d(512, eps=1e-05, momentum=0.1, affine=True, track_running_stats=True)\n",
       "          (2): PReLU(num_parameters=1)\n",
       "          (3): Conv2d(512, 512, kernel_size=(3, 3), stride=(1, 1), padding=(1, 1))\n",
       "          (4): BatchNorm2d(512, eps=1e-05, momentum=0.1, affine=True, track_running_stats=True)\n",
       "          (5): PReLU(num_parameters=1)\n",
       "        )\n",
       "        (conv_1x1): Conv2d(512, 512, kernel_size=(1, 1), stride=(1, 1))\n",
       "      )\n",
       "      (conv_3): Conv2d(512, 512, kernel_size=(3, 3), stride=(2, 2), padding=(1, 1))\n",
       "      (bn): BatchNorm2d(512, eps=1e-05, momentum=0.1, affine=True, track_running_stats=True)\n",
       "      (activation): PReLU(num_parameters=1)\n",
       "    )\n",
       "    (3): ConvDownBlock(\n",
       "      (conv_1): Conv2d(512, 1024, kernel_size=(3, 3), stride=(1, 1), padding=(1, 1))\n",
       "      (res): ResidualBlock(\n",
       "        (conv_block): Sequential(\n",
       "          (0): Conv2d(1024, 1024, kernel_size=(3, 3), stride=(1, 1), padding=(1, 1))\n",
       "          (1): BatchNorm2d(1024, eps=1e-05, momentum=0.1, affine=True, track_running_stats=True)\n",
       "          (2): PReLU(num_parameters=1)\n",
       "          (3): Conv2d(1024, 1024, kernel_size=(3, 3), stride=(1, 1), padding=(1, 1))\n",
       "          (4): BatchNorm2d(1024, eps=1e-05, momentum=0.1, affine=True, track_running_stats=True)\n",
       "          (5): PReLU(num_parameters=1)\n",
       "        )\n",
       "        (conv_1x1): Conv2d(1024, 1024, kernel_size=(1, 1), stride=(1, 1))\n",
       "      )\n",
       "      (conv_3): Conv2d(1024, 1024, kernel_size=(3, 3), stride=(2, 2), padding=(1, 1))\n",
       "      (bn): BatchNorm2d(1024, eps=1e-05, momentum=0.1, affine=True, track_running_stats=True)\n",
       "      (activation): PReLU(num_parameters=1)\n",
       "    )\n",
       "  )\n",
       "  (res_layer_1): Sequential(\n",
       "    (0): Conv2d(1024, 1024, kernel_size=(3, 3), stride=(1, 1), padding=(1, 1))\n",
       "    (1): BatchNorm2d(1024, eps=1e-05, momentum=0.1, affine=True, track_running_stats=True)\n",
       "    (2): PReLU(num_parameters=1)\n",
       "    (3): ResidualBlock(\n",
       "      (conv_block): Sequential(\n",
       "        (0): Conv2d(1024, 1024, kernel_size=(3, 3), stride=(1, 1), padding=(1, 1))\n",
       "        (1): BatchNorm2d(1024, eps=1e-05, momentum=0.1, affine=True, track_running_stats=True)\n",
       "        (2): PReLU(num_parameters=1)\n",
       "        (3): Conv2d(1024, 1024, kernel_size=(3, 3), stride=(1, 1), padding=(1, 1))\n",
       "        (4): BatchNorm2d(1024, eps=1e-05, momentum=0.1, affine=True, track_running_stats=True)\n",
       "        (5): PReLU(num_parameters=1)\n",
       "      )\n",
       "      (conv_1x1): Conv2d(1024, 1024, kernel_size=(1, 1), stride=(1, 1))\n",
       "    )\n",
       "    (4): ResidualBlock(\n",
       "      (conv_block): Sequential(\n",
       "        (0): Conv2d(1024, 1024, kernel_size=(3, 3), stride=(1, 1), padding=(1, 1))\n",
       "        (1): BatchNorm2d(1024, eps=1e-05, momentum=0.1, affine=True, track_running_stats=True)\n",
       "        (2): PReLU(num_parameters=1)\n",
       "        (3): Conv2d(1024, 1024, kernel_size=(3, 3), stride=(1, 1), padding=(1, 1))\n",
       "        (4): BatchNorm2d(1024, eps=1e-05, momentum=0.1, affine=True, track_running_stats=True)\n",
       "        (5): PReLU(num_parameters=1)\n",
       "      )\n",
       "      (conv_1x1): Conv2d(1024, 1024, kernel_size=(1, 1), stride=(1, 1))\n",
       "    )\n",
       "    (5): ResidualBlock(\n",
       "      (conv_block): Sequential(\n",
       "        (0): Conv2d(1024, 1024, kernel_size=(3, 3), stride=(1, 1), padding=(1, 1))\n",
       "        (1): BatchNorm2d(1024, eps=1e-05, momentum=0.1, affine=True, track_running_stats=True)\n",
       "        (2): PReLU(num_parameters=1)\n",
       "        (3): Conv2d(1024, 1024, kernel_size=(3, 3), stride=(1, 1), padding=(1, 1))\n",
       "        (4): BatchNorm2d(1024, eps=1e-05, momentum=0.1, affine=True, track_running_stats=True)\n",
       "        (5): PReLU(num_parameters=1)\n",
       "      )\n",
       "      (conv_1x1): Conv2d(1024, 1024, kernel_size=(1, 1), stride=(1, 1))\n",
       "    )\n",
       "    (6): ResidualBlock(\n",
       "      (conv_block): Sequential(\n",
       "        (0): Conv2d(1024, 1024, kernel_size=(3, 3), stride=(1, 1), padding=(1, 1))\n",
       "        (1): BatchNorm2d(1024, eps=1e-05, momentum=0.1, affine=True, track_running_stats=True)\n",
       "        (2): PReLU(num_parameters=1)\n",
       "        (3): Conv2d(1024, 1024, kernel_size=(3, 3), stride=(1, 1), padding=(1, 1))\n",
       "        (4): BatchNorm2d(1024, eps=1e-05, momentum=0.1, affine=True, track_running_stats=True)\n",
       "        (5): PReLU(num_parameters=1)\n",
       "      )\n",
       "      (conv_1x1): Conv2d(1024, 1024, kernel_size=(1, 1), stride=(1, 1))\n",
       "    )\n",
       "    (7): ResidualBlock(\n",
       "      (conv_block): Sequential(\n",
       "        (0): Conv2d(1024, 1024, kernel_size=(3, 3), stride=(1, 1), padding=(1, 1))\n",
       "        (1): BatchNorm2d(1024, eps=1e-05, momentum=0.1, affine=True, track_running_stats=True)\n",
       "        (2): PReLU(num_parameters=1)\n",
       "        (3): Conv2d(1024, 1024, kernel_size=(3, 3), stride=(1, 1), padding=(1, 1))\n",
       "        (4): BatchNorm2d(1024, eps=1e-05, momentum=0.1, affine=True, track_running_stats=True)\n",
       "        (5): PReLU(num_parameters=1)\n",
       "      )\n",
       "      (conv_1x1): Conv2d(1024, 1024, kernel_size=(1, 1), stride=(1, 1))\n",
       "    )\n",
       "  )\n",
       "  (conv): Sequential(\n",
       "    (0): Conv2d(1024, 1024, kernel_size=(3, 3), stride=(1, 1), padding=(1, 1))\n",
       "    (1): BatchNorm2d(1024, eps=1e-05, momentum=0.1, affine=True, track_running_stats=True)\n",
       "    (2): PReLU(num_parameters=1)\n",
       "  )\n",
       "  (up_sample_layers): ModuleList(\n",
       "    (0): ConvUpBlock(\n",
       "      (conv_1): ConvTranspose2d(1024, 1024, kernel_size=(3, 3), stride=(2, 2), padding=(1, 1))\n",
       "      (bn): BatchNorm2d(1024, eps=1e-05, momentum=0.1, affine=True, track_running_stats=True)\n",
       "      (activation): PReLU(num_parameters=1)\n",
       "      (layers): Sequential(\n",
       "        (0): Conv2d(2048, 512, kernel_size=(3, 3), stride=(1, 1), padding=(1, 1))\n",
       "        (1): BatchNorm2d(512, eps=1e-05, momentum=0.1, affine=True, track_running_stats=True)\n",
       "        (2): PReLU(num_parameters=1)\n",
       "        (3): ResidualBlock(\n",
       "          (conv_block): Sequential(\n",
       "            (0): Conv2d(512, 512, kernel_size=(3, 3), stride=(1, 1), padding=(1, 1))\n",
       "            (1): BatchNorm2d(512, eps=1e-05, momentum=0.1, affine=True, track_running_stats=True)\n",
       "            (2): PReLU(num_parameters=1)\n",
       "            (3): Conv2d(512, 512, kernel_size=(3, 3), stride=(1, 1), padding=(1, 1))\n",
       "            (4): BatchNorm2d(512, eps=1e-05, momentum=0.1, affine=True, track_running_stats=True)\n",
       "            (5): PReLU(num_parameters=1)\n",
       "          )\n",
       "          (conv_1x1): Conv2d(512, 512, kernel_size=(1, 1), stride=(1, 1))\n",
       "        )\n",
       "      )\n",
       "    )\n",
       "    (1): ConvUpBlock(\n",
       "      (conv_1): ConvTranspose2d(512, 512, kernel_size=(3, 3), stride=(2, 2), padding=(1, 1))\n",
       "      (bn): BatchNorm2d(512, eps=1e-05, momentum=0.1, affine=True, track_running_stats=True)\n",
       "      (activation): PReLU(num_parameters=1)\n",
       "      (layers): Sequential(\n",
       "        (0): Conv2d(1024, 256, kernel_size=(3, 3), stride=(1, 1), padding=(1, 1))\n",
       "        (1): BatchNorm2d(256, eps=1e-05, momentum=0.1, affine=True, track_running_stats=True)\n",
       "        (2): PReLU(num_parameters=1)\n",
       "        (3): ResidualBlock(\n",
       "          (conv_block): Sequential(\n",
       "            (0): Conv2d(256, 256, kernel_size=(3, 3), stride=(1, 1), padding=(1, 1))\n",
       "            (1): BatchNorm2d(256, eps=1e-05, momentum=0.1, affine=True, track_running_stats=True)\n",
       "            (2): PReLU(num_parameters=1)\n",
       "            (3): Conv2d(256, 256, kernel_size=(3, 3), stride=(1, 1), padding=(1, 1))\n",
       "            (4): BatchNorm2d(256, eps=1e-05, momentum=0.1, affine=True, track_running_stats=True)\n",
       "            (5): PReLU(num_parameters=1)\n",
       "          )\n",
       "          (conv_1x1): Conv2d(256, 256, kernel_size=(1, 1), stride=(1, 1))\n",
       "        )\n",
       "      )\n",
       "    )\n",
       "    (2): ConvUpBlock(\n",
       "      (conv_1): ConvTranspose2d(256, 256, kernel_size=(3, 3), stride=(2, 2), padding=(1, 1))\n",
       "      (bn): BatchNorm2d(256, eps=1e-05, momentum=0.1, affine=True, track_running_stats=True)\n",
       "      (activation): PReLU(num_parameters=1)\n",
       "      (layers): Sequential(\n",
       "        (0): Conv2d(512, 128, kernel_size=(3, 3), stride=(1, 1), padding=(1, 1))\n",
       "        (1): BatchNorm2d(128, eps=1e-05, momentum=0.1, affine=True, track_running_stats=True)\n",
       "        (2): PReLU(num_parameters=1)\n",
       "        (3): ResidualBlock(\n",
       "          (conv_block): Sequential(\n",
       "            (0): Conv2d(128, 128, kernel_size=(3, 3), stride=(1, 1), padding=(1, 1))\n",
       "            (1): BatchNorm2d(128, eps=1e-05, momentum=0.1, affine=True, track_running_stats=True)\n",
       "            (2): PReLU(num_parameters=1)\n",
       "            (3): Conv2d(128, 128, kernel_size=(3, 3), stride=(1, 1), padding=(1, 1))\n",
       "            (4): BatchNorm2d(128, eps=1e-05, momentum=0.1, affine=True, track_running_stats=True)\n",
       "            (5): PReLU(num_parameters=1)\n",
       "          )\n",
       "          (conv_1x1): Conv2d(128, 128, kernel_size=(1, 1), stride=(1, 1))\n",
       "        )\n",
       "      )\n",
       "    )\n",
       "    (3): ConvUpBlock(\n",
       "      (conv_1): ConvTranspose2d(128, 128, kernel_size=(3, 3), stride=(2, 2), padding=(1, 1))\n",
       "      (bn): BatchNorm2d(128, eps=1e-05, momentum=0.1, affine=True, track_running_stats=True)\n",
       "      (activation): PReLU(num_parameters=1)\n",
       "      (layers): Sequential(\n",
       "        (0): Conv2d(256, 128, kernel_size=(3, 3), stride=(1, 1), padding=(1, 1))\n",
       "        (1): BatchNorm2d(128, eps=1e-05, momentum=0.1, affine=True, track_running_stats=True)\n",
       "        (2): PReLU(num_parameters=1)\n",
       "        (3): ResidualBlock(\n",
       "          (conv_block): Sequential(\n",
       "            (0): Conv2d(128, 128, kernel_size=(3, 3), stride=(1, 1), padding=(1, 1))\n",
       "            (1): BatchNorm2d(128, eps=1e-05, momentum=0.1, affine=True, track_running_stats=True)\n",
       "            (2): PReLU(num_parameters=1)\n",
       "            (3): Conv2d(128, 128, kernel_size=(3, 3), stride=(1, 1), padding=(1, 1))\n",
       "            (4): BatchNorm2d(128, eps=1e-05, momentum=0.1, affine=True, track_running_stats=True)\n",
       "            (5): PReLU(num_parameters=1)\n",
       "          )\n",
       "          (conv_1x1): Conv2d(128, 128, kernel_size=(1, 1), stride=(1, 1))\n",
       "        )\n",
       "      )\n",
       "    )\n",
       "  )\n",
       "  (conv2): Sequential(\n",
       "    (0): Conv2d(128, 64, kernel_size=(1, 1), stride=(1, 1))\n",
       "    (1): Conv2d(64, 2, kernel_size=(1, 1), stride=(1, 1))\n",
       "  )\n",
       ")"
      ]
     },
     "execution_count": 16,
     "metadata": {},
     "output_type": "execute_result"
    }
   ],
   "source": [
    "generator = UNetModel(\n",
    "    in_chans=4,\n",
    "    out_chans=2,\n",
    ")\n",
    "generator.to(device)"
   ]
  },
  {
   "cell_type": "code",
   "execution_count": 17,
   "id": "a004b2ed-b7d6-43c5-9d2e-d8e3639e9fc8",
   "metadata": {},
   "outputs": [],
   "source": [
    "def forward(y, mask):\n",
    "    num_vectors = y.size(0)\n",
    "    noise = get_noise(num_vectors, mask)\n",
    "    samples = generator(input_data)\n",
    "    samples = readd_measures(samples, y, mask)\n",
    "    return samples"
   ]
  },
  {
   "cell_type": "code",
   "execution_count": 18,
   "id": "967333f4-9846-4246-a1d1-08a3a46a08c0",
   "metadata": {},
   "outputs": [
    {
     "data": {
      "text/plain": [
       "torch.Size([1, 2, 1024, 1024])"
      ]
     },
     "execution_count": 18,
     "metadata": {},
     "output_type": "execute_result"
    }
   ],
   "source": [
    "y.size()"
   ]
  },
  {
   "cell_type": "code",
   "execution_count": 19,
   "id": "1451744d-2316-4b1a-bfb8-42c41d530cf9",
   "metadata": {},
   "outputs": [
    {
     "data": {
      "text/plain": [
       "torch.Size([1, 2, 1024, 1024])"
      ]
     },
     "execution_count": 19,
     "metadata": {},
     "output_type": "execute_result"
    }
   ],
   "source": [
    "noise.size()"
   ]
  },
  {
   "cell_type": "code",
   "execution_count": 20,
   "id": "f83dca0e-2d38-470f-ace6-9e8ec9ce8994",
   "metadata": {},
   "outputs": [],
   "source": [
    "forward_test = forward(y, 0)"
   ]
  },
  {
   "cell_type": "code",
   "execution_count": 28,
   "id": "b141deac-1d62-4267-9843-57488c4ac233",
   "metadata": {},
   "outputs": [
    {
     "data": {
      "text/plain": [
       "1"
      ]
     },
     "execution_count": 28,
     "metadata": {},
     "output_type": "execute_result"
    }
   ],
   "source": [
    "torch.cuda.device_count()"
   ]
  },
  {
   "cell_type": "markdown",
   "id": "fa93326d-7e61-45e4-bb59-26a1cf36cc64",
   "metadata": {},
   "source": [
    "# Test"
   ]
  },
  {
   "cell_type": "code",
   "execution_count": 1,
   "id": "5e88b899-4daf-42e6-a705-483d77edbf7d",
   "metadata": {},
   "outputs": [
    {
     "name": "stderr",
     "output_type": "stream",
     "text": [
      "/home/jjwhit/rcGAN/fastmri/__init__.py:16: UserWarning: Could not retrieve fastmri version!\n",
      "  warnings.warn(\"Could not retrieve fastmri version!\")\n"
     ]
    }
   ],
   "source": [
    "import sys\n",
    "sys.path.append('/home/jjwhit/rcGAN/')\n",
    "import torch\n",
    "import yaml\n",
    "import types\n",
    "import json\n",
    "\n",
    "import pytorch_lightning as pl\n",
    "\n",
    "from pytorch_lightning.callbacks import ModelCheckpoint\n",
    "from data.lightning.MRIDataModule import MRIDataModule\n",
    "from utils.parse_args import create_arg_parser\n",
    "from models.lightning.rcGAN import rcGAN\n",
    "from pytorch_lightning import seed_everything\n",
    "from pytorch_lightning.loggers import WandbLogger\n",
    "from data.lightning.MassMappingDataModule import MMDataModule\n",
    "from data.lightning.RadioDataModule import RadioDataModule\n",
    "from models.lightning.mmGAN import mmGAN"
   ]
  },
  {
   "cell_type": "code",
   "execution_count": 2,
   "id": "87ae1e55-0e46-4451-ab7d-6408c190efab",
   "metadata": {},
   "outputs": [],
   "source": [
    "device = torch.device(\"cuda:0\" if torch.cuda.is_available() else \"cpu\")"
   ]
  },
  {
   "cell_type": "code",
   "execution_count": 3,
   "id": "2751a32d-c649-4139-a141-c27b02ee3bb9",
   "metadata": {
    "scrolled": true
   },
   "outputs": [
    {
     "name": "stderr",
     "output_type": "stream",
     "text": [
      "[rank: 0] Global seed set to 0\n"
     ]
    },
    {
     "name": "stdout",
     "output_type": "stream",
     "text": [
      "Experiment Name: mmgan_debug\n",
      "Number of GPUs: 1\n",
      "Device count:  1\n",
      "Config file path: /home/jjwhit/rcGAN/configs/mass_map_test.yml\n"
     ]
    },
    {
     "name": "stderr",
     "output_type": "stream",
     "text": [
      "Failed to detect the name of this notebook, you can set it manually with the WANDB_NOTEBOOK_NAME environment variable to enable code saving.\n",
      "\u001b[34m\u001b[1mwandb\u001b[0m: Currently logged in as: \u001b[33mjess-j-whitney\u001b[0m. Use \u001b[1m`wandb login --relogin`\u001b[0m to force relogin\n"
     ]
    },
    {
     "data": {
      "text/html": [
       "wandb version 0.16.6 is available!  To upgrade, please run:\n",
       " $ pip install wandb --upgrade"
      ],
      "text/plain": [
       "<IPython.core.display.HTML object>"
      ]
     },
     "metadata": {},
     "output_type": "display_data"
    },
    {
     "data": {
      "text/html": [
       "Tracking run with wandb version 0.15.4"
      ],
      "text/plain": [
       "<IPython.core.display.HTML object>"
      ]
     },
     "metadata": {},
     "output_type": "display_data"
    },
    {
     "data": {
      "text/html": [
       "Run data is saved locally in <code>/share/gpu0/jjwhit/mass_map/mm_models/wandb/wandb/run-20240425_114510-8cd35w7z</code>"
      ],
      "text/plain": [
       "<IPython.core.display.HTML object>"
      ]
     },
     "metadata": {},
     "output_type": "display_data"
    },
    {
     "data": {
      "text/html": [
       "Syncing run <strong><a href='https://wandb.ai/jess-j-whitney/mass_mapping/runs/8cd35w7z' target=\"_blank\">mmgan_debug</a></strong> to <a href='https://wandb.ai/jess-j-whitney/mass_mapping' target=\"_blank\">Weights & Biases</a> (<a href='https://wandb.me/run' target=\"_blank\">docs</a>)<br/>"
      ],
      "text/plain": [
       "<IPython.core.display.HTML object>"
      ]
     },
     "metadata": {},
     "output_type": "display_data"
    },
    {
     "data": {
      "text/html": [
       " View project at <a href='https://wandb.ai/jess-j-whitney/mass_mapping' target=\"_blank\">https://wandb.ai/jess-j-whitney/mass_mapping</a>"
      ],
      "text/plain": [
       "<IPython.core.display.HTML object>"
      ]
     },
     "metadata": {},
     "output_type": "display_data"
    },
    {
     "data": {
      "text/html": [
       " View run at <a href='https://wandb.ai/jess-j-whitney/mass_mapping/runs/8cd35w7z' target=\"_blank\">https://wandb.ai/jess-j-whitney/mass_mapping/runs/8cd35w7z</a>"
      ],
      "text/plain": [
       "<IPython.core.display.HTML object>"
      ]
     },
     "metadata": {},
     "output_type": "display_data"
    },
    {
     "name": "stderr",
     "output_type": "stream",
     "text": [
      "GPU available: True (cuda), used: True\n",
      "TPU available: False, using: 0 TPU cores\n",
      "IPU available: False, using: 0 IPUs\n",
      "HPU available: False, using: 0 HPUs\n",
      "[rank: 0] Global seed set to 0\n",
      "Initializing distributed: GLOBAL_RANK: 0, MEMBER: 1/1\n",
      "[W socket.cpp:426] [c10d] The server socket cannot be initialized on [::]:16474 (errno: 97 - Address family not supported by protocol).\n",
      "[W socket.cpp:601] [c10d] The client socket cannot be initialized to connect to [compute-gpu-0-3.local]:16474 (errno: 97 - Address family not supported by protocol).\n",
      "[W socket.cpp:601] [c10d] The client socket cannot be initialized to connect to [compute-gpu-0-3.local]:16474 (errno: 97 - Address family not supported by protocol).\n",
      "----------------------------------------------------------------------------------------------------\n",
      "distributed_backend=nccl\n",
      "All distributed processes registered. Starting with 1 processes\n",
      "----------------------------------------------------------------------------------------------------\n",
      "\n",
      "LOCAL_RANK: 0 - CUDA_VISIBLE_DEVICES: [0]\n",
      "\n",
      "  | Name          | Type               | Params\n",
      "-----------------------------------------------------\n",
      "0 | generator     | UNetModel          | 195 M \n",
      "1 | discriminator | DiscriminatorModel | 6.3 M \n",
      "-----------------------------------------------------\n",
      "202 M     Trainable params\n",
      "0         Non-trainable params\n",
      "202 M     Total params\n",
      "808.514   Total estimated model params size (MB)\n",
      "SLURM auto-requeueing enabled. Setting signal handlers.\n"
     ]
    },
    {
     "data": {
      "application/vnd.jupyter.widget-view+json": {
       "model_id": "",
       "version_major": 2,
       "version_minor": 0
      },
      "text/plain": [
       "Sanity Checking: 0it [00:00, ?it/s]"
      ]
     },
     "metadata": {},
     "output_type": "display_data"
    },
    {
     "data": {
      "application/vnd.jupyter.widget-view+json": {
       "model_id": "328b4e4d5f324a40938bcd4737dfb5d4",
       "version_major": 2,
       "version_minor": 0
      },
      "text/plain": [
       "Training: 0it [00:00, ?it/s]"
      ]
     },
     "metadata": {},
     "output_type": "display_data"
    },
    {
     "data": {
      "application/vnd.jupyter.widget-view+json": {
       "model_id": "",
       "version_major": 2,
       "version_minor": 0
      },
      "text/plain": [
       "Validation: 0it [00:00, ?it/s]"
      ]
     },
     "metadata": {},
     "output_type": "display_data"
    },
    {
     "name": "stderr",
     "output_type": "stream",
     "text": [
      "/home/jjwhit/.conda/envs/cGAN/lib/python3.8/site-packages/pytorch_lightning/trainer/call.py:48: UserWarning: Detected KeyboardInterrupt, attempting graceful shutdown...\n",
      "  rank_zero_warn(\"Detected KeyboardInterrupt, attempting graceful shutdown...\")\n"
     ]
    }
   ],
   "source": [
    "%run /home/jjwhit/rcGAN/train.py --config /home/jjwhit/rcGAN/configs/mass_map_test.yml --exp-name mmgan_debug --num-gpus 1"
   ]
  },
  {
   "cell_type": "code",
   "execution_count": 13,
   "id": "477916a2-9ced-4611-b4d7-6d3a536a04f5",
   "metadata": {
    "scrolled": true
   },
   "outputs": [
    {
     "name": "stderr",
     "output_type": "stream",
     "text": [
      "[rank: 0] Global seed set to 1\n"
     ]
    },
    {
     "ename": "FileNotFoundError",
     "evalue": "[Errno 2] No such file or directory: '/share/gpu0/jjwhit/mass_map_dataset/kappa20/kappa_train'",
     "output_type": "error",
     "traceback": [
      "\u001b[0;31m---------------------------------------------------------------------------\u001b[0m",
      "\u001b[0;31mFileNotFoundError\u001b[0m                         Traceback (most recent call last)",
      "File \u001b[0;32m/share/gpu0/jjwhit/rcGAN/scripts/mass_map/validate.py:29\u001b[0m\n\u001b[1;32m     26\u001b[0m     cfg \u001b[38;5;241m=\u001b[39m json\u001b[38;5;241m.\u001b[39mloads(json\u001b[38;5;241m.\u001b[39mdumps(cfg), object_hook\u001b[38;5;241m=\u001b[39mload_object)\n\u001b[1;32m     28\u001b[0m dm \u001b[38;5;241m=\u001b[39m MMDataModule(cfg)\n\u001b[0;32m---> 29\u001b[0m \u001b[43mdm\u001b[49m\u001b[38;5;241;43m.\u001b[39;49m\u001b[43msetup\u001b[49m\u001b[43m(\u001b[49m\u001b[43m)\u001b[49m\n\u001b[1;32m     30\u001b[0m val_loader \u001b[38;5;241m=\u001b[39m dm\u001b[38;5;241m.\u001b[39mval_dataloader()\n\u001b[1;32m     31\u001b[0m best_epoch \u001b[38;5;241m=\u001b[39m \u001b[38;5;241m-\u001b[39m\u001b[38;5;241m1\u001b[39m\n",
      "File \u001b[0;32m/share/gpu0/jjwhit/rcGAN/data/lightning/MassMappingDataModule.py:147\u001b[0m, in \u001b[0;36mMMDataModule.setup\u001b[0;34m(self, stage)\u001b[0m\n\u001b[1;32m    144\u001b[0m \u001b[38;5;28;01mdef\u001b[39;00m \u001b[38;5;21msetup\u001b[39m(\u001b[38;5;28mself\u001b[39m, stage: Optional[\u001b[38;5;28mstr\u001b[39m] \u001b[38;5;241m=\u001b[39m \u001b[38;5;28;01mNone\u001b[39;00m):\n\u001b[1;32m    145\u001b[0m     \u001b[38;5;66;03m#Assign train/val datasets for use in dataloaders\u001b[39;00m\n\u001b[0;32m--> 147\u001b[0m     train_data \u001b[38;5;241m=\u001b[39m \u001b[43mMassMappingDataset_Train\u001b[49m\u001b[43m(\u001b[49m\n\u001b[1;32m    148\u001b[0m \u001b[43m        \u001b[49m\u001b[43mdata_dir\u001b[49m\u001b[38;5;241;43m=\u001b[39;49m\u001b[43mpathlib\u001b[49m\u001b[38;5;241;43m.\u001b[39;49m\u001b[43mPath\u001b[49m\u001b[43m(\u001b[49m\u001b[38;5;28;43mself\u001b[39;49m\u001b[38;5;241;43m.\u001b[39;49m\u001b[43margs\u001b[49m\u001b[38;5;241;43m.\u001b[39;49m\u001b[43mdata_path\u001b[49m\u001b[43m)\u001b[49m\u001b[43m \u001b[49m\u001b[38;5;241;43m/\u001b[39;49m\u001b[43m \u001b[49m\u001b[38;5;124;43m'\u001b[39;49m\u001b[38;5;124;43mkappa_train\u001b[39;49m\u001b[38;5;124;43m'\u001b[39;49m\u001b[43m,\u001b[49m\n\u001b[1;32m    149\u001b[0m \u001b[43m        \u001b[49m\u001b[43mtransform\u001b[49m\u001b[38;5;241;43m=\u001b[39;49m\u001b[43mMMDataTransform\u001b[49m\u001b[43m(\u001b[49m\u001b[38;5;28;43mself\u001b[39;49m\u001b[38;5;241;43m.\u001b[39;49m\u001b[43margs\u001b[49m\u001b[43m,\u001b[49m\u001b[43m \u001b[49m\u001b[43mtest\u001b[49m\u001b[38;5;241;43m=\u001b[39;49m\u001b[38;5;28;43;01mFalse\u001b[39;49;00m\u001b[43m)\u001b[49m\n\u001b[1;32m    150\u001b[0m \u001b[43m    \u001b[49m\u001b[43m)\u001b[49m\n\u001b[1;32m    152\u001b[0m     dev_data \u001b[38;5;241m=\u001b[39m MassMappingDataset_Val(\n\u001b[1;32m    153\u001b[0m         data_dir\u001b[38;5;241m=\u001b[39mpathlib\u001b[38;5;241m.\u001b[39mPath(\u001b[38;5;28mself\u001b[39m\u001b[38;5;241m.\u001b[39margs\u001b[38;5;241m.\u001b[39mdata_path) \u001b[38;5;241m/\u001b[39m \u001b[38;5;124m'\u001b[39m\u001b[38;5;124mkappa_val\u001b[39m\u001b[38;5;124m'\u001b[39m,\n\u001b[1;32m    154\u001b[0m         transform\u001b[38;5;241m=\u001b[39mMMDataTransform(\u001b[38;5;28mself\u001b[39m\u001b[38;5;241m.\u001b[39margs, test\u001b[38;5;241m=\u001b[39m\u001b[38;5;28;01mTrue\u001b[39;00m)\n\u001b[1;32m    155\u001b[0m     )    \n\u001b[1;32m    157\u001b[0m     test_data \u001b[38;5;241m=\u001b[39m MassMappingDataset_Test(\n\u001b[1;32m    158\u001b[0m         data_dir\u001b[38;5;241m=\u001b[39mpathlib\u001b[38;5;241m.\u001b[39mPath(\u001b[38;5;28mself\u001b[39m\u001b[38;5;241m.\u001b[39margs\u001b[38;5;241m.\u001b[39mdata_path) \u001b[38;5;241m/\u001b[39m \u001b[38;5;124m'\u001b[39m\u001b[38;5;124mkappa_test\u001b[39m\u001b[38;5;124m'\u001b[39m,\n\u001b[1;32m    159\u001b[0m         transform\u001b[38;5;241m=\u001b[39mMMDataTransform(\u001b[38;5;28mself\u001b[39m\u001b[38;5;241m.\u001b[39margs, test\u001b[38;5;241m=\u001b[39m\u001b[38;5;28;01mTrue\u001b[39;00m)\n\u001b[1;32m    160\u001b[0m     )\n",
      "File \u001b[0;32m/share/gpu0/jjwhit/rcGAN/data/datasets/MM_data.py:91\u001b[0m, in \u001b[0;36mMassMappingDataset_Train.__init__\u001b[0;34m(self, data_dir, transform)\u001b[0m\n\u001b[1;32m     88\u001b[0m \u001b[38;5;28mself\u001b[39m\u001b[38;5;241m.\u001b[39mexamples \u001b[38;5;241m=\u001b[39m []\n\u001b[1;32m     90\u001b[0m \u001b[38;5;66;03m#Collects the paths of all files.\u001b[39;00m\n\u001b[0;32m---> 91\u001b[0m files \u001b[38;5;241m=\u001b[39m \u001b[38;5;28;43mlist\u001b[39;49m\u001b[43m(\u001b[49m\u001b[43mpathlib\u001b[49m\u001b[38;5;241;43m.\u001b[39;49m\u001b[43mPath\u001b[49m\u001b[43m(\u001b[49m\u001b[43mdata_dir\u001b[49m\u001b[43m)\u001b[49m\u001b[38;5;241;43m.\u001b[39;49m\u001b[43miterdir\u001b[49m\u001b[43m(\u001b[49m\u001b[43m)\u001b[49m\u001b[43m)\u001b[49m\n\u001b[1;32m     93\u001b[0m \u001b[38;5;66;03m# Shuffle all the files.\u001b[39;00m\n\u001b[1;32m     94\u001b[0m np\u001b[38;5;241m.\u001b[39mrandom\u001b[38;5;241m.\u001b[39mseed()\n",
      "File \u001b[0;32m~/.conda/envs/cGAN/lib/python3.8/pathlib.py:1122\u001b[0m, in \u001b[0;36mPath.iterdir\u001b[0;34m(self)\u001b[0m\n\u001b[1;32m   1120\u001b[0m \u001b[38;5;28;01mif\u001b[39;00m \u001b[38;5;28mself\u001b[39m\u001b[38;5;241m.\u001b[39m_closed:\n\u001b[1;32m   1121\u001b[0m     \u001b[38;5;28mself\u001b[39m\u001b[38;5;241m.\u001b[39m_raise_closed()\n\u001b[0;32m-> 1122\u001b[0m \u001b[38;5;28;01mfor\u001b[39;00m name \u001b[38;5;129;01min\u001b[39;00m \u001b[38;5;28;43mself\u001b[39;49m\u001b[38;5;241;43m.\u001b[39;49m\u001b[43m_accessor\u001b[49m\u001b[38;5;241;43m.\u001b[39;49m\u001b[43mlistdir\u001b[49m\u001b[43m(\u001b[49m\u001b[38;5;28;43mself\u001b[39;49m\u001b[43m)\u001b[49m:\n\u001b[1;32m   1123\u001b[0m     \u001b[38;5;28;01mif\u001b[39;00m name \u001b[38;5;129;01min\u001b[39;00m {\u001b[38;5;124m'\u001b[39m\u001b[38;5;124m.\u001b[39m\u001b[38;5;124m'\u001b[39m, \u001b[38;5;124m'\u001b[39m\u001b[38;5;124m..\u001b[39m\u001b[38;5;124m'\u001b[39m}:\n\u001b[1;32m   1124\u001b[0m         \u001b[38;5;66;03m# Yielding a path object for these makes little sense\u001b[39;00m\n\u001b[1;32m   1125\u001b[0m         \u001b[38;5;28;01mcontinue\u001b[39;00m\n",
      "\u001b[0;31mFileNotFoundError\u001b[0m: [Errno 2] No such file or directory: '/share/gpu0/jjwhit/mass_map_dataset/kappa20/kappa_train'"
     ]
    }
   ],
   "source": [
    "%run /share/gpu0/jjwhit/rcGAN/scripts/mass_map/validate.py --exp-name mmgan_debug"
   ]
  },
  {
   "cell_type": "code",
   "execution_count": 6,
   "id": "dd082cc5-2f30-4167-9757-24b600298ecc",
   "metadata": {},
   "outputs": [
    {
     "name": "stderr",
     "output_type": "stream",
     "text": [
      "[rank: 0] Global seed set to 1\n"
     ]
    },
    {
     "name": "stdout",
     "output_type": "stream",
     "text": [
      "Setting up [LPIPS] perceptual loss: trunk [alex], v[0.1], spatial [off]\n",
      "Loading model from: /home/jjwhit/.conda/envs/cGAN/lib/python3.8/site-packages/lpips/weights/v0.1/alex.pth\n",
      "\n",
      "\n",
      "1 SAMPLES\n",
      "AVG Recon\n",
      "PSNR: -15.57 \\pm 0.39\n",
      "SSIM: 0.0000 \\pm 0.0000\n",
      "LPIPS: 1.1077 \\pm 0.0028\n",
      "DISTS: 0.5886 \\pm 0.0019\n",
      "APSD: 0.0\n",
      "\n",
      "\n",
      "2 SAMPLES\n",
      "AVG Recon\n",
      "PSNR: -15.44 \\pm 0.37\n",
      "SSIM: 0.0000 \\pm 0.0000\n",
      "LPIPS: 1.1104 \\pm 0.0011\n",
      "DISTS: 0.5938 \\pm 0.0019\n",
      "APSD: 0.6\n",
      "\n",
      "\n",
      "4 SAMPLES\n",
      "AVG Recon\n",
      "PSNR: -15.34 \\pm 0.40\n",
      "SSIM: 0.0000 \\pm 0.0000\n",
      "LPIPS: 1.1163 \\pm 0.0010\n",
      "DISTS: 0.5980 \\pm 0.0018\n",
      "APSD: 0.8\n",
      "\n",
      "\n",
      "8 SAMPLES\n",
      "AVG Recon\n",
      "PSNR: -15.33 \\pm 0.39\n",
      "SSIM: 0.0000 \\pm 0.0000\n",
      "LPIPS: 1.1232 \\pm 0.0017\n",
      "DISTS: 0.6006 \\pm 0.0019\n",
      "APSD: 0.9\n",
      "\n",
      "\n",
      "16 SAMPLES\n",
      "AVG Recon\n",
      "PSNR: -15.31 \\pm 0.38\n",
      "SSIM: 0.0000 \\pm 0.0000\n",
      "LPIPS: 1.1281 \\pm 0.0016\n",
      "DISTS: 0.6021 \\pm 0.0021\n",
      "APSD: 0.9\n",
      "\n",
      "\n",
      "32 SAMPLES\n",
      "AVG Recon\n",
      "PSNR: -15.31 \\pm 0.39\n",
      "SSIM: 0.0000 \\pm 0.0000\n",
      "LPIPS: 1.1320 \\pm 0.0020\n",
      "DISTS: 0.6032 \\pm 0.0018\n",
      "APSD: 1.0\n",
      "Sequential(\n",
      "  (0): Linear(in_features=25088, out_features=4096, bias=True)\n",
      "  (1): ReLU(inplace=True)\n",
      ")\n"
     ]
    },
    {
     "name": "stderr",
     "output_type": "stream",
     "text": [
      "Computing generated distribution: 100%|██████████| 3/3 [00:58<00:00, 19.39s/it]\n",
      "Computing generated distribution: 100%|██████████| 2/2 [00:14<00:00,  7.17s/it]\n",
      "Computing generated distribution: 100%|██████████| 2/2 [00:03<00:00,  1.60s/it]\n",
      "Computing generated distribution: 100%|██████████| 4/4 [00:05<00:00,  1.41s/it]\n"
     ]
    },
    {
     "name": "stdout",
     "output_type": "stream",
     "text": [
      "\n",
      "\n",
      "\n",
      "CFID_1: 11.51; M_COMP: 11.4313; C_COMP: 0.0785\n",
      "CFID_2: 11.73; M_COMP: 11.6405; C_COMP: 0.0908\n",
      "CFID_3: 11.60; M_COMP: 11.5082; C_COMP: 0.0911\n"
     ]
    }
   ],
   "source": [
    "%run /share/gpu0/jjwhit/rcGAN/scripts/mass_map/test.py --exp-name mmgan_debug"
   ]
  },
  {
   "cell_type": "code",
   "execution_count": null,
   "id": "044f260f-22b1-4bc1-bf9e-84067b009df0",
   "metadata": {},
   "outputs": [],
   "source": []
  },
  {
   "cell_type": "code",
   "execution_count": null,
   "id": "e6c066b8-2cc7-4552-ab41-e09ca283e032",
   "metadata": {},
   "outputs": [],
   "source": []
  }
 ],
 "metadata": {
  "kernelspec": {
   "display_name": "cGAN",
   "language": "python",
   "name": "cgan"
  },
  "language_info": {
   "codemirror_mode": {
    "name": "ipython",
    "version": 3
   },
   "file_extension": ".py",
   "mimetype": "text/x-python",
   "name": "python",
   "nbconvert_exporter": "python",
   "pygments_lexer": "ipython3",
   "version": "3.8.16"
  }
 },
 "nbformat": 4,
 "nbformat_minor": 5
}
