{
  "cells": [
    {
      "attachments": {},
      "cell_type": "markdown",
      "metadata": {
        "id": "O6cyF47gffhy"
      },
      "source": [
        "# Debug MM GAN\n"
      ]
    },
    {
      "cell_type": "code",
      "execution_count": 1,
      "metadata": {},
      "outputs": [
        {
          "name": "stderr",
          "output_type": "stream",
          "text": [
            "/home/tl3/.conda/envs/cGAN/lib/python3.8/site-packages/tqdm/auto.py:22: TqdmWarning: IProgress not found. Please update jupyter and ipywidgets. See https://ipywidgets.readthedocs.io/en/stable/user_install.html\n",
            "  from .autonotebook import tqdm as notebook_tqdm\n"
          ]
        }
      ],
      "source": [
        "\n",
        "import numpy as np\n",
        "import sys\n",
        "sys.path.append('/home/tl3/repos/project-rcGAN/jess_version/rcGAN/')\n",
        "\n",
        "from torch.utils.data import DataLoader\n",
        "import pytorch_lightning as pl\n",
        "from typing import Optional\n",
        "from data.datasets.MM_data import MassMappingDataset_Test, MassMappingDataset_Train, MassMappingDataset_Val\n"
      ]
    },
    {
      "cell_type": "code",
      "execution_count": 2,
      "metadata": {},
      "outputs": [
        {
          "name": "stderr",
          "output_type": "stream",
          "text": [
            "/home/tl3/repos/project-rcGAN/jess_version/rcGAN/fastmri/__init__.py:16: UserWarning: Could not retrieve fastmri version!\n",
            "  warnings.warn(\"Could not retrieve fastmri version!\")\n"
          ]
        }
      ],
      "source": [
        "\n",
        "from data.lightning.MassMappingDataModule import MMDataTransform\n",
        "import pathlib\n",
        "from utils.mri import transforms"
      ]
    },
    {
      "cell_type": "code",
      "execution_count": 3,
      "metadata": {},
      "outputs": [],
      "source": [
        "\n",
        "data_path = '/share/gpu0/tl3/mass_map_dataset/kappa_debug/kappa_run_04974.npy'\n",
        "kappa = np.load(data_path, allow_pickle=True).astype(np.complex128)\n",
        "\n",
        "\n",
        "data_dir = '/share/gpu0/tl3/mass_map_dataset/kappa_debug/'\n"
      ]
    },
    {
      "cell_type": "code",
      "execution_count": null,
      "metadata": {},
      "outputs": [],
      "source": []
    },
    {
      "cell_type": "code",
      "execution_count": 4,
      "metadata": {},
      "outputs": [
        {
          "name": "stdout",
          "output_type": "stream",
          "text": [
            "(1024, 1024)\n",
            "complex128\n"
          ]
        }
      ],
      "source": [
        "print(kappa.shape)\n",
        "print(kappa.dtype)"
      ]
    },
    {
      "cell_type": "code",
      "execution_count": 5,
      "metadata": {},
      "outputs": [],
      "source": [
        "\n",
        "mm_data_transform = MMDataTransform(args=None)\n",
        "mm_dataset_train = MassMappingDataset_Train(data_dir=data_dir, transform=mm_data_transform)\n",
        "new_data = mm_dataset_train.__getitem__(0)\n"
      ]
    },
    {
      "cell_type": "code",
      "execution_count": 6,
      "metadata": {},
      "outputs": [],
      "source": [
        "\n",
        "\n"
      ]
    },
    {
      "cell_type": "code",
      "execution_count": 7,
      "metadata": {},
      "outputs": [],
      "source": [
        "theta=5.0\n",
        "ng=1024\n",
        "ngal=30"
      ]
    },
    {
      "cell_type": "code",
      "execution_count": 8,
      "metadata": {},
      "outputs": [],
      "source": [
        "\n",
        "gamma = MMDataTransform.noise_maker(theta, ng, ngal, kappa)\n",
        "\n",
        "\n",
        "# gamma = self.gamma_gen(kappa)\n",
        "\n",
        "# kappa.shape\n",
        "\n",
        "\n"
      ]
    },
    {
      "cell_type": "code",
      "execution_count": 9,
      "metadata": {},
      "outputs": [],
      "source": [
        "class MMDataModule(pl.LightningDataModule):\n",
        "    \"\"\"\n",
        "    DataModule used for semantic segmentation in geometric generalization project.\n",
        "    \"\"\"\n",
        "    def __init__(self, args, big_test=False):\n",
        "        \"\"\"The 'args' come from the config.yml file. See the docs for further information.\"\"\"\n",
        "        super().__init__()\n",
        "        self.prepare_data_per_node = True\n",
        "        self.args = args\n",
        "        self.big_test = big_test\n",
        "\n",
        "    def prepare_data(self):\n",
        "        pass\n",
        "\n",
        "    def setup(self, stage: Optional[str] = None):\n",
        "        #Assign train/val datasets for use in dataloaders\n",
        "\n",
        "        train_data = MassMappingDataset_Train(\n",
        "            data_dir=pathlib.Path('/share/gpu0/tl3/mass_map_dataset') / 'kappa_debug/',\n",
        "            transform=MMDataTransform(self.args, test=False),\n",
        "        )\n",
        "\n",
        "        dev_data = MassMappingDataset_Val(\n",
        "            data_dir=pathlib.Path('/share/gpu0/tl3/mass_map_dataset') / 'kappa_debug/',\n",
        "            transform=MMDataTransform(self.args, test=True),\n",
        "            big_test=self.big_test\n",
        "        )    \n",
        "\n",
        "        test_data = MassMappingDataset_Test(\n",
        "            data_dir=pathlib.Path('/share/gpu0/tl3/mass_map_dataset') / 'kappa_debug/',\n",
        "            transform=MMDataTransform(self.args, test=True),\n",
        "            big_test=True\n",
        "        )\n",
        "\n",
        "        self.train, self.validate, self.test = train_data, dev_data, test_data\n",
        "\n",
        "\n",
        "    # define your dataloaders\n",
        "    # again, here defined for train, validate and test, not for predict as the project is not there yet.\n",
        "    def train_dataloader(self):\n",
        "        return DataLoader(\n",
        "            dataset=self.train,\n",
        "            batch_size=1,\n",
        "            num_workers=4,\n",
        "            drop_last=True,\n",
        "            pin_memory=False\n",
        "        )\n",
        "\n",
        "    def val_dataloader(self):\n",
        "        return DataLoader(\n",
        "            dataset=self.validate,\n",
        "            batch_size=1,\n",
        "            num_workers=4,\n",
        "            drop_last=True,\n",
        "            pin_memory=False\n",
        "        )\n",
        "\n",
        "    def test_dataloader(self):\n",
        "        return DataLoader(\n",
        "            dataset=self.test,\n",
        "            batch_size=4,\n",
        "            num_workers=4,\n",
        "            pin_memory=False,\n",
        "            drop_last=False\n",
        "        )\n"
      ]
    },
    {
      "cell_type": "code",
      "execution_count": 10,
      "metadata": {},
      "outputs": [],
      "source": [
        "args = {\n",
        "    'batch_size': 1,\n",
        "    'data_path': '/share/gpu0/tl3/mass_map_dataset'\n",
        "\n",
        "}\n",
        "\n",
        "\n",
        "mm_data_module = MMDataModule(args)\n"
      ]
    },
    {
      "cell_type": "code",
      "execution_count": 11,
      "metadata": {},
      "outputs": [],
      "source": [
        "mm_data_module.setup()\n",
        "\n"
      ]
    },
    {
      "cell_type": "code",
      "execution_count": 13,
      "metadata": {},
      "outputs": [],
      "source": [
        "a = mm_data_module.train_dataloader()\n",
        "b = mm_data_module.val_dataloader()\n",
        "c = mm_data_module.test_dataloader()"
      ]
    },
    {
      "cell_type": "code",
      "execution_count": null,
      "metadata": {},
      "outputs": [],
      "source": []
    },
    {
      "cell_type": "code",
      "execution_count": 63,
      "metadata": {},
      "outputs": [],
      "source": []
    },
    {
      "cell_type": "code",
      "execution_count": 64,
      "metadata": {},
      "outputs": [],
      "source": [
        "pt_gamma = transforms.to_tensor(gamma)"
      ]
    },
    {
      "cell_type": "code",
      "execution_count": 65,
      "metadata": {},
      "outputs": [
        {
          "data": {
            "text/plain": [
              "torch.Size([1024, 1024, 2])"
            ]
          },
          "execution_count": 65,
          "metadata": {},
          "output_type": "execute_result"
        }
      ],
      "source": [
        "pt_gamma.shape"
      ]
    },
    {
      "cell_type": "code",
      "execution_count": 66,
      "metadata": {},
      "outputs": [],
      "source": [
        "pt_gamma = pt_gamma.permute(2, 0, 1) "
      ]
    },
    {
      "cell_type": "code",
      "execution_count": 67,
      "metadata": {},
      "outputs": [],
      "source": [
        "normalized_gamma, mean, std = transforms.normalize_instance(pt_gamma)"
      ]
    },
    {
      "cell_type": "code",
      "execution_count": 68,
      "metadata": {},
      "outputs": [],
      "source": [
        "normalized_gt = transforms.normalize(pt_kappa, mean, std)"
      ]
    },
    {
      "cell_type": "code",
      "execution_count": 69,
      "metadata": {},
      "outputs": [
        {
          "data": {
            "text/plain": [
              "tensor(-7.1737e-05, dtype=torch.float64)"
            ]
          },
          "execution_count": 69,
          "metadata": {},
          "output_type": "execute_result"
        }
      ],
      "source": [
        "mean"
      ]
    },
    {
      "cell_type": "code",
      "execution_count": 70,
      "metadata": {},
      "outputs": [
        {
          "data": {
            "text/plain": [
              "tensor(0.2309, dtype=torch.float64)"
            ]
          },
          "execution_count": 70,
          "metadata": {},
          "output_type": "execute_result"
        }
      ],
      "source": [
        "std"
      ]
    },
    {
      "cell_type": "code",
      "execution_count": null,
      "metadata": {},
      "outputs": [],
      "source": []
    }
  ],
  "metadata": {
    "accelerator": "GPU",
    "colab": {
      "provenance": []
    },
    "gpuClass": "standard",
    "kernelspec": {
      "display_name": "dmmm",
      "language": "python",
      "name": "python3"
    },
    "language_info": {
      "codemirror_mode": {
        "name": "ipython",
        "version": 3
      },
      "file_extension": ".py",
      "mimetype": "text/x-python",
      "name": "python",
      "nbconvert_exporter": "python",
      "pygments_lexer": "ipython3",
      "version": "3.8.16"
    },
    "vscode": {
      "interpreter": {
        "hash": "dfe70a52add5eb642e53de326059ac0998fdb0303e4335d0d2f931caf21d3942"
      }
    }
  },
  "nbformat": 4,
  "nbformat_minor": 0
}
