{
 "cells": [
  {
   "cell_type": "code",
   "execution_count": null,
   "metadata": {},
   "outputs": [],
   "source": [
    "import numpy as np"
   ]
  },
  {
   "cell_type": "code",
   "execution_count": null,
   "metadata": {},
   "outputs": [],
   "source": [
    "COSMOS_catalog = np.load(\"/Users/jw/Documents/cGAN_project_1/COSMOS_v1/redshift_catalog.npy\", allow_pickle=True)#.item()\n",
    "#COSMOS_df = pd.DataFrame(COSMOS_catalog)"
   ]
  },
  {
   "cell_type": "code",
   "execution_count": null,
   "metadata": {},
   "outputs": [],
   "source": [
    "redshift_vals = [0.034, 0.070, 0.105, 0.142, 0.179,\n",
    "                 0.216, 0.255, 0.294, 0.335, 0.376,\n",
    "                 0.418, 0.462, 0.506, 0.552, 0.599,\n",
    "                 0.648, 0.698, 0.749, 0.803, 0.858,\n",
    "                 0.914, 0.973, 1.034, 1.097, 1.163,\n",
    "                 1.231, 1.302, 1.375, 1.452, 1.532,\n",
    "                 1.615, 1.703, 1.794, 1.889, 1.989,\n",
    "                 2.094, 2.203, 2.319, 2.440, 2.568]\n"
   ]
  },
  {
   "cell_type": "code",
   "execution_count": null,
   "metadata": {},
   "outputs": [],
   "source": [
    "print(len(redshift_vals))"
   ]
  }
 ],
 "metadata": {
  "language_info": {
   "name": "python"
  },
  "orig_nbformat": 4
 },
 "nbformat": 4,
 "nbformat_minor": 2
}
