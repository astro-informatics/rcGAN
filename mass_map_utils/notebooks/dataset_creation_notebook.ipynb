{
 "cells": [
  {
   "cell_type": "code",
   "execution_count": 6,
   "metadata": {},
   "outputs": [],
   "source": [
    "import numpy as np\n",
    "import os"
   ]
  },
  {
   "cell_type": "code",
   "execution_count": 2,
   "metadata": {},
   "outputs": [],
   "source": [
    "COSMOS_catalog = np.load(\"/Users/jw/Documents/cGAN_project_1/COSMOS_v1/redshift_catalog.npy\", allow_pickle=True)#.item()\n",
    "#COSMOS_df = pd.DataFrame(COSMOS_catalog)"
   ]
  },
  {
   "cell_type": "code",
   "execution_count": 3,
   "metadata": {},
   "outputs": [],
   "source": [
    "redshift_vals = [0.034, 0.070, 0.105, 0.142, 0.179,\n",
    "                 0.216, 0.255, 0.294, 0.335, 0.376,\n",
    "                 0.418, 0.462, 0.506, 0.552, 0.599,\n",
    "                 0.648, 0.698, 0.749, 0.803, 0.858,\n",
    "                 0.914, 0.973, 1.034, 1.097, 1.163,\n",
    "                 1.231, 1.302, 1.375, 1.452, 1.532,\n",
    "                 1.615, 1.703, 1.794, 1.889, 1.989,\n",
    "                 2.094, 2.203, 2.319, 2.440, 2.568]\n",
    "\n",
    "#This should be 41 not 40? check what's missing"
   ]
  },
  {
   "cell_type": "code",
   "execution_count": 4,
   "metadata": {},
   "outputs": [
    {
     "name": "stdout",
     "output_type": "stream",
     "text": [
      "40\n"
     ]
    }
   ],
   "source": [
    "print(len(redshift_vals))"
   ]
  },
  {
   "cell_type": "markdown",
   "metadata": {},
   "source": [
    "K tot = sum over i (omega i kappa i)\n",
    "omega i = integral (z i - delta z i /2)(z i + delta z i /2)dz n(z) where n(z) = redshift distribution"
   ]
  },
  {
   "cell_type": "markdown",
   "metadata": {},
   "source": [
    "1. Load source convergence maps from i = 0, 40\n",
    "2. Calculate omega i\n",
    "3. Calculate kappa tot"
   ]
  },
  {
   "cell_type": "code",
   "execution_count": 12,
   "metadata": {},
   "outputs": [],
   "source": [
    "source_dir = \"/Users/jw/Documents/LP006/run001/\" \n",
    "#Eventually want to iterate over source directories\n",
    "file_prefix = \"kappa\"\n",
    "file_extension = \".dat\"\n",
    "\n",
    "# List all files in the folder\n",
    "files = os.listdir(source_dir)\n",
    "\n",
    "required_files = [file for file in files if file.startswith(file_prefix) and file.endswith(file_extension)]"
   ]
  },
  {
   "cell_type": "code",
   "execution_count": 15,
   "metadata": {},
   "outputs": [
    {
     "name": "stdout",
     "output_type": "stream",
     "text": [
      "41\n",
      "['kappa21.dat', 'kappa35.dat', 'kappa09.dat', 'kappa08.dat', 'kappa34.dat', 'kappa20.dat', 'kappa36.dat', 'kappa22.dat', 'kappa23.dat', 'kappa37.dat', 'kappa33.dat', 'kappa27.dat', 'kappa26.dat', 'kappa32.dat', 'kappa18.dat', 'kappa24.dat', 'kappa30.dat', 'kappa31.dat', 'kappa25.dat', 'kappa19.dat', 'kappa40.dat', 'kappa00.dat', 'kappa14.dat', 'kappa28.dat', 'kappa29.dat', 'kappa15.dat', 'kappa01.dat', 'kappa17.dat', 'kappa03.dat', 'kappa02.dat', 'kappa16.dat', 'kappa12.dat', 'kappa06.dat', 'kappa07.dat', 'kappa13.dat', 'kappa39.dat', 'kappa05.dat', 'kappa11.dat', 'kappa10.dat', 'kappa04.dat', 'kappa38.dat']\n"
     ]
    }
   ],
   "source": [
    "print(len(required_files))\n",
    "print(required_files)\n"
   ]
  },
  {
   "cell_type": "code",
   "execution_count": 16,
   "metadata": {},
   "outputs": [],
   "source": [
    "def get_file_number(file_name):\n",
    "    return int(file_name[len(file_prefix):-len(file_extension)])"
   ]
  },
  {
   "cell_type": "code",
   "execution_count": 17,
   "metadata": {},
   "outputs": [],
   "source": [
    "sorted_files = sorted(required_files, key=get_file_number)"
   ]
  },
  {
   "cell_type": "code",
   "execution_count": 19,
   "metadata": {},
   "outputs": [
    {
     "name": "stdout",
     "output_type": "stream",
     "text": [
      "['kappa00.dat', 'kappa01.dat', 'kappa02.dat', 'kappa03.dat', 'kappa04.dat', 'kappa05.dat', 'kappa06.dat', 'kappa07.dat', 'kappa08.dat', 'kappa09.dat', 'kappa10.dat', 'kappa11.dat', 'kappa12.dat', 'kappa13.dat', 'kappa14.dat', 'kappa15.dat', 'kappa16.dat', 'kappa17.dat', 'kappa18.dat', 'kappa19.dat', 'kappa20.dat', 'kappa21.dat', 'kappa22.dat', 'kappa23.dat', 'kappa24.dat', 'kappa25.dat', 'kappa26.dat', 'kappa27.dat', 'kappa28.dat', 'kappa29.dat', 'kappa30.dat', 'kappa31.dat', 'kappa32.dat', 'kappa33.dat', 'kappa34.dat', 'kappa35.dat', 'kappa36.dat', 'kappa37.dat', 'kappa38.dat', 'kappa39.dat', 'kappa40.dat']\n",
      "41\n"
     ]
    }
   ],
   "source": [
    "print(sorted_files)\n",
    "print(len(sorted_files))"
   ]
  },
  {
   "cell_type": "code",
   "execution_count": null,
   "metadata": {},
   "outputs": [],
   "source": [
    "for fname in sorted_files:\n",
    "    full_path = os.path.join(source_dir, fname)\n",
    "    #load file - look at how is recommended to be done in kappaTNG files\n",
    "\n",
    "    print(f\"loading {fname}...\")"
   ]
  }
 ],
 "metadata": {
  "kernelspec": {
   "display_name": "cgan",
   "language": "python",
   "name": "python3"
  },
  "language_info": {
   "codemirror_mode": {
    "name": "ipython",
    "version": 3
   },
   "file_extension": ".py",
   "mimetype": "text/x-python",
   "name": "python",
   "nbconvert_exporter": "python",
   "pygments_lexer": "ipython3",
   "version": "3.10.9"
  },
  "orig_nbformat": 4
 },
 "nbformat": 4,
 "nbformat_minor": 2
}
