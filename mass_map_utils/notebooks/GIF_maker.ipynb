{
 "cells": [
  {
   "cell_type": "code",
   "execution_count": 2,
   "id": "ea6ef27b-eacd-465e-92cc-db8571a0b9b4",
   "metadata": {},
   "outputs": [],
   "source": [
    "from PIL import Image\n",
    "import numpy as np\n",
    "import matplotlib.pyplot as plt\n",
    "import glob\n",
    "from matplotlib import cm"
   ]
  },
  {
   "cell_type": "code",
   "execution_count": 128,
   "id": "8975716e-d780-453b-aa84-7372fa673973",
   "metadata": {},
   "outputs": [],
   "source": [
    "all_files  = glob.glob(r'/share/gpu0/jjwhit/kappa_cosmos_simulations/cropped_dataset/kappa_train/*.npy')"
   ]
  },
  {
   "cell_type": "code",
   "execution_count": 18,
   "id": "d373ca36-d30c-47ef-8afc-4e525ad149fe",
   "metadata": {
    "scrolled": true
   },
   "outputs": [
    {
     "data": {
      "text/plain": [
       "8500"
      ]
     },
     "execution_count": 18,
     "metadata": {},
     "output_type": "execute_result"
    }
   ],
   "source": [
    "len(all_files)\n"
   ]
  },
  {
   "cell_type": "code",
   "execution_count": 138,
   "id": "39e02e1e-050a-4913-af5d-f5bf16357640",
   "metadata": {},
   "outputs": [],
   "source": [
    "#GIF of  simulations\n",
    "images = []\n",
    "frames = [np.load(file) for file in all_files[:100]]\n",
    "# Normalize and scale the float64 values to uint8 in the range [0, 255]\n",
    "scaled_frames = [(frame - np.min(frame)) / (np.max(frame) - np.min(frame)) * 255 for frame in frames]\n",
    "uint8_frames = [np.uint8(frame) for frame in scaled_frames]\n",
    "coloured_frames  = [np.uint8(cm.magma(frame)*255) for frame in uint8_frames]\n",
    "\n",
    "#imgs = np.stack(uint8_frames)\n",
    "imgs = np.stack(coloured_frames)\n",
    "\n",
    "# Save the GIF with the desired parameters\n",
    "Image.fromarray((imgs[0])).save(\"/share/gpu0/jjwhit/plots/simulations.gif\", save_all=True, append_images=[Image.fromarray(img) for img in imgs[1:]], duration=250, loop=0)\n"
   ]
  },
  {
   "cell_type": "code",
   "execution_count": 3,
   "id": "48df822e-ebad-4296-9617-b272d6fc2420",
   "metadata": {},
   "outputs": [],
   "source": [
    "#GIF of cosmos posterior samples\n",
    "cosmos_samps = np.load('/home/jjwhit/rcGAN/mass_map_utils/cosmos/cosmos_samps_1k.npy', allow_pickle=True)\n"
   ]
  },
  {
   "cell_type": "code",
   "execution_count": 6,
   "id": "fc578fe6-8aca-437e-b924-f97281e851e8",
   "metadata": {},
   "outputs": [
    {
     "data": {
      "text/plain": [
       "<numpy.lib.npyio.NpzFile at 0x7fed604d5520>"
      ]
     },
     "execution_count": 6,
     "metadata": {},
     "output_type": "execute_result"
    }
   ],
   "source": [
    "cosmos_samps"
   ]
  },
  {
   "cell_type": "code",
   "execution_count": null,
   "id": "eaa0cd14-3b5a-4c94-98e0-79ed117014da",
   "metadata": {},
   "outputs": [],
   "source": [
    "images = []\n",
    "frames = [cosmos_samps[:, :, i] for i in range(cosmos_samps.shape[2])]\n",
    "scaled_frames = [(frame - np.min(frame)) / (np.max(frame) - np.min(frame)) * 255 for frame in frames]\n",
    "uint8_frames = [np.uint8(frame) for frame in scaled_frames]\n",
    "coloured_frames  = [np.uint8(cm.magma(frame)*255) for frame in uint8_frames]\n",
    "\n",
    "#imgs = np.stack(uint8_frames)\n",
    "imgs = np.stack(coloured_frames)\n",
    "Image.fromarray((imgs[0])).save(\"/share/gpu0/jjwhit/plots/cosmos_samples.gif\", save_all=True, append_images=[Image.fromarray(img) for img in imgs[1:]], duration=100, loop=0)"
   ]
  }
 ],
 "metadata": {
  "kernelspec": {
   "display_name": "cGAN",
   "language": "python",
   "name": "cgan"
  },
  "language_info": {
   "codemirror_mode": {
    "name": "ipython",
    "version": 3
   },
   "file_extension": ".py",
   "mimetype": "text/x-python",
   "name": "python",
   "nbconvert_exporter": "python",
   "pygments_lexer": "ipython3",
   "version": "3.8.16"
  }
 },
 "nbformat": 4,
 "nbformat_minor": 5
}
