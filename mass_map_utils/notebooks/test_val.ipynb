{
 "cells": [
  {
   "cell_type": "code",
   "execution_count": 1,
   "id": "e7fd3402-5307-4545-8f2b-96afb6e73b0e",
   "metadata": {},
   "outputs": [],
   "source": [
    "import sys\n",
    "sys.path.append('/home/jjwhit/rcGAN/')"
   ]
  },
  {
   "cell_type": "code",
   "execution_count": 2,
   "id": "5754d92b-cfe6-4399-963d-4203541616ae",
   "metadata": {},
   "outputs": [
    {
     "name": "stderr",
     "output_type": "stream",
     "text": [
      "/home/jjwhit/rcGAN/fastmri/__init__.py:16: UserWarning: Could not retrieve fastmri version!\n",
      "  warnings.warn(\"Could not retrieve fastmri version!\")\n"
     ]
    }
   ],
   "source": [
    "import torch\n",
    "import yaml\n",
    "import types\n",
    "import json\n",
    "\n",
    "import numpy as np\n",
    "import matplotlib.patches as patches\n",
    "\n",
    "from data.lightning.MassMappingDataModule import MMDataModule\n",
    "from utils.parse_args import create_arg_parser\n",
    "from pytorch_lightning import seed_everything\n",
    "from models.lightning.mmGAN import mmGAN\n",
    "from utils.mri.math import tensor_to_complex_np\n",
    "import matplotlib.pyplot as plt\n",
    "from matplotlib import gridspec\n",
    "from scipy import ndimage"
   ]
  },
  {
   "cell_type": "code",
   "execution_count": 4,
   "id": "3e6282f5-ac84-45c2-911c-0c61e7d42f3c",
   "metadata": {},
   "outputs": [],
   "source": [
    "# Import model here\n",
    "test_plot_model = mmGAN.load_from_checkpoint('/share/gpu0/jjwhit/mass_map/mm_models/mmgan_training_3/checkpoint-epoch=88.ckpt')"
   ]
  },
  {
   "cell_type": "code",
   "execution_count": null,
   "id": "9051b2b8-2780-495a-a988-af80927de730",
   "metadata": {},
   "outputs": [],
   "source": []
  },
  {
   "cell_type": "code",
   "execution_count": null,
   "id": "8e69351c-c1a7-4037-af0f-2381edba6c84",
   "metadata": {},
   "outputs": [],
   "source": [
    "%run /home/jjwhit/rcGAN/scripts/mass_map/validate.py --config /home/jjwhit/rcGAN/configs/mass_map_test.yml --exp-name mmgan_training_3 --num-gpus 1"
   ]
  },
  {
   "cell_type": "code",
   "execution_count": null,
   "id": "d8241006-e939-42a6-b8ea-ad0a8bb6718b",
   "metadata": {},
   "outputs": [],
   "source": []
  },
  {
   "cell_type": "code",
   "execution_count": null,
   "id": "ae012947-1dc8-4e5a-b272-c6f0a804bd54",
   "metadata": {},
   "outputs": [],
   "source": []
  },
  {
   "cell_type": "code",
   "execution_count": null,
   "id": "5c2955b4-8cb2-46fc-9f1a-ecea6a8eeffc",
   "metadata": {},
   "outputs": [],
   "source": []
  },
  {
   "cell_type": "code",
   "execution_count": null,
   "id": "e8664928-725a-45b7-a6c1-3a02956e4504",
   "metadata": {},
   "outputs": [],
   "source": []
  },
  {
   "cell_type": "code",
   "execution_count": null,
   "id": "9e7c18f1-4285-49ee-9c81-3b3b54629cfd",
   "metadata": {
    "scrolled": true
   },
   "outputs": [],
   "source": [
    "%run /home/jjwhit/rcGAN/scripts/mass_map/test.py --exp-name mmgan_training_8 --num-figs 10"
   ]
  },
  {
   "cell_type": "code",
   "execution_count": null,
   "id": "e8a05c46-25a9-40a0-8862-786d96086a7b",
   "metadata": {},
   "outputs": [],
   "source": []
  },
  {
   "cell_type": "code",
   "execution_count": null,
   "id": "596ba34a-f091-4c9e-b076-6dafd025cdb0",
   "metadata": {},
   "outputs": [],
   "source": []
  },
  {
   "cell_type": "code",
   "execution_count": null,
   "id": "064e7976-ef57-456d-b449-5e48d65f85cc",
   "metadata": {},
   "outputs": [],
   "source": []
  },
  {
   "cell_type": "code",
   "execution_count": null,
   "id": "0e15f9ba-e560-4b33-9a06-74ad2f91dba3",
   "metadata": {},
   "outputs": [],
   "source": []
  },
  {
   "cell_type": "code",
   "execution_count": null,
   "id": "13918633-383c-4434-bdbe-8b8a8489af91",
   "metadata": {},
   "outputs": [],
   "source": []
  },
  {
   "cell_type": "code",
   "execution_count": null,
   "id": "6b92cb27-b494-4868-a65f-d049641cc8cf",
   "metadata": {},
   "outputs": [],
   "source": []
  },
  {
   "cell_type": "code",
   "execution_count": 1,
   "id": "b5b7dedc-a033-44d8-90ee-20f1a70138c9",
   "metadata": {},
   "outputs": [
    {
     "name": "stderr",
     "output_type": "stream",
     "text": [
      "/home/jjwhit/rcGAN/fastmri/__init__.py:16: UserWarning: Could not retrieve fastmri version!\n",
      "  warnings.warn(\"Could not retrieve fastmri version!\")\n"
     ]
    }
   ],
   "source": [
    "import torch\n",
    "import os\n",
    "import yaml\n",
    "import types\n",
    "import json\n",
    "import numpy as np\n",
    "\n",
    "import sys\n",
    "dir = '/home/jjwhit/rcGAN/'\n",
    "sys.path.append(dir)\n",
    "\n",
    "from data.lightning.MassMappingDataModule import MMDataModule\n",
    "from utils.parse_args import create_arg_parser\n",
    "from models.lightning.mmGAN import mmGAN\n",
    "from pytorch_lightning import seed_everything\n",
    "from utils.embeddings import VGG16Embedding\n",
    "from evaluation_scripts.mass_map_cfid.cfid_metric import CFIDMetric"
   ]
  },
  {
   "cell_type": "code",
   "execution_count": 2,
   "id": "d11d5926-07aa-458f-a276-31df96ee8d5f",
   "metadata": {},
   "outputs": [],
   "source": [
    "device = torch.device(\"cuda:0\" if torch.cuda.is_available() else \"cpu\")"
   ]
  },
  {
   "cell_type": "code",
   "execution_count": 3,
   "id": "d2cb73a8-f961-4df3-bc98-ff529a3a72d3",
   "metadata": {},
   "outputs": [],
   "source": [
    "def load_object(dct):\n",
    "    return types.SimpleNamespace(**dct)"
   ]
  },
  {
   "cell_type": "code",
   "execution_count": 4,
   "id": "afbe128c-354f-4087-949f-81dfc2c80da4",
   "metadata": {},
   "outputs": [],
   "source": [
    "torch.set_float32_matmul_precision('medium')\n",
    "# seed_everything(1, workers=True)\n",
    "\n",
    "with open(dir+'configs/mass_map.yml', 'r') as f:\n",
    "    cfg = yaml.load(f, Loader=yaml.FullLoader)\n",
    "    cfg = json.loads(json.dumps(cfg), object_hook=load_object)"
   ]
  },
  {
   "cell_type": "code",
   "execution_count": 5,
   "id": "bf6bf929-e2e0-4144-a2d0-8735c558368d",
   "metadata": {
    "scrolled": true
   },
   "outputs": [
    {
     "name": "stderr",
     "output_type": "stream",
     "text": [
      "/home/jjwhit/.conda/envs/cGAN/lib/python3.8/site-packages/torchvision/models/_utils.py:208: UserWarning: The parameter 'pretrained' is deprecated since 0.13 and may be removed in the future, please use 'weights' instead.\n",
      "  warnings.warn(\n",
      "/home/jjwhit/.conda/envs/cGAN/lib/python3.8/site-packages/torchvision/models/_utils.py:223: UserWarning: Arguments other than a weight enum or `None` for 'weights' are deprecated since 0.13 and may be removed in the future. The current behavior is equivalent to passing `weights=VGG16_Weights.IMAGENET1K_V1`. You can also use `weights=VGG16_Weights.DEFAULT` to get the most up-to-date weights.\n",
      "  warnings.warn(msg)\n"
     ]
    },
    {
     "name": "stdout",
     "output_type": "stream",
     "text": [
      "Sequential(\n",
      "  (0): Linear(in_features=25088, out_features=4096, bias=True)\n",
      "  (1): ReLU(inplace=True)\n",
      ")\n"
     ]
    }
   ],
   "source": [
    "dm = MMDataModule(cfg)\n",
    "dm.setup()\n",
    "val_loader = dm.val_dataloader()\n",
    "best_epoch = -1\n",
    "inception_embedding = VGG16Embedding()\n",
    "best_cfid = 10000000\n",
    "start_epoch = 80 #Will start saving models after 70 epochs\n",
    "end_epoch = 100"
   ]
  },
  {
   "cell_type": "code",
   "execution_count": null,
   "id": "ac110024-0d5e-4476-b0d6-b44c837ad145",
   "metadata": {},
   "outputs": [
    {
     "name": "stdout",
     "output_type": "stream",
     "text": [
      "VALIDATING EPOCH: 80\n"
     ]
    },
    {
     "name": "stderr",
     "output_type": "stream",
     "text": [
      "Computing generated distribution:   2%|▏         | 1/55 [00:03<03:35,  3.99s/it]"
     ]
    },
    {
     "name": "stdout",
     "output_type": "stream",
     "text": [
      "torch.Size([1, 300, 300, 2])\n",
      "torch.Size([1, 300, 300, 2])\n",
      "torch.Size([1, 300, 300, 2])\n",
      "torch.Size([1, 300, 300, 2])\n",
      "torch.Size([1, 300, 300, 2])\n",
      "torch.Size([1, 300, 300, 2])\n",
      "torch.Size([1, 300, 300, 2])\n",
      "torch.Size([1, 300, 300, 2])\n",
      "torch.Size([1, 300, 300, 2])\n",
      "torch.Size([1, 300, 300, 2])\n",
      "torch.Size([1, 300, 300, 2])\n",
      "torch.Size([1, 300, 300, 2])\n",
      "torch.Size([1, 300, 300, 2])\n",
      "torch.Size([1, 300, 300, 2])\n",
      "torch.Size([1, 300, 300, 2])\n",
      "torch.Size([1, 300, 300, 2])\n",
      "torch.Size([1, 300, 300, 2])\n",
      "torch.Size([1, 300, 300, 2])\n"
     ]
    },
    {
     "name": "stderr",
     "output_type": "stream",
     "text": [
      "Computing generated distribution:   5%|▌         | 3/55 [00:04<00:57,  1.10s/it]"
     ]
    },
    {
     "name": "stdout",
     "output_type": "stream",
     "text": [
      "torch.Size([1, 300, 300, 2])\n",
      "torch.Size([1, 300, 300, 2])\n",
      "torch.Size([1, 300, 300, 2])\n",
      "torch.Size([1, 300, 300, 2])\n",
      "torch.Size([1, 300, 300, 2])\n",
      "torch.Size([1, 300, 300, 2])\n",
      "torch.Size([1, 300, 300, 2])\n",
      "torch.Size([1, 300, 300, 2])\n",
      "torch.Size([1, 300, 300, 2])\n"
     ]
    },
    {
     "name": "stderr",
     "output_type": "stream",
     "text": [
      "Computing generated distribution:   7%|▋         | 4/55 [00:04<00:38,  1.32it/s]"
     ]
    },
    {
     "name": "stdout",
     "output_type": "stream",
     "text": [
      "torch.Size([1, 300, 300, 2])\n",
      "torch.Size([1, 300, 300, 2])\n",
      "torch.Size([1, 300, 300, 2])\n",
      "torch.Size([1, 300, 300, 2])\n",
      "torch.Size([1, 300, 300, 2])\n",
      "torch.Size([1, 300, 300, 2])\n",
      "torch.Size([1, 300, 300, 2])\n",
      "torch.Size([1, 300, 300, 2])\n",
      "torch.Size([1, 300, 300, 2])\n"
     ]
    },
    {
     "name": "stderr",
     "output_type": "stream",
     "text": [
      "Computing generated distribution:   9%|▉         | 5/55 [00:05<00:30,  1.66it/s]"
     ]
    },
    {
     "name": "stdout",
     "output_type": "stream",
     "text": [
      "torch.Size([1, 300, 300, 2])\n",
      "torch.Size([1, 300, 300, 2])\n",
      "torch.Size([1, 300, 300, 2])\n",
      "torch.Size([1, 300, 300, 2])\n",
      "torch.Size([1, 300, 300, 2])\n",
      "torch.Size([1, 300, 300, 2])\n",
      "torch.Size([1, 300, 300, 2])\n",
      "torch.Size([1, 300, 300, 2])\n",
      "torch.Size([1, 300, 300, 2])\n",
      "torch.Size([1, 300, 300, 2])\n",
      "torch.Size([1, 300, 300, 2])\n",
      "torch.Size([1, 300, 300, 2])\n",
      "torch.Size([1, 300, 300, 2])\n",
      "torch.Size([1, 300, 300, 2])\n",
      "torch.Size([1, 300, 300, 2])\n",
      "torch.Size([1, 300, 300, 2])\n",
      "torch.Size([1, 300, 300, 2])\n",
      "torch.Size([1, 300, 300, 2])\n"
     ]
    },
    {
     "name": "stderr",
     "output_type": "stream",
     "text": [
      "Computing generated distribution:  11%|█         | 6/55 [00:05<00:22,  2.14it/s]"
     ]
    }
   ],
   "source": [
    "    with torch.no_grad():\n",
    "        \n",
    "        for epoch in range(start_epoch, end_epoch):\n",
    "            print(f\"VALIDATING EPOCH: {epoch}\")\n",
    "            try:\n",
    "                model = mmGAN.load_from_checkpoint(checkpoint_path='/share/gpu0/jjwhit/mass_map/mm_models/mmgan_training_3' + f'/checkpoint-epoch={epoch}.ckpt')\n",
    "            except Exception as e:\n",
    "                print(e)\n",
    "                continue\n",
    "\n",
    "            if model.is_good_model == 0:\n",
    "                print(\"NO GOOD: SKIPPING...\")\n",
    "                continue\n",
    "\n",
    "            model = model.cuda()\n",
    "            model.eval()\n",
    "\n",
    "            cfid_metric = CFIDMetric(\n",
    "                gan=model,\n",
    "                loader=val_loader,\n",
    "                image_embedding=inception_embedding,\n",
    "                condition_embedding=inception_embedding,\n",
    "                cuda=True,\n",
    "                args=cfg,\n",
    "                ref_loader=False,\n",
    "                num_samps=1\n",
    "            )\n",
    "\n",
    "            cfids = cfid_metric.get_cfid_torch_pinv()\n",
    "\n",
    "            cfid_val = np.mean(cfids)\n",
    "\n",
    "            if cfid_val < best_cfid:\n",
    "                best_epoch = epoch\n",
    "                best_cfid = cfid_val"
   ]
  },
  {
   "cell_type": "code",
   "execution_count": null,
   "id": "08bec8f0-46bc-46fe-8d35-e9827cc9eb44",
   "metadata": {},
   "outputs": [],
   "source": []
  }
 ],
 "metadata": {
  "kernelspec": {
   "display_name": "cGAN",
   "language": "python",
   "name": "cgan"
  },
  "language_info": {
   "codemirror_mode": {
    "name": "ipython",
    "version": 3
   },
   "file_extension": ".py",
   "mimetype": "text/x-python",
   "name": "python",
   "nbconvert_exporter": "python",
   "pygments_lexer": "ipython3",
   "version": "3.8.16"
  }
 },
 "nbformat": 4,
 "nbformat_minor": 5
}
