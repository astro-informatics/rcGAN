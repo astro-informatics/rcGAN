{
 "cells": [
  {
   "cell_type": "code",
   "execution_count": 2,
   "id": "e7fd3402-5307-4545-8f2b-96afb6e73b0e",
   "metadata": {},
   "outputs": [],
   "source": [
    "import sys\n",
    "sys.path.append('/home/jjwhit/rcGAN/')"
   ]
  },
  {
   "cell_type": "code",
   "execution_count": 3,
   "id": "5754d92b-cfe6-4399-963d-4203541616ae",
   "metadata": {},
   "outputs": [
    {
     "name": "stderr",
     "output_type": "stream",
     "text": [
      "/home/jjwhit/rcGAN/fastmri/__init__.py:16: UserWarning: Could not retrieve fastmri version!\n",
      "  warnings.warn(\"Could not retrieve fastmri version!\")\n"
     ]
    }
   ],
   "source": [
    "import torch\n",
    "import yaml\n",
    "import types\n",
    "import json\n",
    "\n",
    "import numpy as np\n",
    "import matplotlib.patches as patches\n",
    "\n",
    "from data.lightning.MassMappingDataModule import MMDataModule\n",
    "from utils.parse_args import create_arg_parser\n",
    "from pytorch_lightning import seed_everything\n",
    "from models.lightning.mmGAN import mmGAN\n",
    "from utils.mri.math import tensor_to_complex_np\n",
    "import matplotlib.pyplot as plt\n",
    "from matplotlib import gridspec\n",
    "from scipy import ndimage"
   ]
  },
  {
   "cell_type": "code",
   "execution_count": 4,
   "id": "3e6282f5-ac84-45c2-911c-0c61e7d42f3c",
   "metadata": {},
   "outputs": [],
   "source": [
    "# Import model here\n",
    "test_plot_model = mmGAN.load_from_checkpoint('/share/gpu0/jjwhit/mass_map/mm_models/mmgan_training_8/checkpoint-epoch=61.ckpt')"
   ]
  },
  {
   "cell_type": "code",
   "execution_count": 11,
   "id": "8e69351c-c1a7-4037-af0f-2381edba6c84",
   "metadata": {
    "scrolled": true
   },
   "outputs": [
    {
     "name": "stderr",
     "output_type": "stream",
     "text": [
      "[rank: 0] Global seed set to 1\n"
     ]
    },
    {
     "name": "stdout",
     "output_type": "stream",
     "text": [
      "Sequential(\n",
      "  (0): Linear(in_features=25088, out_features=4096, bias=True)\n",
      "  (1): ReLU(inplace=True)\n",
      ")\n",
      "VALIDATING EPOCH: 1\n",
      "NO GOOD: SKIPPING...\n",
      "VALIDATING EPOCH: 2\n",
      "NO GOOD: SKIPPING...\n",
      "VALIDATING EPOCH: 3\n",
      "NO GOOD: SKIPPING...\n",
      "VALIDATING EPOCH: 4\n",
      "NO GOOD: SKIPPING...\n",
      "VALIDATING EPOCH: 5\n",
      "NO GOOD: SKIPPING...\n",
      "VALIDATING EPOCH: 6\n",
      "NO GOOD: SKIPPING...\n",
      "VALIDATING EPOCH: 7\n",
      "NO GOOD: SKIPPING...\n",
      "VALIDATING EPOCH: 8\n",
      "NO GOOD: SKIPPING...\n",
      "VALIDATING EPOCH: 9\n",
      "NO GOOD: SKIPPING...\n",
      "VALIDATING EPOCH: 10\n",
      "NO GOOD: SKIPPING...\n",
      "VALIDATING EPOCH: 11\n",
      "NO GOOD: SKIPPING...\n",
      "VALIDATING EPOCH: 12\n",
      "NO GOOD: SKIPPING...\n",
      "VALIDATING EPOCH: 13\n",
      "NO GOOD: SKIPPING...\n",
      "VALIDATING EPOCH: 14\n",
      "NO GOOD: SKIPPING...\n",
      "VALIDATING EPOCH: 15\n",
      "NO GOOD: SKIPPING...\n",
      "VALIDATING EPOCH: 16\n",
      "NO GOOD: SKIPPING...\n",
      "VALIDATING EPOCH: 17\n",
      "NO GOOD: SKIPPING...\n",
      "VALIDATING EPOCH: 18\n",
      "NO GOOD: SKIPPING...\n",
      "VALIDATING EPOCH: 19\n",
      "NO GOOD: SKIPPING...\n",
      "VALIDATING EPOCH: 20\n",
      "NO GOOD: SKIPPING...\n",
      "VALIDATING EPOCH: 21\n",
      "[Errno 2] No such file or directory: '/share/gpu0/jjwhit/mass_map/mm_models/mmgan_training_8/checkpoint-epoch=20.ckpt'\n",
      "VALIDATING EPOCH: 22\n",
      "[Errno 2] No such file or directory: '/share/gpu0/jjwhit/mass_map/mm_models/mmgan_training_8/checkpoint-epoch=21.ckpt'\n",
      "VALIDATING EPOCH: 23\n",
      "[Errno 2] No such file or directory: '/share/gpu0/jjwhit/mass_map/mm_models/mmgan_training_8/checkpoint-epoch=22.ckpt'\n",
      "VALIDATING EPOCH: 24\n",
      "[Errno 2] No such file or directory: '/share/gpu0/jjwhit/mass_map/mm_models/mmgan_training_8/checkpoint-epoch=23.ckpt'\n",
      "VALIDATING EPOCH: 25\n",
      "[Errno 2] No such file or directory: '/share/gpu0/jjwhit/mass_map/mm_models/mmgan_training_8/checkpoint-epoch=24.ckpt'\n",
      "VALIDATING EPOCH: 26\n",
      "[Errno 2] No such file or directory: '/share/gpu0/jjwhit/mass_map/mm_models/mmgan_training_8/checkpoint-epoch=25.ckpt'\n",
      "VALIDATING EPOCH: 27\n",
      "[Errno 2] No such file or directory: '/share/gpu0/jjwhit/mass_map/mm_models/mmgan_training_8/checkpoint-epoch=26.ckpt'\n",
      "VALIDATING EPOCH: 28\n",
      "[Errno 2] No such file or directory: '/share/gpu0/jjwhit/mass_map/mm_models/mmgan_training_8/checkpoint-epoch=27.ckpt'\n",
      "VALIDATING EPOCH: 29\n",
      "[Errno 2] No such file or directory: '/share/gpu0/jjwhit/mass_map/mm_models/mmgan_training_8/checkpoint-epoch=28.ckpt'\n",
      "VALIDATING EPOCH: 30\n",
      "[Errno 2] No such file or directory: '/share/gpu0/jjwhit/mass_map/mm_models/mmgan_training_8/checkpoint-epoch=29.ckpt'\n",
      "VALIDATING EPOCH: 31\n",
      "[Errno 2] No such file or directory: '/share/gpu0/jjwhit/mass_map/mm_models/mmgan_training_8/checkpoint-epoch=30.ckpt'\n",
      "VALIDATING EPOCH: 32\n",
      "[Errno 2] No such file or directory: '/share/gpu0/jjwhit/mass_map/mm_models/mmgan_training_8/checkpoint-epoch=31.ckpt'\n",
      "VALIDATING EPOCH: 33\n",
      "[Errno 2] No such file or directory: '/share/gpu0/jjwhit/mass_map/mm_models/mmgan_training_8/checkpoint-epoch=32.ckpt'\n",
      "VALIDATING EPOCH: 34\n",
      "[Errno 2] No such file or directory: '/share/gpu0/jjwhit/mass_map/mm_models/mmgan_training_8/checkpoint-epoch=33.ckpt'\n",
      "VALIDATING EPOCH: 35\n",
      "[Errno 2] No such file or directory: '/share/gpu0/jjwhit/mass_map/mm_models/mmgan_training_8/checkpoint-epoch=34.ckpt'\n",
      "VALIDATING EPOCH: 36\n",
      "[Errno 2] No such file or directory: '/share/gpu0/jjwhit/mass_map/mm_models/mmgan_training_8/checkpoint-epoch=35.ckpt'\n",
      "VALIDATING EPOCH: 37\n",
      "[Errno 2] No such file or directory: '/share/gpu0/jjwhit/mass_map/mm_models/mmgan_training_8/checkpoint-epoch=36.ckpt'\n",
      "VALIDATING EPOCH: 38\n",
      "[Errno 2] No such file or directory: '/share/gpu0/jjwhit/mass_map/mm_models/mmgan_training_8/checkpoint-epoch=37.ckpt'\n",
      "VALIDATING EPOCH: 39\n",
      "[Errno 2] No such file or directory: '/share/gpu0/jjwhit/mass_map/mm_models/mmgan_training_8/checkpoint-epoch=38.ckpt'\n",
      "VALIDATING EPOCH: 40\n",
      "[Errno 2] No such file or directory: '/share/gpu0/jjwhit/mass_map/mm_models/mmgan_training_8/checkpoint-epoch=39.ckpt'\n",
      "VALIDATING EPOCH: 41\n",
      "[Errno 2] No such file or directory: '/share/gpu0/jjwhit/mass_map/mm_models/mmgan_training_8/checkpoint-epoch=40.ckpt'\n",
      "VALIDATING EPOCH: 42\n",
      "[Errno 2] No such file or directory: '/share/gpu0/jjwhit/mass_map/mm_models/mmgan_training_8/checkpoint-epoch=41.ckpt'\n",
      "VALIDATING EPOCH: 43\n"
     ]
    },
    {
     "name": "stderr",
     "output_type": "stream",
     "text": [
      "Computing generated distribution: 100%|██████████| 55/55 [00:30<00:00,  1.79it/s]\n"
     ]
    },
    {
     "name": "stdout",
     "output_type": "stream",
     "text": [
      "VALIDATING EPOCH: 44\n"
     ]
    },
    {
     "name": "stderr",
     "output_type": "stream",
     "text": [
      "Computing generated distribution: 100%|██████████| 55/55 [00:29<00:00,  1.85it/s]\n"
     ]
    },
    {
     "name": "stdout",
     "output_type": "stream",
     "text": [
      "VALIDATING EPOCH: 45\n"
     ]
    },
    {
     "name": "stderr",
     "output_type": "stream",
     "text": [
      "Computing generated distribution: 100%|██████████| 55/55 [00:29<00:00,  1.89it/s]\n"
     ]
    },
    {
     "name": "stdout",
     "output_type": "stream",
     "text": [
      "VALIDATING EPOCH: 46\n"
     ]
    },
    {
     "name": "stderr",
     "output_type": "stream",
     "text": [
      "Computing generated distribution: 100%|██████████| 55/55 [00:29<00:00,  1.86it/s]\n"
     ]
    },
    {
     "name": "stdout",
     "output_type": "stream",
     "text": [
      "VALIDATING EPOCH: 47\n"
     ]
    },
    {
     "name": "stderr",
     "output_type": "stream",
     "text": [
      "Computing generated distribution: 100%|██████████| 55/55 [00:29<00:00,  1.89it/s]\n"
     ]
    },
    {
     "name": "stdout",
     "output_type": "stream",
     "text": [
      "VALIDATING EPOCH: 48\n"
     ]
    },
    {
     "name": "stderr",
     "output_type": "stream",
     "text": [
      "Computing generated distribution: 100%|██████████| 55/55 [00:29<00:00,  1.89it/s]\n"
     ]
    },
    {
     "name": "stdout",
     "output_type": "stream",
     "text": [
      "VALIDATING EPOCH: 49\n",
      "NO GOOD: SKIPPING...\n",
      "VALIDATING EPOCH: 50\n"
     ]
    },
    {
     "name": "stderr",
     "output_type": "stream",
     "text": [
      "Computing generated distribution: 100%|██████████| 55/55 [00:27<00:00,  2.03it/s]\n"
     ]
    },
    {
     "name": "stdout",
     "output_type": "stream",
     "text": [
      "VALIDATING EPOCH: 51\n"
     ]
    },
    {
     "name": "stderr",
     "output_type": "stream",
     "text": [
      "Computing generated distribution: 100%|██████████| 55/55 [00:29<00:00,  1.84it/s]\n"
     ]
    },
    {
     "name": "stdout",
     "output_type": "stream",
     "text": [
      "VALIDATING EPOCH: 52\n",
      "NO GOOD: SKIPPING...\n",
      "VALIDATING EPOCH: 53\n"
     ]
    },
    {
     "name": "stderr",
     "output_type": "stream",
     "text": [
      "Computing generated distribution: 100%|██████████| 55/55 [00:29<00:00,  1.84it/s]\n"
     ]
    },
    {
     "name": "stdout",
     "output_type": "stream",
     "text": [
      "VALIDATING EPOCH: 54\n"
     ]
    },
    {
     "name": "stderr",
     "output_type": "stream",
     "text": [
      "Computing generated distribution: 100%|██████████| 55/55 [00:28<00:00,  1.91it/s]\n"
     ]
    },
    {
     "name": "stdout",
     "output_type": "stream",
     "text": [
      "VALIDATING EPOCH: 55\n"
     ]
    },
    {
     "name": "stderr",
     "output_type": "stream",
     "text": [
      "Computing generated distribution: 100%|██████████| 55/55 [00:29<00:00,  1.84it/s]\n"
     ]
    },
    {
     "name": "stdout",
     "output_type": "stream",
     "text": [
      "VALIDATING EPOCH: 56\n"
     ]
    },
    {
     "name": "stderr",
     "output_type": "stream",
     "text": [
      "Computing generated distribution: 100%|██████████| 55/55 [00:27<00:00,  1.98it/s]\n"
     ]
    },
    {
     "name": "stdout",
     "output_type": "stream",
     "text": [
      "VALIDATING EPOCH: 57\n",
      "NO GOOD: SKIPPING...\n",
      "VALIDATING EPOCH: 58\n"
     ]
    },
    {
     "name": "stderr",
     "output_type": "stream",
     "text": [
      "Computing generated distribution: 100%|██████████| 55/55 [00:29<00:00,  1.88it/s]\n"
     ]
    },
    {
     "name": "stdout",
     "output_type": "stream",
     "text": [
      "VALIDATING EPOCH: 59\n"
     ]
    },
    {
     "name": "stderr",
     "output_type": "stream",
     "text": [
      "Computing generated distribution: 100%|██████████| 55/55 [00:28<00:00,  1.94it/s]\n"
     ]
    },
    {
     "name": "stdout",
     "output_type": "stream",
     "text": [
      "VALIDATING EPOCH: 60\n"
     ]
    },
    {
     "name": "stderr",
     "output_type": "stream",
     "text": [
      "Computing generated distribution: 100%|██████████| 55/55 [00:29<00:00,  1.84it/s]\n"
     ]
    },
    {
     "name": "stdout",
     "output_type": "stream",
     "text": [
      "VALIDATING EPOCH: 61\n"
     ]
    },
    {
     "name": "stderr",
     "output_type": "stream",
     "text": [
      "Computing generated distribution: 100%|██████████| 55/55 [00:28<00:00,  1.95it/s]\n"
     ]
    },
    {
     "name": "stdout",
     "output_type": "stream",
     "text": [
      "VALIDATING EPOCH: 62\n"
     ]
    },
    {
     "name": "stderr",
     "output_type": "stream",
     "text": [
      "Computing generated distribution: 100%|██████████| 55/55 [00:29<00:00,  1.89it/s]\n"
     ]
    },
    {
     "name": "stdout",
     "output_type": "stream",
     "text": [
      "BEST EPOCH: 43\n"
     ]
    }
   ],
   "source": [
    "%run /home/jjwhit/rcGAN/scripts/mass_map/validate.py --exp-name mmgan_training_8"
   ]
  },
  {
   "cell_type": "code",
   "execution_count": 14,
   "id": "9e7c18f1-4285-49ee-9c81-3b3b54629cfd",
   "metadata": {},
   "outputs": [
    {
     "name": "stderr",
     "output_type": "stream",
     "text": [
      "[rank: 0] Global seed set to 1\n",
      "/home/jjwhit/.conda/envs/cGAN/lib/python3.8/site-packages/torchvision/models/_utils.py:223: UserWarning: Arguments other than a weight enum or `None` for 'weights' are deprecated since 0.13 and may be removed in the future. The current behavior is equivalent to passing `weights=AlexNet_Weights.IMAGENET1K_V1`. You can also use `weights=AlexNet_Weights.DEFAULT` to get the most up-to-date weights.\n",
      "  warnings.warn(msg)\n"
     ]
    },
    {
     "name": "stdout",
     "output_type": "stream",
     "text": [
      "Setting up [LPIPS] perceptual loss: trunk [alex], v[0.1], spatial [off]\n",
      "Loading model from: /home/jjwhit/.conda/envs/cGAN/lib/python3.8/site-packages/lpips/weights/v0.1/alex.pth\n",
      "\n",
      "\n",
      "1 SAMPLES\n",
      "Unexpected exception formatting exception. Falling back to standard exception\n"
     ]
    },
    {
     "name": "stderr",
     "output_type": "stream",
     "text": [
      "Traceback (most recent call last):\n",
      "  File \"/home/jjwhit/.conda/envs/cGAN/lib/python3.8/site-packages/IPython/core/interactiveshell.py\", line 2863, in safe_execfile\n",
      "    py3compat.execfile(\n",
      "  File \"/home/jjwhit/.conda/envs/cGAN/lib/python3.8/site-packages/IPython/utils/py3compat.py\", line 55, in execfile\n",
      "    exec(compiler(f.read(), fname, \"exec\"), glob, loc)\n",
      "  File \"/home/jjwhit/rcGAN/scripts/mass_map/test.py\", line 118, in <module>\n",
      "    distss.append(dists_met(rgb(gt_np, unit_norm=True), rgb(avg_gen_np, unit_norm=True)).numpy())\n",
      "  File \"/home/jjwhit/.conda/envs/cGAN/lib/python3.8/site-packages/torch/nn/modules/module.py\", line 1194, in _call_impl\n",
      "    return forward_call(*input, **kwargs)\n",
      "  File \"/home/jjwhit/.conda/envs/cGAN/lib/python3.8/site-packages/DISTS_pytorch/DISTS_pt.py\", line 88, in forward\n",
      "    feats1 = self.forward_once(y)\n",
      "  File \"/home/jjwhit/.conda/envs/cGAN/lib/python3.8/site-packages/DISTS_pytorch/DISTS_pt.py\", line 73, in forward_once\n",
      "    h = self.stage3(h)\n",
      "  File \"/home/jjwhit/.conda/envs/cGAN/lib/python3.8/site-packages/torch/nn/modules/module.py\", line 1194, in _call_impl\n",
      "    return forward_call(*input, **kwargs)\n",
      "  File \"/home/jjwhit/.conda/envs/cGAN/lib/python3.8/site-packages/torch/nn/modules/container.py\", line 204, in forward\n",
      "    input = module(input)\n",
      "  File \"/home/jjwhit/.conda/envs/cGAN/lib/python3.8/site-packages/torch/nn/modules/module.py\", line 1194, in _call_impl\n",
      "    return forward_call(*input, **kwargs)\n",
      "  File \"/home/jjwhit/.conda/envs/cGAN/lib/python3.8/site-packages/torch/nn/modules/conv.py\", line 463, in forward\n",
      "    return self._conv_forward(input, self.weight, self.bias)\n",
      "  File \"/home/jjwhit/.conda/envs/cGAN/lib/python3.8/site-packages/torch/nn/modules/conv.py\", line 459, in _conv_forward\n",
      "    return F.conv2d(input, weight, bias, self.stride,\n",
      "KeyboardInterrupt\n",
      "\n",
      "During handling of the above exception, another exception occurred:\n",
      "\n",
      "Traceback (most recent call last):\n",
      "  File \"/home/jjwhit/.conda/envs/cGAN/lib/python3.8/site-packages/IPython/core/interactiveshell.py\", line 2102, in showtraceback\n",
      "    stb = self.InteractiveTB.structured_traceback(\n",
      "  File \"/home/jjwhit/.conda/envs/cGAN/lib/python3.8/site-packages/IPython/core/ultratb.py\", line 1310, in structured_traceback\n",
      "    return FormattedTB.structured_traceback(\n",
      "  File \"/home/jjwhit/.conda/envs/cGAN/lib/python3.8/site-packages/IPython/core/ultratb.py\", line 1199, in structured_traceback\n",
      "    return VerboseTB.structured_traceback(\n",
      "  File \"/home/jjwhit/.conda/envs/cGAN/lib/python3.8/site-packages/IPython/core/ultratb.py\", line 1052, in structured_traceback\n",
      "    formatted_exception = self.format_exception_as_a_whole(etype, evalue, etb, number_of_lines_of_context,\n",
      "  File \"/home/jjwhit/.conda/envs/cGAN/lib/python3.8/site-packages/IPython/core/ultratb.py\", line 978, in format_exception_as_a_whole\n",
      "    frames.append(self.format_record(record))\n",
      "  File \"/home/jjwhit/.conda/envs/cGAN/lib/python3.8/site-packages/IPython/core/ultratb.py\", line 878, in format_record\n",
      "    frame_info.lines, Colors, self.has_colors, lvals\n",
      "  File \"/home/jjwhit/.conda/envs/cGAN/lib/python3.8/site-packages/IPython/core/ultratb.py\", line 712, in lines\n",
      "    return self._sd.lines\n",
      "  File \"/home/jjwhit/.conda/envs/cGAN/lib/python3.8/site-packages/stack_data/utils.py\", line 145, in cached_property_wrapper\n",
      "    value = obj.__dict__[self.func.__name__] = self.func(obj)\n",
      "  File \"/home/jjwhit/.conda/envs/cGAN/lib/python3.8/site-packages/stack_data/core.py\", line 698, in lines\n",
      "    pieces = self.included_pieces\n",
      "  File \"/home/jjwhit/.conda/envs/cGAN/lib/python3.8/site-packages/stack_data/utils.py\", line 145, in cached_property_wrapper\n",
      "    value = obj.__dict__[self.func.__name__] = self.func(obj)\n",
      "  File \"/home/jjwhit/.conda/envs/cGAN/lib/python3.8/site-packages/stack_data/core.py\", line 649, in included_pieces\n",
      "    pos = scope_pieces.index(self.executing_piece)\n",
      "  File \"/home/jjwhit/.conda/envs/cGAN/lib/python3.8/site-packages/stack_data/utils.py\", line 145, in cached_property_wrapper\n",
      "    value = obj.__dict__[self.func.__name__] = self.func(obj)\n",
      "  File \"/home/jjwhit/.conda/envs/cGAN/lib/python3.8/site-packages/stack_data/core.py\", line 628, in executing_piece\n",
      "    return only(\n",
      "  File \"/home/jjwhit/.conda/envs/cGAN/lib/python3.8/site-packages/executing/executing.py\", line 164, in only\n",
      "    raise NotOneValueFound('Expected one value, found 0')\n",
      "executing.executing.NotOneValueFound: Expected one value, found 0\n"
     ]
    }
   ],
   "source": [
    "%run /home/jjwhit/rcGAN/scripts/mass_map/test.py --exp-name mmgan_training_8 --num-figs 10"
   ]
  },
  {
   "cell_type": "code",
   "execution_count": null,
   "id": "e8a05c46-25a9-40a0-8862-786d96086a7b",
   "metadata": {},
   "outputs": [],
   "source": []
  },
  {
   "cell_type": "code",
   "execution_count": null,
   "id": "596ba34a-f091-4c9e-b076-6dafd025cdb0",
   "metadata": {},
   "outputs": [],
   "source": []
  },
  {
   "cell_type": "code",
   "execution_count": null,
   "id": "064e7976-ef57-456d-b449-5e48d65f85cc",
   "metadata": {},
   "outputs": [],
   "source": []
  },
  {
   "cell_type": "code",
   "execution_count": null,
   "id": "0e15f9ba-e560-4b33-9a06-74ad2f91dba3",
   "metadata": {},
   "outputs": [],
   "source": []
  },
  {
   "cell_type": "code",
   "execution_count": null,
   "id": "13918633-383c-4434-bdbe-8b8a8489af91",
   "metadata": {},
   "outputs": [],
   "source": []
  },
  {
   "cell_type": "code",
   "execution_count": null,
   "id": "6b92cb27-b494-4868-a65f-d049641cc8cf",
   "metadata": {},
   "outputs": [],
   "source": []
  },
  {
   "cell_type": "code",
   "execution_count": null,
   "id": "b5b7dedc-a033-44d8-90ee-20f1a70138c9",
   "metadata": {},
   "outputs": [],
   "source": []
  },
  {
   "cell_type": "code",
   "execution_count": null,
   "id": "d2cb73a8-f961-4df3-bc98-ff529a3a72d3",
   "metadata": {},
   "outputs": [],
   "source": []
  },
  {
   "cell_type": "code",
   "execution_count": null,
   "id": "afbe128c-354f-4087-949f-81dfc2c80da4",
   "metadata": {},
   "outputs": [],
   "source": []
  }
 ],
 "metadata": {
  "kernelspec": {
   "display_name": "cGAN",
   "language": "python",
   "name": "cgan"
  },
  "language_info": {
   "codemirror_mode": {
    "name": "ipython",
    "version": 3
   },
   "file_extension": ".py",
   "mimetype": "text/x-python",
   "name": "python",
   "nbconvert_exporter": "python",
   "pygments_lexer": "ipython3",
   "version": "3.8.16"
  }
 },
 "nbformat": 4,
 "nbformat_minor": 5
}
